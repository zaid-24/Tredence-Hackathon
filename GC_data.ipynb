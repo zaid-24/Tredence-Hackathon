{
  "cells": [
    {
      "cell_type": "code",
      "execution_count": 1,
      "metadata": {
        "colab": {
          "base_uri": "https://localhost:8080/"
        },
        "id": "8xKw0hoY62d1",
        "outputId": "eb8cd957-2683-4cc7-e82b-3b983193ca5f"
      },
      "outputs": [
        {
          "name": "stdout",
          "output_type": "stream",
          "text": [
            "Requirement already satisfied: sentence_transformers in c:\\users\\dell\\appdata\\local\\programs\\python\\python311\\lib\\site-packages (2.5.1)\n",
            "Requirement already satisfied: transformers<5.0.0,>=4.32.0 in c:\\users\\dell\\appdata\\local\\programs\\python\\python311\\lib\\site-packages (from sentence_transformers) (4.36.2)\n",
            "Requirement already satisfied: tqdm in c:\\users\\dell\\appdata\\local\\programs\\python\\python311\\lib\\site-packages (from sentence_transformers) (4.66.2)\n",
            "Requirement already satisfied: torch>=1.11.0 in c:\\users\\dell\\appdata\\local\\programs\\python\\python311\\lib\\site-packages (from sentence_transformers) (2.1.2+cu121)\n",
            "Requirement already satisfied: numpy in c:\\users\\dell\\appdata\\local\\programs\\python\\python311\\lib\\site-packages (from sentence_transformers) (1.26.3)\n",
            "Requirement already satisfied: scikit-learn in c:\\users\\dell\\appdata\\local\\programs\\python\\python311\\lib\\site-packages (from sentence_transformers) (1.3.2)\n",
            "Requirement already satisfied: scipy in c:\\users\\dell\\appdata\\local\\programs\\python\\python311\\lib\\site-packages (from sentence_transformers) (1.11.4)\n",
            "Requirement already satisfied: huggingface-hub>=0.15.1 in c:\\users\\dell\\appdata\\local\\programs\\python\\python311\\lib\\site-packages (from sentence_transformers) (0.20.2)\n",
            "Requirement already satisfied: Pillow in c:\\users\\dell\\appdata\\local\\programs\\python\\python311\\lib\\site-packages (from sentence_transformers) (10.2.0)\n",
            "Requirement already satisfied: filelock in c:\\users\\dell\\appdata\\local\\programs\\python\\python311\\lib\\site-packages (from huggingface-hub>=0.15.1->sentence_transformers) (3.13.1)\n",
            "Requirement already satisfied: fsspec>=2023.5.0 in c:\\users\\dell\\appdata\\local\\programs\\python\\python311\\lib\\site-packages (from huggingface-hub>=0.15.1->sentence_transformers) (2023.10.0)\n",
            "Requirement already satisfied: requests in c:\\users\\dell\\appdata\\local\\programs\\python\\python311\\lib\\site-packages (from huggingface-hub>=0.15.1->sentence_transformers) (2.31.0)\n",
            "Requirement already satisfied: pyyaml>=5.1 in c:\\users\\dell\\appdata\\local\\programs\\python\\python311\\lib\\site-packages (from huggingface-hub>=0.15.1->sentence_transformers) (6.0.1)\n",
            "Requirement already satisfied: typing-extensions>=3.7.4.3 in c:\\users\\dell\\appdata\\local\\programs\\python\\python311\\lib\\site-packages (from huggingface-hub>=0.15.1->sentence_transformers) (4.9.0)\n",
            "Requirement already satisfied: packaging>=20.9 in c:\\users\\dell\\appdata\\roaming\\python\\python311\\site-packages (from huggingface-hub>=0.15.1->sentence_transformers) (23.2)\n",
            "Requirement already satisfied: sympy in c:\\users\\dell\\appdata\\local\\programs\\python\\python311\\lib\\site-packages (from torch>=1.11.0->sentence_transformers) (1.12)\n",
            "Requirement already satisfied: networkx in c:\\users\\dell\\appdata\\local\\programs\\python\\python311\\lib\\site-packages (from torch>=1.11.0->sentence_transformers) (3.0)\n",
            "Requirement already satisfied: jinja2 in c:\\users\\dell\\appdata\\local\\programs\\python\\python311\\lib\\site-packages (from torch>=1.11.0->sentence_transformers) (3.1.2)\n",
            "Requirement already satisfied: colorama in c:\\users\\dell\\appdata\\roaming\\python\\python311\\site-packages (from tqdm->sentence_transformers) (0.4.6)\n",
            "Requirement already satisfied: regex!=2019.12.17 in c:\\users\\dell\\appdata\\local\\programs\\python\\python311\\lib\\site-packages (from transformers<5.0.0,>=4.32.0->sentence_transformers) (2023.12.25)\n",
            "Requirement already satisfied: tokenizers<0.19,>=0.14 in c:\\users\\dell\\appdata\\local\\programs\\python\\python311\\lib\\site-packages (from transformers<5.0.0,>=4.32.0->sentence_transformers) (0.15.0)\n",
            "Requirement already satisfied: safetensors>=0.3.1 in c:\\users\\dell\\appdata\\local\\programs\\python\\python311\\lib\\site-packages (from transformers<5.0.0,>=4.32.0->sentence_transformers) (0.4.1)\n",
            "Requirement already satisfied: joblib>=1.1.1 in c:\\users\\dell\\appdata\\local\\programs\\python\\python311\\lib\\site-packages (from scikit-learn->sentence_transformers) (1.1.1)\n",
            "Requirement already satisfied: threadpoolctl>=2.0.0 in c:\\users\\dell\\appdata\\local\\programs\\python\\python311\\lib\\site-packages (from scikit-learn->sentence_transformers) (3.3.0)\n",
            "Requirement already satisfied: MarkupSafe>=2.0 in c:\\users\\dell\\appdata\\local\\programs\\python\\python311\\lib\\site-packages (from jinja2->torch>=1.11.0->sentence_transformers) (2.1.3)\n",
            "Requirement already satisfied: charset-normalizer<4,>=2 in c:\\users\\dell\\appdata\\local\\programs\\python\\python311\\lib\\site-packages (from requests->huggingface-hub>=0.15.1->sentence_transformers) (3.3.2)\n",
            "Requirement already satisfied: idna<4,>=2.5 in c:\\users\\dell\\appdata\\local\\programs\\python\\python311\\lib\\site-packages (from requests->huggingface-hub>=0.15.1->sentence_transformers) (3.4)\n",
            "Requirement already satisfied: urllib3<3,>=1.21.1 in c:\\users\\dell\\appdata\\local\\programs\\python\\python311\\lib\\site-packages (from requests->huggingface-hub>=0.15.1->sentence_transformers) (2.2.1)\n",
            "Requirement already satisfied: certifi>=2017.4.17 in c:\\users\\dell\\appdata\\local\\programs\\python\\python311\\lib\\site-packages (from requests->huggingface-hub>=0.15.1->sentence_transformers) (2024.2.2)\n",
            "Requirement already satisfied: mpmath>=0.19 in c:\\users\\dell\\appdata\\local\\programs\\python\\python311\\lib\\site-packages (from sympy->torch>=1.11.0->sentence_transformers) (1.3.0)\n",
            "Note: you may need to restart the kernel to use updated packages.\n"
          ]
        }
      ],
      "source": [
        "%pip install sentence_transformers"
      ]
    },
    {
      "cell_type": "markdown",
      "metadata": {},
      "source": [
        "# 2nd model(model with less layers) giving better result"
      ]
    },
    {
      "cell_type": "code",
      "execution_count": 8,
      "metadata": {
        "id": "qRlcm9Y26zuv"
      },
      "outputs": [],
      "source": [
        "# from sentence_transformers import SentenceTransformer, util\n",
        "\n",
        "# model = SentenceTransformer('paraphrase-multilingual-MiniLM-L12-v2')  # multi-language model\n",
        "\n",
        "# sentences = [\n",
        "#     'median age of female population',\n",
        "#     'age'\n",
        "# ]"
      ]
    },
    {
      "cell_type": "code",
      "execution_count": 9,
      "metadata": {
        "id": "zniAxDD668l4"
      },
      "outputs": [],
      "source": [
        "embedding = model.encode(sentences, convert_to_tensor=False)\n",
        "# embedding[0]"
      ]
    },
    {
      "cell_type": "code",
      "execution_count": 10,
      "metadata": {
        "colab": {
          "base_uri": "https://localhost:8080/"
        },
        "id": "RtArbN3x7Nnl",
        "outputId": "98a29dd4-0e28-474e-c033-4a8e9ae68399"
      },
      "outputs": [
        {
          "data": {
            "text/plain": [
              "(2, 384)"
            ]
          },
          "execution_count": 10,
          "metadata": {},
          "output_type": "execute_result"
        }
      ],
      "source": [
        "embedding.shape"
      ]
    },
    {
      "cell_type": "code",
      "execution_count": 11,
      "metadata": {
        "colab": {
          "base_uri": "https://localhost:8080/"
        },
        "id": "JRD9SPrj70YW",
        "outputId": "8bb92399-41d9-4fd6-a345-61be582ace5c"
      },
      "outputs": [
        {
          "data": {
            "text/plain": [
              "{'median age of female population vs. age': 0.5965039730072021}"
            ]
          },
          "execution_count": 11,
          "metadata": {},
          "output_type": "execute_result"
        }
      ],
      "source": [
        "cosine_scores = util.cos_sim(embedding, embedding)\n",
        "\n",
        "d = {}\n",
        "for i, v1 in enumerate(sentences):\n",
        "    for j, v2 in enumerate(sentences):\n",
        "        if i >= j:\n",
        "            continue\n",
        "        d[v1 + ' vs. ' + v2] = cosine_scores[i][j].item()\n",
        "\n",
        "# sort by score\n",
        "d_sorted = dict(sorted(d.items(), key=lambda x: x[1], reverse=True))\n",
        "d_sorted"
      ]
    },
    {
      "cell_type": "markdown",
      "metadata": {
        "id": "mLTMxMf89iOn"
      },
      "source": [
        "#Model 2"
      ]
    },
    {
      "cell_type": "code",
      "execution_count": 24,
      "metadata": {
        "colab": {
          "base_uri": "https://localhost:8080/",
          "height": 369,
          "referenced_widgets": [
            "9de09591ed1d4d7fa3711466e01428ae",
            "335f272aed51405eaec8de230063bea3",
            "03715ba9a06b49798a4fa0639bcba951",
            "af0936866d6a492fb7db07794bb983fe",
            "80c0a6a368124d9580ae4fa433f02764",
            "8c18e8582c5c4c53a9fdaa031a2cbe4d",
            "8041b085887c4cc49265df0bbc2beba4",
            "db01d27fec374c8e9ffb039d69f15340",
            "a68649fd8b9f4f60852158db49553894",
            "c8c9e6f9d6544ce5b530e207be741807",
            "5ed8527a98c6452fb09956441f20a212",
            "fe0da2963e894643867edac5463b026b",
            "eb8c337ae090453eb4ea3ea6577783af",
            "237d74bc23114e2bbbd4cf5195d353a6",
            "f53efc3568d54817868e1ed010b6a809",
            "2ce57ea60b4a4b97865eee3945ee296c",
            "ced1dc5ec513415ba5be80aa2842d01b",
            "e561828322fc4949812f23584f728d5b",
            "469f9536e948481a9ce7ab4ae757e6f7",
            "8ba09ac828954701bba30dd5e9b3b7be",
            "df55a58c899946edb961696d19905870",
            "1e0735952a7b433991118b0f5e6ff737",
            "faecc0aab025479895d73097149bbae4",
            "04e95bf06f3f4c4b822608cbc0093cfd",
            "fe1b87e0733f4cdb87683a2aa64d8fb0",
            "b94302c8e3824068aa4d1eff965bfb8f",
            "7fbae76ebea64a2db9326fa29530dcfc",
            "87e69e34ed5e4da0b7d978d67f34eed3",
            "c5ce2e69f140489a94dabad352c70210",
            "cefc4219cbfe40eea56d4e3cf28cc781",
            "67babccdccd549afb67e6820e229d0a1",
            "098eeab23039432f9338f2768f4c4b84",
            "baf880acd0e140c4974f64deb57450cc",
            "442dc0d5e3534d28814fbc9e1b435791",
            "09b04a9a383e4088a152d72d31fe1ff3",
            "0b64da65dd824990bd1979e759693bc8",
            "65fc715ce0534b6fa675edb028910e5b",
            "54be1d3445754f978d7325afa0e89e24",
            "cc2d3299969246b1a1e52785410a7cb9",
            "93e1350002e74323920bf882b08356ad",
            "1ed8c122c3144a6c9849310aeac33582",
            "e080f4447b6641c592abb717dd42a1be",
            "f5c3d0bbc9bf4ed1801a1d461e233b2f",
            "6d6e1a2496a34e4fa8d7ee8b6247ba2d",
            "ea44241bc2824461b98cf19003b23f58",
            "36bcfb519f57455ab1cf922defd46201",
            "7b100fd4bd2e4109bfa7ba6a2fb4b841",
            "8b3fb52702984fd6bf74ee8ab6e88aeb",
            "a837f72d0b354286b797c67b60216606",
            "7b6adc6672fd4d1484f4f7915d769b25",
            "3a46d9f70ffd47b281c15fad78af88ab",
            "8a90a4a750bc46c1a86c9b83e766bfff",
            "6188045131bd45c9b8b6a05658bf8249",
            "ada80970b37c40338fdf9fdc00b806d0",
            "6bddeed4d29d48e8bc3b333030277bfe",
            "bf338ad36c89441ca6d24241d0c9d01b",
            "96b11445972449a8b842e1c94833de04",
            "5f82f86b648b4f408492c1f71d1b78b2",
            "401afe63815b4783a43cf0ea9e78d3f3",
            "5204ff9b49b8462495e1b848974b4ae6",
            "c971a957850b49bbae88da4aaf82ff2e",
            "3874f5fc7eb143ed99aae7d296895a39",
            "c274aaecbd484625ad28dbbbb8205d78",
            "1381da271d77483e8fcf9552bef15213",
            "cd9b2eacfe1d4054a9111d300a012cb3",
            "348d00276ac14d20bb31361e6be8e8bf",
            "484e0a7c78ac438c8cfbadb0821cb852",
            "762bc1696c474a0db3ebd7529f013cd9",
            "8ceb7535a6bd4ee9900588e5ecc2b575",
            "8c1c31b285904356a5a6c699f38cf816",
            "622808a5faa446c4b2da7ae2061e24b9",
            "4b1363a9fb8b40b798497f059572904d",
            "ddad32aaeaca4550a5a1a44696b19d1c",
            "6e91150505ba4f5db6795da3286437c1",
            "47e6f6afbbc14a3abf8bbe59acd2136e",
            "dcea77c5206c47f0ac000b4597afd9d6",
            "f54f358affca4be0a7ebeb14ddf1ea7a",
            "e83af5b547b74ea0a8f0ed0a6409c6c1",
            "3abaeeae25d24d88b43fc288bb4204e8",
            "95594247e50540f6a28648e1c7984c2a",
            "4138df0427444de6aa52e467b7bc592b",
            "f8ba809750b04005b09a758cc3ab7896",
            "7b55069b62cf41f5b8ffb00802a76e4c",
            "370a83fc5d474a259eafd74a170a2b58",
            "a60f16b117af4f4ea49d6d697e1fa800",
            "e3d68279283a4ce3b75029b427ec0c45",
            "adf99b4ac7d442d9900d47f5fe02493e",
            "ad6af9bf839c4cfe8f9f3357f06bfc4f",
            "ee2d709e41044d2e83b8a4dbd6c18588",
            "7f5b2132304c437a84e8df2722169ce6",
            "8c7760b40ed64b73a18f939c37fe4aef",
            "7d292ae22cf542428f690382c7e1c98c",
            "15d737f9be5c4625ba7a414e2cc792bb",
            "ea1041e0e1e840328b0306043f74e92e",
            "15f76d604a364902a1ada9d0a378dfd8",
            "3b66d31ff24a4030af500952fad86da7",
            "f96b2bc4c8aa40a7b5227867637f2465",
            "06473623aaec4780b466495f13f58910",
            "75277bfbf800472694ac66377f887b13",
            "c3abab5007974eb7b7c4154ad115bcaa",
            "24960bfed8e145cda6683493c6531ae8",
            "6c45207c64a84c4a9bf631276c950161",
            "74a3b4627d574458ab21911c4b224dd7",
            "d111dd7062d74c0c8c5f93657afb53ef",
            "6ff2a1a200ec4bf19b124cab03b02a68",
            "ee1d5940f3954585a08e3e6b028d23ce",
            "c61ec7c172074bd2a296706330b918bd",
            "6dcd4414ca5846289a8034957418b6f3",
            "549d3acf3a2544f6936f0abedf1ef001",
            "4e1f5452a022493aafb77a2bfdcc2b41",
            "1a8f61a2874d443bad238991ec51766e",
            "24d84717b0c843f28bc9d4c9b1cc7e3e",
            "142ccbefc3284b029348f9b939009144",
            "c1f770fc80584467a101eec541499997",
            "9af321c5cec14142a7cffc2d3563a315",
            "191d2bb909e24dfab0ca8030ad1b81e4",
            "8d73f3475f1d4352ab22712429e885b5",
            "5b6f56da02d945b5b4158b7df59c0600",
            "bf64fb0da56248978f10cadd69232e2e",
            "225fdc35c4424fe19f84f80328da5d40",
            "07bd5125ecd247b7b62d5afbee233a37"
          ]
        },
        "id": "TjxXo5m38eAE",
        "outputId": "031ea33e-e8ba-4773-ce33-af116061e4c6"
      },
      "outputs": [],
      "source": [
        "from sentence_transformers import SentenceTransformer, util\n",
        "\n",
        "model = SentenceTransformer('paraphrase-MiniLM-L6-v2')  # multi-language model\n",
        "\n",
        "sentences = [\n",
        "    'latino',\n",
        "    'he is latino man',\n",
        "]"
      ]
    },
    {
      "cell_type": "code",
      "execution_count": 36,
      "metadata": {},
      "outputs": [],
      "source": [
        "sentences = [\n",
        "    'latino',\n",
        "    'this is latino man and women',\n",
        "]"
      ]
    },
    {
      "cell_type": "code",
      "execution_count": 37,
      "metadata": {
        "id": "8GA4-HeH-KjK"
      },
      "outputs": [
        {
          "data": {
            "text/plain": [
              "(2, 384)"
            ]
          },
          "execution_count": 37,
          "metadata": {},
          "output_type": "execute_result"
        }
      ],
      "source": [
        "embedding = model.encode(sentences, convert_to_tensor=False)\n",
        "embedding.shape"
      ]
    },
    {
      "cell_type": "code",
      "execution_count": 38,
      "metadata": {},
      "outputs": [
        {
          "data": {
            "text/plain": [
              "6.442112"
            ]
          },
          "execution_count": 38,
          "metadata": {},
          "output_type": "execute_result"
        }
      ],
      "source": [
        "import numpy\n",
        "euclidean_dist_easy = numpy.linalg.norm(embedding[0] - embedding[1])\n",
        "euclidean_dist_easy"
      ]
    },
    {
      "cell_type": "code",
      "execution_count": 19,
      "metadata": {
        "colab": {
          "base_uri": "https://localhost:8080/"
        },
        "id": "I-Lt_mIk-RkZ",
        "outputId": "e74fee1d-8cd6-44a2-b239-f4f749e20f07"
      },
      "outputs": [
        {
          "data": {
            "text/plain": [
              "{'latino vs. he is not latino man': 0.6431795954704285}"
            ]
          },
          "execution_count": 19,
          "metadata": {},
          "output_type": "execute_result"
        }
      ],
      "source": [
        "cosine_scores = util.cos_sim(embedding, embedding)\n",
        "\n",
        "d = {}\n",
        "for i, v1 in enumerate(sentences):\n",
        "    for j, v2 in enumerate(sentences):\n",
        "        if i >= j:\n",
        "            continue\n",
        "        d[v1 + ' vs. ' + v2] = cosine_scores[i][j].item()\n",
        "\n",
        "# sort by score\n",
        "d_sorted = dict(sorted(d.items(), key=lambda x: x[1], reverse=True))\n",
        "d_sorted"
      ]
    },
    {
      "cell_type": "code",
      "execution_count": 20,
      "metadata": {},
      "outputs": [
        {
          "name": "stdout",
          "output_type": "stream",
          "text": [
            "Collecting gensimNote: you may need to restart the kernel to use updated packages.\n",
            "\n",
            "  Downloading gensim-4.3.2-cp311-cp311-win_amd64.whl.metadata (8.5 kB)\n",
            "Requirement already satisfied: numpy>=1.18.5 in c:\\users\\dell\\appdata\\local\\programs\\python\\python311\\lib\\site-packages (from gensim) (1.26.3)\n",
            "Requirement already satisfied: scipy>=1.7.0 in c:\\users\\dell\\appdata\\local\\programs\\python\\python311\\lib\\site-packages (from gensim) (1.11.4)\n",
            "Collecting smart-open>=1.8.1 (from gensim)\n",
            "  Downloading smart_open-7.0.1-py3-none-any.whl.metadata (23 kB)\n",
            "Requirement already satisfied: wrapt in c:\\users\\dell\\appdata\\local\\programs\\python\\python311\\lib\\site-packages (from smart-open>=1.8.1->gensim) (1.16.0)\n",
            "Downloading gensim-4.3.2-cp311-cp311-win_amd64.whl (24.0 MB)\n",
            "   ---------------------------------------- 0.0/24.0 MB ? eta -:--:--\n",
            "   ---------------------------------------- 0.0/24.0 MB 2.0 MB/s eta 0:00:12\n",
            "   ---------------------------------------- 0.1/24.0 MB 1.4 MB/s eta 0:00:17\n",
            "   ---------------------------------------- 0.2/24.0 MB 1.7 MB/s eta 0:00:14\n",
            "    --------------------------------------- 0.3/24.0 MB 2.0 MB/s eta 0:00:13\n",
            "    --------------------------------------- 0.5/24.0 MB 2.6 MB/s eta 0:00:09\n",
            "   - -------------------------------------- 0.8/24.0 MB 3.2 MB/s eta 0:00:08\n",
            "   -- ------------------------------------- 1.3/24.0 MB 4.5 MB/s eta 0:00:06\n",
            "   -- ------------------------------------- 1.7/24.0 MB 5.2 MB/s eta 0:00:05\n",
            "   --- ------------------------------------ 2.1/24.0 MB 5.7 MB/s eta 0:00:04\n",
            "   --- ------------------------------------ 2.1/24.0 MB 5.7 MB/s eta 0:00:04\n",
            "   --- ------------------------------------ 2.1/24.0 MB 5.7 MB/s eta 0:00:04\n",
            "   --- ------------------------------------ 2.1/24.0 MB 5.7 MB/s eta 0:00:04\n",
            "   --- ------------------------------------ 2.1/24.0 MB 5.7 MB/s eta 0:00:04\n",
            "   --- ------------------------------------ 2.1/24.0 MB 3.7 MB/s eta 0:00:06\n",
            "   --- ------------------------------------ 2.1/24.0 MB 3.7 MB/s eta 0:00:06\n",
            "   --- ------------------------------------ 2.2/24.0 MB 3.4 MB/s eta 0:00:07\n",
            "   --- ------------------------------------ 2.3/24.0 MB 3.2 MB/s eta 0:00:07\n",
            "   --- ------------------------------------ 2.3/24.0 MB 3.2 MB/s eta 0:00:07\n",
            "   --- ------------------------------------ 2.3/24.0 MB 3.1 MB/s eta 0:00:08\n",
            "   --- ------------------------------------ 2.4/24.0 MB 2.9 MB/s eta 0:00:08\n",
            "   ---- ----------------------------------- 2.4/24.0 MB 2.8 MB/s eta 0:00:08\n",
            "   ---- ----------------------------------- 2.4/24.0 MB 2.6 MB/s eta 0:00:09\n",
            "   ---- ----------------------------------- 2.5/24.0 MB 2.7 MB/s eta 0:00:09\n",
            "   ---- ----------------------------------- 2.6/24.0 MB 2.6 MB/s eta 0:00:09\n",
            "   ---- ----------------------------------- 2.6/24.0 MB 2.5 MB/s eta 0:00:09\n",
            "   ---- ----------------------------------- 2.7/24.0 MB 2.5 MB/s eta 0:00:09\n",
            "   ---- ----------------------------------- 2.7/24.0 MB 2.5 MB/s eta 0:00:09\n",
            "   ---- ----------------------------------- 2.8/24.0 MB 2.4 MB/s eta 0:00:09\n",
            "   ---- ----------------------------------- 2.9/24.0 MB 2.4 MB/s eta 0:00:09\n",
            "   ---- ----------------------------------- 3.0/24.0 MB 2.3 MB/s eta 0:00:10\n",
            "   ----- ---------------------------------- 3.0/24.0 MB 2.4 MB/s eta 0:00:09\n",
            "   ----- ---------------------------------- 3.1/24.0 MB 2.3 MB/s eta 0:00:09\n",
            "   ----- ---------------------------------- 3.3/24.0 MB 2.3 MB/s eta 0:00:09\n",
            "   ----- ---------------------------------- 3.3/24.0 MB 2.3 MB/s eta 0:00:10\n",
            "   ----- ---------------------------------- 3.4/24.0 MB 2.3 MB/s eta 0:00:09\n",
            "   ----- ---------------------------------- 3.5/24.0 MB 2.3 MB/s eta 0:00:09\n",
            "   ----- ---------------------------------- 3.6/24.0 MB 2.3 MB/s eta 0:00:09\n",
            "   ------ --------------------------------- 3.7/24.0 MB 2.3 MB/s eta 0:00:09\n",
            "   ------ --------------------------------- 3.8/24.0 MB 2.3 MB/s eta 0:00:09\n",
            "   ------ --------------------------------- 3.9/24.0 MB 2.3 MB/s eta 0:00:09\n",
            "   ------ --------------------------------- 3.9/24.0 MB 2.3 MB/s eta 0:00:09\n",
            "   ------ --------------------------------- 3.9/24.0 MB 2.2 MB/s eta 0:00:10\n",
            "   ------ --------------------------------- 4.0/24.0 MB 2.2 MB/s eta 0:00:10\n",
            "   ------ --------------------------------- 4.0/24.0 MB 2.2 MB/s eta 0:00:10\n",
            "   ------- -------------------------------- 4.2/24.0 MB 2.2 MB/s eta 0:00:09\n",
            "   ------- -------------------------------- 4.8/24.0 MB 2.5 MB/s eta 0:00:08\n",
            "   -------- ------------------------------- 5.2/24.0 MB 2.6 MB/s eta 0:00:08\n",
            "   --------- ------------------------------ 5.6/24.0 MB 2.8 MB/s eta 0:00:07\n",
            "   ---------- ----------------------------- 6.0/24.0 MB 2.9 MB/s eta 0:00:07\n",
            "   ---------- ----------------------------- 6.5/24.0 MB 3.1 MB/s eta 0:00:06\n",
            "   ----------- ---------------------------- 6.8/24.0 MB 3.2 MB/s eta 0:00:06\n",
            "   ----------- ---------------------------- 6.8/24.0 MB 3.2 MB/s eta 0:00:06\n",
            "   ----------- ---------------------------- 6.8/24.0 MB 3.2 MB/s eta 0:00:06\n",
            "   ----------- ---------------------------- 6.8/24.0 MB 3.2 MB/s eta 0:00:06\n",
            "   ----------- ---------------------------- 6.8/24.0 MB 3.2 MB/s eta 0:00:06\n",
            "   ----------- ---------------------------- 6.8/24.0 MB 3.2 MB/s eta 0:00:06\n",
            "   ----------- ---------------------------- 6.8/24.0 MB 3.2 MB/s eta 0:00:06\n",
            "   ----------- ---------------------------- 6.8/24.0 MB 3.2 MB/s eta 0:00:06\n",
            "   ----------- ---------------------------- 6.8/24.0 MB 3.2 MB/s eta 0:00:06\n",
            "   ----------- ---------------------------- 6.8/24.0 MB 3.2 MB/s eta 0:00:06\n",
            "   ----------- ---------------------------- 6.8/24.0 MB 3.2 MB/s eta 0:00:06\n",
            "   ----------- ---------------------------- 6.8/24.0 MB 3.2 MB/s eta 0:00:06\n",
            "   ----------- ---------------------------- 6.8/24.0 MB 3.2 MB/s eta 0:00:06\n",
            "   ----------- ---------------------------- 6.8/24.0 MB 3.2 MB/s eta 0:00:06\n",
            "   ----------- ---------------------------- 6.8/24.0 MB 3.2 MB/s eta 0:00:06\n",
            "   ----------- ---------------------------- 6.8/24.0 MB 3.2 MB/s eta 0:00:06\n",
            "   ----------- ---------------------------- 6.8/24.0 MB 3.2 MB/s eta 0:00:06\n",
            "   ----------- ---------------------------- 6.8/24.0 MB 3.2 MB/s eta 0:00:06\n",
            "   ----------- ---------------------------- 6.8/24.0 MB 3.2 MB/s eta 0:00:06\n",
            "   ----------- ---------------------------- 6.8/24.0 MB 3.2 MB/s eta 0:00:06\n",
            "   ----------- ---------------------------- 6.8/24.0 MB 3.2 MB/s eta 0:00:06\n",
            "   ----------- ---------------------------- 6.8/24.0 MB 3.2 MB/s eta 0:00:06\n",
            "   ----------- ---------------------------- 6.8/24.0 MB 3.2 MB/s eta 0:00:06\n",
            "   ----------- ---------------------------- 6.8/24.0 MB 3.2 MB/s eta 0:00:06\n",
            "   ----------- ---------------------------- 6.8/24.0 MB 3.2 MB/s eta 0:00:06\n",
            "   ----------- ---------------------------- 6.8/24.0 MB 3.2 MB/s eta 0:00:06\n",
            "   ----------- ---------------------------- 6.8/24.0 MB 3.2 MB/s eta 0:00:06\n",
            "   ----------- ---------------------------- 6.8/24.0 MB 2.0 MB/s eta 0:00:09\n",
            "   ----------- ---------------------------- 6.8/24.0 MB 2.0 MB/s eta 0:00:09\n",
            "   ----------- ---------------------------- 6.8/24.0 MB 2.0 MB/s eta 0:00:09\n",
            "   ----------- ---------------------------- 6.8/24.0 MB 2.0 MB/s eta 0:00:09\n",
            "   ----------- ---------------------------- 6.8/24.0 MB 2.0 MB/s eta 0:00:09\n",
            "   ----------- ---------------------------- 6.9/24.0 MB 2.0 MB/s eta 0:00:09\n",
            "   ----------- ---------------------------- 6.9/24.0 MB 1.9 MB/s eta 0:00:09\n",
            "   ----------- ---------------------------- 6.9/24.0 MB 1.9 MB/s eta 0:00:09\n",
            "   ----------- ---------------------------- 7.0/24.0 MB 1.9 MB/s eta 0:00:09\n",
            "   ----------- ---------------------------- 7.1/24.0 MB 1.9 MB/s eta 0:00:09\n",
            "   ----------- ---------------------------- 7.2/24.0 MB 1.9 MB/s eta 0:00:09\n",
            "   ------------ --------------------------- 7.3/24.0 MB 1.9 MB/s eta 0:00:09\n",
            "   ------------ --------------------------- 7.6/24.0 MB 2.0 MB/s eta 0:00:09\n",
            "   ------------- -------------------------- 7.9/24.0 MB 2.0 MB/s eta 0:00:08\n",
            "   ------------- -------------------------- 8.2/24.0 MB 2.1 MB/s eta 0:00:08\n",
            "   -------------- ------------------------- 8.6/24.0 MB 2.2 MB/s eta 0:00:08\n",
            "   --------------- ------------------------ 9.0/24.0 MB 2.3 MB/s eta 0:00:07\n",
            "   --------------- ------------------------ 9.4/24.0 MB 2.3 MB/s eta 0:00:07\n",
            "   ---------------- ----------------------- 9.8/24.0 MB 2.4 MB/s eta 0:00:06\n",
            "   ----------------- ---------------------- 10.3/24.0 MB 2.5 MB/s eta 0:00:06\n",
            "   ----------------- ---------------------- 10.3/24.0 MB 2.5 MB/s eta 0:00:06\n",
            "   ----------------- ---------------------- 10.6/24.0 MB 2.5 MB/s eta 0:00:06\n",
            "   ------------------ --------------------- 11.1/24.0 MB 2.6 MB/s eta 0:00:06\n",
            "   ------------------- -------------------- 11.5/24.0 MB 2.5 MB/s eta 0:00:05\n",
            "   ------------------- -------------------- 11.9/24.0 MB 2.6 MB/s eta 0:00:05\n",
            "   -------------------- ------------------- 12.3/24.0 MB 2.5 MB/s eta 0:00:05\n",
            "   --------------------- ------------------ 12.9/24.0 MB 3.0 MB/s eta 0:00:04\n",
            "   --------------------- ------------------ 13.1/24.0 MB 3.2 MB/s eta 0:00:04\n",
            "   ---------------------- ----------------- 13.4/24.0 MB 3.3 MB/s eta 0:00:04\n",
            "   ---------------------- ----------------- 13.5/24.0 MB 3.3 MB/s eta 0:00:04\n",
            "   ---------------------- ----------------- 13.5/24.0 MB 3.3 MB/s eta 0:00:04\n",
            "   ---------------------- ----------------- 13.5/24.0 MB 3.3 MB/s eta 0:00:04\n",
            "   ---------------------- ----------------- 13.5/24.0 MB 3.3 MB/s eta 0:00:04\n",
            "   ---------------------- ----------------- 13.5/24.0 MB 3.3 MB/s eta 0:00:04\n",
            "   ---------------------- ----------------- 13.5/24.0 MB 3.3 MB/s eta 0:00:04\n",
            "   ---------------------- ----------------- 13.5/24.0 MB 3.3 MB/s eta 0:00:04\n",
            "   ---------------------- ----------------- 13.5/24.0 MB 3.3 MB/s eta 0:00:04\n",
            "   ---------------------- ----------------- 13.5/24.0 MB 3.3 MB/s eta 0:00:04\n",
            "   ---------------------- ----------------- 13.5/24.0 MB 3.3 MB/s eta 0:00:04\n",
            "   ---------------------- ----------------- 13.5/24.0 MB 3.3 MB/s eta 0:00:04\n",
            "   ---------------------- ----------------- 13.5/24.0 MB 3.3 MB/s eta 0:00:04\n",
            "   ---------------------- ----------------- 13.5/24.0 MB 3.3 MB/s eta 0:00:04\n",
            "   ---------------------- ----------------- 13.5/24.0 MB 3.3 MB/s eta 0:00:04\n",
            "   ---------------------- ----------------- 13.5/24.0 MB 3.3 MB/s eta 0:00:04\n",
            "   ---------------------- ----------------- 13.5/24.0 MB 3.3 MB/s eta 0:00:04\n",
            "   ---------------------- ----------------- 13.5/24.0 MB 3.3 MB/s eta 0:00:04\n",
            "   ---------------------- ----------------- 13.5/24.0 MB 3.3 MB/s eta 0:00:04\n",
            "   ---------------------- ----------------- 13.5/24.0 MB 3.3 MB/s eta 0:00:04\n",
            "   ---------------------- ----------------- 13.5/24.0 MB 3.3 MB/s eta 0:00:04\n",
            "   ---------------------- ----------------- 13.5/24.0 MB 2.6 MB/s eta 0:00:05\n",
            "   ------------------------ --------------- 14.9/24.0 MB 2.9 MB/s eta 0:00:04\n",
            "   ------------------------- -------------- 15.1/24.0 MB 2.9 MB/s eta 0:00:04\n",
            "   ------------------------- -------------- 15.2/24.0 MB 2.9 MB/s eta 0:00:04\n",
            "   ------------------------- -------------- 15.4/24.0 MB 2.9 MB/s eta 0:00:04\n",
            "   ------------------------- -------------- 15.6/24.0 MB 2.9 MB/s eta 0:00:03\n",
            "   -------------------------- ------------- 15.7/24.0 MB 2.8 MB/s eta 0:00:03\n",
            "   -------------------------- ------------- 15.8/24.0 MB 2.8 MB/s eta 0:00:03\n",
            "   -------------------------- ------------- 16.1/24.0 MB 2.8 MB/s eta 0:00:03\n",
            "   --------------------------- ------------ 16.4/24.0 MB 2.8 MB/s eta 0:00:03\n",
            "   --------------------------- ------------ 16.7/24.0 MB 2.8 MB/s eta 0:00:03\n",
            "   ---------------------------- ----------- 16.9/24.0 MB 2.8 MB/s eta 0:00:03\n",
            "   ----------------------------- ---------- 17.5/24.0 MB 4.8 MB/s eta 0:00:02\n",
            "   ------------------------------ --------- 18.0/24.0 MB 4.8 MB/s eta 0:00:02\n",
            "   ------------------------------ --------- 18.5/24.0 MB 4.9 MB/s eta 0:00:02\n",
            "   ------------------------------- -------- 19.1/24.0 MB 4.8 MB/s eta 0:00:02\n",
            "   -------------------------------- ------- 19.5/24.0 MB 4.8 MB/s eta 0:00:01\n",
            "   -------------------------------- ------- 19.8/24.0 MB 4.8 MB/s eta 0:00:01\n",
            "   --------------------------------- ------ 20.2/24.0 MB 4.8 MB/s eta 0:00:01\n",
            "   ---------------------------------- ----- 20.7/24.0 MB 4.9 MB/s eta 0:00:01\n",
            "   ----------------------------------- ---- 21.1/24.0 MB 4.9 MB/s eta 0:00:01\n",
            "   ----------------------------------- ---- 21.5/24.0 MB 4.9 MB/s eta 0:00:01\n",
            "   ------------------------------------ --- 21.7/24.0 MB 4.9 MB/s eta 0:00:01\n",
            "   ------------------------------------- -- 22.2/24.0 MB 4.8 MB/s eta 0:00:01\n",
            "   ------------------------------------- -- 22.7/24.0 MB 4.8 MB/s eta 0:00:01\n",
            "   -------------------------------------- - 23.1/24.0 MB 4.8 MB/s eta 0:00:01\n",
            "   ---------------------------------------  23.5/24.0 MB 4.8 MB/s eta 0:00:01\n",
            "   ---------------------------------------  23.7/24.0 MB 8.3 MB/s eta 0:00:01\n",
            "   ---------------------------------------  24.0/24.0 MB 8.1 MB/s eta 0:00:01\n",
            "   ---------------------------------------  24.0/24.0 MB 8.1 MB/s eta 0:00:01\n",
            "   ---------------------------------------- 24.0/24.0 MB 7.5 MB/s eta 0:00:00\n",
            "Downloading smart_open-7.0.1-py3-none-any.whl (60 kB)\n",
            "   ---------------------------------------- 0.0/60.8 kB ? eta -:--:--\n",
            "   ---------------------------------------- 60.8/60.8 kB 3.2 MB/s eta 0:00:00\n",
            "Installing collected packages: smart-open, gensim\n",
            "Successfully installed gensim-4.3.2 smart-open-7.0.1\n"
          ]
        }
      ],
      "source": [
        "%pip install gensim"
      ]
    },
    {
      "cell_type": "code",
      "execution_count": 21,
      "metadata": {},
      "outputs": [
        {
          "name": "stderr",
          "output_type": "stream",
          "text": [
            "[nltk_data] Downloading package stopwords to\n",
            "[nltk_data]     C:\\Users\\Dell\\AppData\\Roaming\\nltk_data...\n",
            "[nltk_data]   Unzipping corpora\\stopwords.zip.\n"
          ]
        },
        {
          "data": {
            "text/plain": [
              "True"
            ]
          },
          "execution_count": 21,
          "metadata": {},
          "output_type": "execute_result"
        }
      ],
      "source": [
        "sentences_a=\"latino\"\n",
        "sentences_b=\"he is not latino man\"\n",
        "sentences_a=sentences_a.lower().split()\n",
        "sentences_b=sentences_b.lower().split()\n",
        "from nltk.corpus import stopwords\n",
        "from nltk import download\n",
        "download('stopwords')  # Download stopwords list."
      ]
    },
    {
      "cell_type": "code",
      "execution_count": 23,
      "metadata": {},
      "outputs": [
        {
          "name": "stdout",
          "output_type": "stream",
          "text": [
            "[====----------------------------------------------] 9.0% 150.4/1662.8MB downloaded"
          ]
        },
        {
          "ename": "KeyboardInterrupt",
          "evalue": "",
          "output_type": "error",
          "traceback": [
            "\u001b[1;31m---------------------------------------------------------------------------\u001b[0m",
            "\u001b[1;31mKeyboardInterrupt\u001b[0m                         Traceback (most recent call last)",
            "\u001b[1;32me:\\gc_data\\GC_data.ipynb Cell 14\u001b[0m line \u001b[0;36m6\n\u001b[0;32m      <a href='vscode-notebook-cell:/e%3A/gc_data/GC_data.ipynb#X36sZmlsZQ%3D%3D?line=3'>4</a>\u001b[0m sentences_b \u001b[39m=\u001b[39m [word \u001b[39mfor\u001b[39;00m word \u001b[39min\u001b[39;00m sentences_b \u001b[39mif\u001b[39;00m word \u001b[39mnot\u001b[39;00m \u001b[39min\u001b[39;00m stop_words]\n\u001b[0;32m      <a href='vscode-notebook-cell:/e%3A/gc_data/GC_data.ipynb#X36sZmlsZQ%3D%3D?line=4'>5</a>\u001b[0m \u001b[39mimport\u001b[39;00m \u001b[39mgensim\u001b[39;00m\u001b[39m.\u001b[39;00m\u001b[39mdownloader\u001b[39;00m \u001b[39mas\u001b[39;00m \u001b[39mapi\u001b[39;00m\n\u001b[1;32m----> <a href='vscode-notebook-cell:/e%3A/gc_data/GC_data.ipynb#X36sZmlsZQ%3D%3D?line=5'>6</a>\u001b[0m model\u001b[39m=\u001b[39mapi\u001b[39m.\u001b[39;49mload(\u001b[39m'\u001b[39;49m\u001b[39mword2vec-google-news-300\u001b[39;49m\u001b[39m'\u001b[39;49m)\n\u001b[0;32m      <a href='vscode-notebook-cell:/e%3A/gc_data/GC_data.ipynb#X36sZmlsZQ%3D%3D?line=6'>7</a>\u001b[0m distance\u001b[39m=\u001b[39mmodel\u001b[39m.\u001b[39mwmdistance(sentences_a,sentences_b)\n\u001b[0;32m      <a href='vscode-notebook-cell:/e%3A/gc_data/GC_data.ipynb#X36sZmlsZQ%3D%3D?line=7'>8</a>\u001b[0m \u001b[39mprint\u001b[39m(\u001b[39m'\u001b[39m\u001b[39mdistance = \u001b[39m\u001b[39m%.4f\u001b[39;00m\u001b[39m'\u001b[39m \u001b[39m%\u001b[39m distance)\n",
            "File \u001b[1;32mc:\\Users\\Dell\\AppData\\Local\\Programs\\Python\\Python311\\Lib\\site-packages\\gensim\\downloader.py:496\u001b[0m, in \u001b[0;36mload\u001b[1;34m(name, return_path)\u001b[0m\n\u001b[0;32m    494\u001b[0m path \u001b[39m=\u001b[39m os\u001b[39m.\u001b[39mpath\u001b[39m.\u001b[39mjoin(folder_dir, file_name)\n\u001b[0;32m    495\u001b[0m \u001b[39mif\u001b[39;00m \u001b[39mnot\u001b[39;00m os\u001b[39m.\u001b[39mpath\u001b[39m.\u001b[39mexists(folder_dir):\n\u001b[1;32m--> 496\u001b[0m     _download(name)\n\u001b[0;32m    498\u001b[0m \u001b[39mif\u001b[39;00m return_path:\n\u001b[0;32m    499\u001b[0m     \u001b[39mreturn\u001b[39;00m path\n",
            "File \u001b[1;32mc:\\Users\\Dell\\AppData\\Local\\Programs\\Python\\Python311\\Lib\\site-packages\\gensim\\downloader.py:396\u001b[0m, in \u001b[0;36m_download\u001b[1;34m(name)\u001b[0m\n\u001b[0;32m    394\u001b[0m fname \u001b[39m=\u001b[39m \u001b[39m\"\u001b[39m\u001b[39m{fname}\u001b[39;00m\u001b[39m.gz\u001b[39m\u001b[39m\"\u001b[39m\u001b[39m.\u001b[39mformat(fname\u001b[39m=\u001b[39mname)\n\u001b[0;32m    395\u001b[0m dst_path \u001b[39m=\u001b[39m os\u001b[39m.\u001b[39mpath\u001b[39m.\u001b[39mjoin(tmp_dir, fname)\n\u001b[1;32m--> 396\u001b[0m urllib\u001b[39m.\u001b[39;49murlretrieve(url_data, dst_path, reporthook\u001b[39m=\u001b[39;49m_progress)\n\u001b[0;32m    397\u001b[0m \u001b[39mif\u001b[39;00m _calculate_md5_checksum(dst_path) \u001b[39m==\u001b[39m _get_checksum(name):\n\u001b[0;32m    398\u001b[0m     sys\u001b[39m.\u001b[39mstdout\u001b[39m.\u001b[39mwrite(\u001b[39m\"\u001b[39m\u001b[39m\\n\u001b[39;00m\u001b[39m\"\u001b[39m)\n",
            "File \u001b[1;32mc:\\Users\\Dell\\AppData\\Local\\Programs\\Python\\Python311\\Lib\\urllib\\request.py:277\u001b[0m, in \u001b[0;36murlretrieve\u001b[1;34m(url, filename, reporthook, data)\u001b[0m\n\u001b[0;32m    275\u001b[0m             blocknum \u001b[39m+\u001b[39m\u001b[39m=\u001b[39m \u001b[39m1\u001b[39m\n\u001b[0;32m    276\u001b[0m             \u001b[39mif\u001b[39;00m reporthook:\n\u001b[1;32m--> 277\u001b[0m                 reporthook(blocknum, bs, size)\n\u001b[0;32m    279\u001b[0m \u001b[39mif\u001b[39;00m size \u001b[39m>\u001b[39m\u001b[39m=\u001b[39m \u001b[39m0\u001b[39m \u001b[39mand\u001b[39;00m read \u001b[39m<\u001b[39m size:\n\u001b[0;32m    280\u001b[0m     \u001b[39mraise\u001b[39;00m ContentTooShortError(\n\u001b[0;32m    281\u001b[0m         \u001b[39m\"\u001b[39m\u001b[39mretrieval incomplete: got only \u001b[39m\u001b[39m%i\u001b[39;00m\u001b[39m out of \u001b[39m\u001b[39m%i\u001b[39;00m\u001b[39m bytes\u001b[39m\u001b[39m\"\u001b[39m\n\u001b[0;32m    282\u001b[0m         \u001b[39m%\u001b[39m (read, size), result)\n",
            "File \u001b[1;32mc:\\Users\\Dell\\AppData\\Local\\Programs\\Python\\Python311\\Lib\\site-packages\\gensim\\downloader.py:129\u001b[0m, in \u001b[0;36m_progress\u001b[1;34m(chunks_downloaded, chunk_size, total_size, part, total_parts)\u001b[0m\n\u001b[0;32m    122\u001b[0m \u001b[39mif\u001b[39;00m total_parts \u001b[39m==\u001b[39m \u001b[39m1\u001b[39m:\n\u001b[0;32m    123\u001b[0m     sys\u001b[39m.\u001b[39mstdout\u001b[39m.\u001b[39mwrite(\n\u001b[0;32m    124\u001b[0m         \u001b[39m'\u001b[39m\u001b[39m\\r\u001b[39;00m\u001b[39m[\u001b[39m\u001b[39m%s\u001b[39;00m\u001b[39m] \u001b[39m\u001b[39m%s\u001b[39;00m\u001b[39m%s\u001b[39;00m\u001b[39m \u001b[39m\u001b[39m%s\u001b[39;00m\u001b[39m/\u001b[39m\u001b[39m%s\u001b[39;00m\u001b[39mMB downloaded\u001b[39m\u001b[39m'\u001b[39m \u001b[39m%\u001b[39m (\n\u001b[0;32m    125\u001b[0m             bar, percent_downloaded, \u001b[39m\"\u001b[39m\u001b[39m%\u001b[39m\u001b[39m\"\u001b[39m,\n\u001b[0;32m    126\u001b[0m             \u001b[39mround\u001b[39m(size_downloaded \u001b[39m/\u001b[39m (\u001b[39m1024\u001b[39m \u001b[39m*\u001b[39m \u001b[39m1024\u001b[39m), \u001b[39m1\u001b[39m),\n\u001b[0;32m    127\u001b[0m             \u001b[39mround\u001b[39m(\u001b[39mfloat\u001b[39m(total_size) \u001b[39m/\u001b[39m (\u001b[39m1024\u001b[39m \u001b[39m*\u001b[39m \u001b[39m1024\u001b[39m), \u001b[39m1\u001b[39m))\n\u001b[0;32m    128\u001b[0m     )\n\u001b[1;32m--> 129\u001b[0m     sys\u001b[39m.\u001b[39;49mstdout\u001b[39m.\u001b[39;49mflush()\n\u001b[0;32m    130\u001b[0m \u001b[39melse\u001b[39;00m:\n\u001b[0;32m    131\u001b[0m     sys\u001b[39m.\u001b[39mstdout\u001b[39m.\u001b[39mwrite(\n\u001b[0;32m    132\u001b[0m         \u001b[39m'\u001b[39m\u001b[39m\\r\u001b[39;00m\u001b[39m Part \u001b[39m\u001b[39m%s\u001b[39;00m\u001b[39m/\u001b[39m\u001b[39m%s\u001b[39;00m\u001b[39m [\u001b[39m\u001b[39m%s\u001b[39;00m\u001b[39m] \u001b[39m\u001b[39m%s\u001b[39;00m\u001b[39m%s\u001b[39;00m\u001b[39m \u001b[39m\u001b[39m%s\u001b[39;00m\u001b[39m/\u001b[39m\u001b[39m%s\u001b[39;00m\u001b[39mMB downloaded\u001b[39m\u001b[39m'\u001b[39m \u001b[39m%\u001b[39m (\n\u001b[0;32m    133\u001b[0m             part \u001b[39m+\u001b[39m \u001b[39m1\u001b[39m, total_parts, bar, percent_downloaded, \u001b[39m\"\u001b[39m\u001b[39m%\u001b[39m\u001b[39m\"\u001b[39m,\n\u001b[0;32m    134\u001b[0m             \u001b[39mround\u001b[39m(size_downloaded \u001b[39m/\u001b[39m (\u001b[39m1024\u001b[39m \u001b[39m*\u001b[39m \u001b[39m1024\u001b[39m), \u001b[39m1\u001b[39m),\n\u001b[0;32m    135\u001b[0m             \u001b[39mround\u001b[39m(\u001b[39mfloat\u001b[39m(total_size) \u001b[39m/\u001b[39m (\u001b[39m1024\u001b[39m \u001b[39m*\u001b[39m \u001b[39m1024\u001b[39m), \u001b[39m1\u001b[39m))\n\u001b[0;32m    136\u001b[0m     )\n",
            "File \u001b[1;32m~\\AppData\\Roaming\\Python\\Python311\\site-packages\\ipykernel\\iostream.py:609\u001b[0m, in \u001b[0;36mOutStream.flush\u001b[1;34m(self)\u001b[0m\n\u001b[0;32m    607\u001b[0m     \u001b[39mself\u001b[39m\u001b[39m.\u001b[39mpub_thread\u001b[39m.\u001b[39mschedule(evt\u001b[39m.\u001b[39mset)\n\u001b[0;32m    608\u001b[0m     \u001b[39m# and give a timeout to avoid\u001b[39;00m\n\u001b[1;32m--> 609\u001b[0m     \u001b[39mif\u001b[39;00m \u001b[39mnot\u001b[39;00m evt\u001b[39m.\u001b[39;49mwait(\u001b[39mself\u001b[39;49m\u001b[39m.\u001b[39;49mflush_timeout):\n\u001b[0;32m    610\u001b[0m         \u001b[39m# write directly to __stderr__ instead of warning because\u001b[39;00m\n\u001b[0;32m    611\u001b[0m         \u001b[39m# if this is happening sys.stderr may be the problem.\u001b[39;00m\n\u001b[0;32m    612\u001b[0m         \u001b[39mprint\u001b[39m(\u001b[39m\"\u001b[39m\u001b[39mIOStream.flush timed out\u001b[39m\u001b[39m\"\u001b[39m, file\u001b[39m=\u001b[39msys\u001b[39m.\u001b[39m__stderr__)\n\u001b[0;32m    613\u001b[0m \u001b[39melse\u001b[39;00m:\n",
            "File \u001b[1;32mc:\\Users\\Dell\\AppData\\Local\\Programs\\Python\\Python311\\Lib\\threading.py:622\u001b[0m, in \u001b[0;36mEvent.wait\u001b[1;34m(self, timeout)\u001b[0m\n\u001b[0;32m    620\u001b[0m signaled \u001b[39m=\u001b[39m \u001b[39mself\u001b[39m\u001b[39m.\u001b[39m_flag\n\u001b[0;32m    621\u001b[0m \u001b[39mif\u001b[39;00m \u001b[39mnot\u001b[39;00m signaled:\n\u001b[1;32m--> 622\u001b[0m     signaled \u001b[39m=\u001b[39m \u001b[39mself\u001b[39;49m\u001b[39m.\u001b[39;49m_cond\u001b[39m.\u001b[39;49mwait(timeout)\n\u001b[0;32m    623\u001b[0m \u001b[39mreturn\u001b[39;00m signaled\n",
            "File \u001b[1;32mc:\\Users\\Dell\\AppData\\Local\\Programs\\Python\\Python311\\Lib\\threading.py:324\u001b[0m, in \u001b[0;36mCondition.wait\u001b[1;34m(self, timeout)\u001b[0m\n\u001b[0;32m    322\u001b[0m \u001b[39melse\u001b[39;00m:\n\u001b[0;32m    323\u001b[0m     \u001b[39mif\u001b[39;00m timeout \u001b[39m>\u001b[39m \u001b[39m0\u001b[39m:\n\u001b[1;32m--> 324\u001b[0m         gotit \u001b[39m=\u001b[39m waiter\u001b[39m.\u001b[39;49macquire(\u001b[39mTrue\u001b[39;49;00m, timeout)\n\u001b[0;32m    325\u001b[0m     \u001b[39melse\u001b[39;00m:\n\u001b[0;32m    326\u001b[0m         gotit \u001b[39m=\u001b[39m waiter\u001b[39m.\u001b[39macquire(\u001b[39mFalse\u001b[39;00m)\n",
            "\u001b[1;31mKeyboardInterrupt\u001b[0m: "
          ]
        }
      ],
      "source": [
        "# remove stopwords\n",
        "stop_words = stopwords.words('english')\n",
        "sentences_a = [word for word in sentences_a if word not in stop_words]\n",
        "sentences_b = [word for word in sentences_b if word not in stop_words]\n",
        "import gensim.downloader as api\n",
        "model=api.load('word2vec-google-news-300')\n",
        "distance=model.wmdistance(sentences_a,sentences_b)\n",
        "print('distance = %.4f' % distance)"
      ]
    },
    {
      "cell_type": "code",
      "execution_count": 5,
      "metadata": {
        "id": "k6s5uRVZ-UG3"
      },
      "outputs": [
        {
          "data": {
            "text/html": [
              "<div>\n",
              "<style scoped>\n",
              "    .dataframe tbody tr th:only-of-type {\n",
              "        vertical-align: middle;\n",
              "    }\n",
              "\n",
              "    .dataframe tbody tr th {\n",
              "        vertical-align: top;\n",
              "    }\n",
              "\n",
              "    .dataframe thead th {\n",
              "        text-align: right;\n",
              "    }\n",
              "</style>\n",
              "<table border=\"1\" class=\"dataframe\">\n",
              "  <thead>\n",
              "    <tr style=\"text-align: right;\">\n",
              "      <th></th>\n",
              "      <th>Domain</th>\n",
              "      <th>Topic</th>\n",
              "      <th>Data Source</th>\n",
              "      <th>Variable Name</th>\n",
              "      <th>Variable Label</th>\n",
              "    </tr>\n",
              "  </thead>\n",
              "  <tbody>\n",
              "    <tr>\n",
              "      <th>0</th>\n",
              "      <td>1. Social context</td>\n",
              "      <td>Demographics</td>\n",
              "      <td>ACS</td>\n",
              "      <td>ACS_AVG_HH_SIZE</td>\n",
              "      <td>Average household size</td>\n",
              "    </tr>\n",
              "    <tr>\n",
              "      <th>1</th>\n",
              "      <td>2. Economic context</td>\n",
              "      <td>Income</td>\n",
              "      <td>ACS</td>\n",
              "      <td>ACS_GINI_INDEX</td>\n",
              "      <td>Gini index of income inequality</td>\n",
              "    </tr>\n",
              "    <tr>\n",
              "      <th>2</th>\n",
              "      <td>2. Economic context</td>\n",
              "      <td>Income</td>\n",
              "      <td>ACS</td>\n",
              "      <td>ACS_MDN_GRNDPRNT_INC</td>\n",
              "      <td>Median income of grandparent householder and/o...</td>\n",
              "    </tr>\n",
              "    <tr>\n",
              "      <th>3</th>\n",
              "      <td>2. Economic context</td>\n",
              "      <td>Income</td>\n",
              "      <td>ACS</td>\n",
              "      <td>ACS_MDN_GRNDPRNT_NO_PRNT_INC</td>\n",
              "      <td>Median income of grandparent householder and/o...</td>\n",
              "    </tr>\n",
              "    <tr>\n",
              "      <th>4</th>\n",
              "      <td>4. Physical infrastructure</td>\n",
              "      <td>Housing</td>\n",
              "      <td>ACS</td>\n",
              "      <td>ACS_MDN_OWNER_COST_MORTGAGE</td>\n",
              "      <td>Median selected monthly owner costs for houses...</td>\n",
              "    </tr>\n",
              "  </tbody>\n",
              "</table>\n",
              "</div>"
            ],
            "text/plain": [
              "                       Domain         Topic Data Source  \\\n",
              "0           1. Social context  Demographics         ACS   \n",
              "1         2. Economic context        Income         ACS   \n",
              "2         2. Economic context        Income         ACS   \n",
              "3         2. Economic context        Income         ACS   \n",
              "4  4. Physical infrastructure       Housing         ACS   \n",
              "\n",
              "                  Variable Name  \\\n",
              "0               ACS_AVG_HH_SIZE   \n",
              "1                ACS_GINI_INDEX   \n",
              "2          ACS_MDN_GRNDPRNT_INC   \n",
              "3  ACS_MDN_GRNDPRNT_NO_PRNT_INC   \n",
              "4   ACS_MDN_OWNER_COST_MORTGAGE   \n",
              "\n",
              "                                      Variable Label  \n",
              "0                             Average household size  \n",
              "1                    Gini index of income inequality  \n",
              "2  Median income of grandparent householder and/o...  \n",
              "3  Median income of grandparent householder and/o...  \n",
              "4  Median selected monthly owner costs for houses...  "
            ]
          },
          "execution_count": 5,
          "metadata": {},
          "output_type": "execute_result"
        }
      ],
      "source": [
        "# loading the dataset onlyvariable.csv\n",
        "import pandas as pd\n",
        "import numpy as np \n",
        "\n",
        "df=pd.read_csv('E:/gc_data/dataset/onlyvariabe.csv')\n",
        "df.head(5)"
      ]
    },
    {
      "cell_type": "code",
      "execution_count": 6,
      "metadata": {},
      "outputs": [
        {
          "data": {
            "text/html": [
              "<div>\n",
              "<style scoped>\n",
              "    .dataframe tbody tr th:only-of-type {\n",
              "        vertical-align: middle;\n",
              "    }\n",
              "\n",
              "    .dataframe tbody tr th {\n",
              "        vertical-align: top;\n",
              "    }\n",
              "\n",
              "    .dataframe thead th {\n",
              "        text-align: right;\n",
              "    }\n",
              "</style>\n",
              "<table border=\"1\" class=\"dataframe\">\n",
              "  <thead>\n",
              "    <tr style=\"text-align: right;\">\n",
              "      <th></th>\n",
              "      <th>Domain</th>\n",
              "      <th>Topic</th>\n",
              "      <th>Data Source</th>\n",
              "      <th>Variable Name</th>\n",
              "      <th>Variable Label</th>\n",
              "      <th>Age</th>\n",
              "      <th>Address</th>\n",
              "      <th>Zip Code</th>\n",
              "      <th>Gender</th>\n",
              "      <th>Race</th>\n",
              "      <th>Income</th>\n",
              "      <th>Education</th>\n",
              "      <th>Veteran Status</th>\n",
              "    </tr>\n",
              "  </thead>\n",
              "  <tbody>\n",
              "    <tr>\n",
              "      <th>0</th>\n",
              "      <td>1. Social context</td>\n",
              "      <td>Demographics</td>\n",
              "      <td>ACS</td>\n",
              "      <td>ACS_AVG_HH_SIZE</td>\n",
              "      <td>Average household size</td>\n",
              "      <td>NaN</td>\n",
              "      <td>NaN</td>\n",
              "      <td>NaN</td>\n",
              "      <td>NaN</td>\n",
              "      <td>NaN</td>\n",
              "      <td>NaN</td>\n",
              "      <td>NaN</td>\n",
              "      <td>NaN</td>\n",
              "    </tr>\n",
              "    <tr>\n",
              "      <th>1</th>\n",
              "      <td>2. Economic context</td>\n",
              "      <td>Income</td>\n",
              "      <td>ACS</td>\n",
              "      <td>ACS_GINI_INDEX</td>\n",
              "      <td>Gini index of income inequality</td>\n",
              "      <td>NaN</td>\n",
              "      <td>NaN</td>\n",
              "      <td>NaN</td>\n",
              "      <td>NaN</td>\n",
              "      <td>NaN</td>\n",
              "      <td>NaN</td>\n",
              "      <td>NaN</td>\n",
              "      <td>NaN</td>\n",
              "    </tr>\n",
              "    <tr>\n",
              "      <th>2</th>\n",
              "      <td>2. Economic context</td>\n",
              "      <td>Income</td>\n",
              "      <td>ACS</td>\n",
              "      <td>ACS_MDN_GRNDPRNT_INC</td>\n",
              "      <td>Median income of grandparent householder and/o...</td>\n",
              "      <td>NaN</td>\n",
              "      <td>NaN</td>\n",
              "      <td>NaN</td>\n",
              "      <td>NaN</td>\n",
              "      <td>NaN</td>\n",
              "      <td>NaN</td>\n",
              "      <td>NaN</td>\n",
              "      <td>NaN</td>\n",
              "    </tr>\n",
              "    <tr>\n",
              "      <th>3</th>\n",
              "      <td>2. Economic context</td>\n",
              "      <td>Income</td>\n",
              "      <td>ACS</td>\n",
              "      <td>ACS_MDN_GRNDPRNT_NO_PRNT_INC</td>\n",
              "      <td>Median income of grandparent householder and/o...</td>\n",
              "      <td>NaN</td>\n",
              "      <td>NaN</td>\n",
              "      <td>NaN</td>\n",
              "      <td>NaN</td>\n",
              "      <td>NaN</td>\n",
              "      <td>NaN</td>\n",
              "      <td>NaN</td>\n",
              "      <td>NaN</td>\n",
              "    </tr>\n",
              "    <tr>\n",
              "      <th>4</th>\n",
              "      <td>4. Physical infrastructure</td>\n",
              "      <td>Housing</td>\n",
              "      <td>ACS</td>\n",
              "      <td>ACS_MDN_OWNER_COST_MORTGAGE</td>\n",
              "      <td>Median selected monthly owner costs for houses...</td>\n",
              "      <td>NaN</td>\n",
              "      <td>NaN</td>\n",
              "      <td>NaN</td>\n",
              "      <td>NaN</td>\n",
              "      <td>NaN</td>\n",
              "      <td>NaN</td>\n",
              "      <td>NaN</td>\n",
              "      <td>NaN</td>\n",
              "    </tr>\n",
              "  </tbody>\n",
              "</table>\n",
              "</div>"
            ],
            "text/plain": [
              "                       Domain         Topic Data Source  \\\n",
              "0           1. Social context  Demographics         ACS   \n",
              "1         2. Economic context        Income         ACS   \n",
              "2         2. Economic context        Income         ACS   \n",
              "3         2. Economic context        Income         ACS   \n",
              "4  4. Physical infrastructure       Housing         ACS   \n",
              "\n",
              "                  Variable Name  \\\n",
              "0               ACS_AVG_HH_SIZE   \n",
              "1                ACS_GINI_INDEX   \n",
              "2          ACS_MDN_GRNDPRNT_INC   \n",
              "3  ACS_MDN_GRNDPRNT_NO_PRNT_INC   \n",
              "4   ACS_MDN_OWNER_COST_MORTGAGE   \n",
              "\n",
              "                                      Variable Label  Age  Address  Zip Code  \\\n",
              "0                             Average household size  NaN      NaN       NaN   \n",
              "1                    Gini index of income inequality  NaN      NaN       NaN   \n",
              "2  Median income of grandparent householder and/o...  NaN      NaN       NaN   \n",
              "3  Median income of grandparent householder and/o...  NaN      NaN       NaN   \n",
              "4  Median selected monthly owner costs for houses...  NaN      NaN       NaN   \n",
              "\n",
              "   Gender  Race  Income  Education  Veteran Status  \n",
              "0     NaN   NaN     NaN        NaN             NaN  \n",
              "1     NaN   NaN     NaN        NaN             NaN  \n",
              "2     NaN   NaN     NaN        NaN             NaN  \n",
              "3     NaN   NaN     NaN        NaN             NaN  \n",
              "4     NaN   NaN     NaN        NaN             NaN  "
            ]
          },
          "execution_count": 6,
          "metadata": {},
          "output_type": "execute_result"
        }
      ],
      "source": [
        "# adding 7 new columns to the dataframe to store the similarity scores again some 8 words\n",
        "df['Age'] = np.nan\n",
        "df['Address'] = np.nan\n",
        "df['Zip Code'] = np.nan\n",
        "df['Gender'] = np.nan\n",
        "df['Race'] = np.nan\n",
        "df['Income'] = np.nan\n",
        "df['Education'] = np.nan\n",
        "df['Veteran Status'] = np.nan\n",
        "df.head(5)"
      ]
    },
    {
      "cell_type": "code",
      "execution_count": 10,
      "metadata": {},
      "outputs": [],
      "source": [
        "# finding similarity scores for each word in the variable label against 8 words and storing them in that cell\n",
        "\n",
        "# iterating through each row of the dataframe\n",
        "label=['Age','Address','Zip Code','Gender','Race','Income','Education','Veteran Status']\n",
        "for index, row in df.iterrows():\n",
        "    # getting the variable label\n",
        "    \n",
        "    var_label = row['Variable Label']\n",
        "\n",
        "    sentences = [var_label, 'Age']\n",
        "    embedding = model.encode(sentences, convert_to_tensor=False)\n",
        "    cosine_scores = util.cos_sim(embedding, embedding)\n",
        "\n",
        "    d = {}\n",
        "    for i, v1 in enumerate(sentences):\n",
        "        for j, v2 in enumerate(sentences):\n",
        "            if i >= j:\n",
        "                continue\n",
        "            d[v1 + ' vs. ' + v2] = cosine_scores[i][j].item()\n",
        "\n",
        "    # sort by score\n",
        "    d_sorted = dict(sorted(d.items(), key=lambda x: x[1], reverse=True))\n",
        "    \n",
        "    # storing it in the cell\n",
        "    df.at[index, 'Age'] = d_sorted[var_label + ' vs. Age']"
      ]
    },
    {
      "cell_type": "code",
      "execution_count": 11,
      "metadata": {},
      "outputs": [
        {
          "data": {
            "text/html": [
              "<div>\n",
              "<style scoped>\n",
              "    .dataframe tbody tr th:only-of-type {\n",
              "        vertical-align: middle;\n",
              "    }\n",
              "\n",
              "    .dataframe tbody tr th {\n",
              "        vertical-align: top;\n",
              "    }\n",
              "\n",
              "    .dataframe thead th {\n",
              "        text-align: right;\n",
              "    }\n",
              "</style>\n",
              "<table border=\"1\" class=\"dataframe\">\n",
              "  <thead>\n",
              "    <tr style=\"text-align: right;\">\n",
              "      <th></th>\n",
              "      <th>Domain</th>\n",
              "      <th>Topic</th>\n",
              "      <th>Data Source</th>\n",
              "      <th>Variable Name</th>\n",
              "      <th>Variable Label</th>\n",
              "      <th>Age</th>\n",
              "      <th>Address</th>\n",
              "      <th>Zip Code</th>\n",
              "      <th>Gender</th>\n",
              "      <th>Race</th>\n",
              "      <th>Income</th>\n",
              "      <th>Education</th>\n",
              "      <th>Veteran Status</th>\n",
              "    </tr>\n",
              "  </thead>\n",
              "  <tbody>\n",
              "    <tr>\n",
              "      <th>0</th>\n",
              "      <td>1. Social context</td>\n",
              "      <td>Demographics</td>\n",
              "      <td>ACS</td>\n",
              "      <td>ACS_AVG_HH_SIZE</td>\n",
              "      <td>Average household size</td>\n",
              "      <td>0.286492</td>\n",
              "      <td>NaN</td>\n",
              "      <td>NaN</td>\n",
              "      <td>NaN</td>\n",
              "      <td>NaN</td>\n",
              "      <td>NaN</td>\n",
              "      <td>NaN</td>\n",
              "      <td>NaN</td>\n",
              "    </tr>\n",
              "    <tr>\n",
              "      <th>1</th>\n",
              "      <td>2. Economic context</td>\n",
              "      <td>Income</td>\n",
              "      <td>ACS</td>\n",
              "      <td>ACS_GINI_INDEX</td>\n",
              "      <td>Gini index of income inequality</td>\n",
              "      <td>0.107646</td>\n",
              "      <td>NaN</td>\n",
              "      <td>NaN</td>\n",
              "      <td>NaN</td>\n",
              "      <td>NaN</td>\n",
              "      <td>NaN</td>\n",
              "      <td>NaN</td>\n",
              "      <td>NaN</td>\n",
              "    </tr>\n",
              "    <tr>\n",
              "      <th>2</th>\n",
              "      <td>2. Economic context</td>\n",
              "      <td>Income</td>\n",
              "      <td>ACS</td>\n",
              "      <td>ACS_MDN_GRNDPRNT_INC</td>\n",
              "      <td>Median income of grandparent householder and/o...</td>\n",
              "      <td>0.371426</td>\n",
              "      <td>NaN</td>\n",
              "      <td>NaN</td>\n",
              "      <td>NaN</td>\n",
              "      <td>NaN</td>\n",
              "      <td>NaN</td>\n",
              "      <td>NaN</td>\n",
              "      <td>NaN</td>\n",
              "    </tr>\n",
              "    <tr>\n",
              "      <th>3</th>\n",
              "      <td>2. Economic context</td>\n",
              "      <td>Income</td>\n",
              "      <td>ACS</td>\n",
              "      <td>ACS_MDN_GRNDPRNT_NO_PRNT_INC</td>\n",
              "      <td>Median income of grandparent householder and/o...</td>\n",
              "      <td>0.383828</td>\n",
              "      <td>NaN</td>\n",
              "      <td>NaN</td>\n",
              "      <td>NaN</td>\n",
              "      <td>NaN</td>\n",
              "      <td>NaN</td>\n",
              "      <td>NaN</td>\n",
              "      <td>NaN</td>\n",
              "    </tr>\n",
              "    <tr>\n",
              "      <th>4</th>\n",
              "      <td>4. Physical infrastructure</td>\n",
              "      <td>Housing</td>\n",
              "      <td>ACS</td>\n",
              "      <td>ACS_MDN_OWNER_COST_MORTGAGE</td>\n",
              "      <td>Median selected monthly owner costs for houses...</td>\n",
              "      <td>-0.015181</td>\n",
              "      <td>NaN</td>\n",
              "      <td>NaN</td>\n",
              "      <td>NaN</td>\n",
              "      <td>NaN</td>\n",
              "      <td>NaN</td>\n",
              "      <td>NaN</td>\n",
              "      <td>NaN</td>\n",
              "    </tr>\n",
              "  </tbody>\n",
              "</table>\n",
              "</div>"
            ],
            "text/plain": [
              "                       Domain         Topic Data Source  \\\n",
              "0           1. Social context  Demographics         ACS   \n",
              "1         2. Economic context        Income         ACS   \n",
              "2         2. Economic context        Income         ACS   \n",
              "3         2. Economic context        Income         ACS   \n",
              "4  4. Physical infrastructure       Housing         ACS   \n",
              "\n",
              "                  Variable Name  \\\n",
              "0               ACS_AVG_HH_SIZE   \n",
              "1                ACS_GINI_INDEX   \n",
              "2          ACS_MDN_GRNDPRNT_INC   \n",
              "3  ACS_MDN_GRNDPRNT_NO_PRNT_INC   \n",
              "4   ACS_MDN_OWNER_COST_MORTGAGE   \n",
              "\n",
              "                                      Variable Label       Age  Address  \\\n",
              "0                             Average household size  0.286492      NaN   \n",
              "1                    Gini index of income inequality  0.107646      NaN   \n",
              "2  Median income of grandparent householder and/o...  0.371426      NaN   \n",
              "3  Median income of grandparent householder and/o...  0.383828      NaN   \n",
              "4  Median selected monthly owner costs for houses... -0.015181      NaN   \n",
              "\n",
              "   Zip Code  Gender  Race  Income  Education  Veteran Status  \n",
              "0       NaN     NaN   NaN     NaN        NaN             NaN  \n",
              "1       NaN     NaN   NaN     NaN        NaN             NaN  \n",
              "2       NaN     NaN   NaN     NaN        NaN             NaN  \n",
              "3       NaN     NaN   NaN     NaN        NaN             NaN  \n",
              "4       NaN     NaN   NaN     NaN        NaN             NaN  "
            ]
          },
          "execution_count": 11,
          "metadata": {},
          "output_type": "execute_result"
        }
      ],
      "source": [
        "df.head(5)"
      ]
    },
    {
      "cell_type": "code",
      "execution_count": 12,
      "metadata": {},
      "outputs": [
        {
          "data": {
            "text/plain": [
              "<Axes: >"
            ]
          },
          "execution_count": 12,
          "metadata": {},
          "output_type": "execute_result"
        },
        {
          "data": {
            "image/png": "[encoded data removed]",
            "text/plain": [
              "<Figure size 640x480 with 1 Axes>"
            ]
          },
          "metadata": {},
          "output_type": "display_data"
        }
      ],
      "source": [
        "df['Age'].hist(bins = 20)"
      ]
    },
    {
      "cell_type": "code",
      "execution_count": 21,
      "metadata": {},
      "outputs": [
        {
          "data": {
            "text/plain": [
              "0.19504889984253887"
            ]
          },
          "execution_count": 21,
          "metadata": {},
          "output_type": "execute_result"
        }
      ],
      "source": [
        "df['Age'].mean()"
      ]
    },
    {
      "cell_type": "code",
      "execution_count": 13,
      "metadata": {},
      "outputs": [
        {
          "data": {
            "text/plain": [
              "['Median age of total population',\n",
              " 'Median age of female population',\n",
              " 'Median age of male population',\n",
              " 'Median income of female population (dollars, ages 15 and over with income in the past 12 months, inflation-adjusted to data file year)',\n",
              " 'Median income of male population (dollars, ages 15 and over with income in the past 12 months, inflation-adjusted to data file year)',\n",
              " 'Percentage of population between ages 0-17',\n",
              " 'Percentage of population between ages 0-4',\n",
              " 'Percentage of population between ages 10-14',\n",
              " 'Percentage of population between ages 15-17',\n",
              " 'Percentage of population between ages 18-29',\n",
              " 'Percentage of population between ages 18-44',\n",
              " 'Percentage of population between ages 30-44',\n",
              " 'Percentage of population between ages 45-64',\n",
              " 'Percentage of population between ages 50-64',\n",
              " 'Percentage of population between ages 5-9',\n",
              " 'Percentage of population ages 65 and over',\n",
              " 'Percentage of population ages 80 and over',\n",
              " \"Percentage of population with a bachelor's degree (ages 25 and over)\",\n",
              " 'Percentage of children living with a grandparent householder (ages 17 and below)',\n",
              " 'Percentage of children with a disability (ages 17 and below)',\n",
              " \"Percentage of population with some college or associate's degree (ages 25 and over)\",\n",
              " 'Percentage of population who are citizens (ages 18 and over)',\n",
              " 'Percentage of female population divorced or separated (ages 15 and over)',\n",
              " 'Percentage of male population divorced or separated (ages 15 and over)',\n",
              " \"Percentage of population with a master's or professional school degree or doctorate (ages 25 and over)\",\n",
              " 'Percentage of households with a person 65 years and over living alone',\n",
              " 'Percentage of population with only high school diploma (ages 25 and over)',\n",
              " 'Percentage of children with income to poverty ratio under 0.50  (ages 17 and below)',\n",
              " 'Percentage of population with less than high school education (ages 25 and over)',\n",
              " 'Percentage of female population now married and spouse absent (ages 15 and over)',\n",
              " 'Percentage of female population now married and spouse present (ages 15 and over)',\n",
              " 'Percentage of nonveterans with a disability (between ages 18 and 64)',\n",
              " 'Percentage of civilian nonveterans with income below the poverty level in the past 12 months (between ages 18 and 64)',\n",
              " 'Percentage of population not in labor force (ages 16 and over)',\n",
              " 'Percentage of teens and adults who are unemployed and not in school (between ages 16 and 19)',\n",
              " 'Percentage of female population never married (ages 15 and over)',\n",
              " 'Percentage of male population never married (ages 15 and over)',\n",
              " 'Percentage of population with any postsecondary education (ages 25 and over)',\n",
              " 'Percentage of population with no health insurance (ages 64 and below)',\n",
              " 'Percentage of civilian veterans with income below the poverty level in past 12 months (between ages 18 and 64)',\n",
              " 'Percentage of female population now widowed (ages 15 and over)',\n",
              " 'Total civilian population (ages 18 and over)',\n",
              " 'Total civilian population for whom poverty status is determined (ages 18 and over)',\n",
              " 'Total grandchildren under 18 living with grandparent householder',\n",
              " 'Total own children (ages 17 and below)',\n",
              " 'Total population (between ages 16 and 19)',\n",
              " 'Total population (ages 15 and over)',\n",
              " 'Total population (ages 16 and over)',\n",
              " 'Total population (ages 25 and over)',\n",
              " 'Total population (ages 5 and over)',\n",
              " 'Total population in the U.S. (ages 1 and over)',\n",
              " 'Age-adjusted prevalence of arthritis among adults aged 18 years and older (%)',\n",
              " 'Age-adjusted prevalence of current asthma among adults aged 18 years and older (%)',\n",
              " 'Age-adjusted prevalence of adults aged 18 years and older with high blood pressure taking medicine for high blood pressure control (%)',\n",
              " 'Age-adjusted prevalence of females aged 21-65 years without a hysterectomy who report having had a recommended cervical cancer screening test (%)',\n",
              " 'Age-adjusted prevalence of adults aged 18 years and older who report having their cholesterol checked within the previous 5 years (%)',\n",
              " 'Age-adjusted prevalence of adults aged 18 years and older who report having been to the dentist or dental clinic in the previous year (%)',\n",
              " 'Age-adjusted prevalence of adults aged 18 years and older who report having been to a doctor for a routine checkup (e.g., a general physical exam, not an exam for a specific injury, illness, condition) in the previous year (%)\\n',\n",
              " 'Age-adjusted prevalence of adults aged 50-75 years who had 1) a fecal occult blood test (FOBT) within the past year, 2) a sigmoidoscopy within the past 5 years and a FOBT within the past year, or 3) a colonoscopy within the past 10 years (%)',\n",
              " 'Crude prevalence of adults aged 50-75 years who had 1) a fecal occult blood test (FOBT) within the past year, 2) a sigmoidoscopy within the past 5 years and a FOBT within the past year, or 3) a colonoscopy within the past 10 years (%)',\n",
              " 'Age-adjusted prevalence of females aged 50-74 years who reporting having had a mammogram within the previous 2 years (%)',\n",
              " 'Age-adjusted prevalence of adults aged 18 years and older who report not having participated in any physical activities or exercises such as running, calisthenics, golf, gardening, or walking for exercise other than regular job (%)',\n",
              " 'Age-adjusted prevalence of females aged 65 years and older who are up to date on a core set of clinical preventive services (%)',\n",
              " 'Crude prevalence of females aged 65 years and older who are up to date on a core set of clinical preventive services (%)',\n",
              " 'Age-adjusted prevalence of males aged 65 years and older who are up to date on a core set of clinical preventive services (%)',\n",
              " 'Crude prevalence of males aged 65 years and older who are up to date on a core set of clinical preventive services (%)',\n",
              " 'Age-adjusted prevalence of adults aged 18 years and older who report ever having been told by a doctor, nurse, or other health professional that they had chronic obstructive pulmonary disease (COPD), emphysema, or chronic bronchitis (%)',\n",
              " 'Age-adjusted prevalence of adults aged 18 years and older who report usually getting less than 7 hours of sleep (%)',\n",
              " 'Crude prevalence of adults aged 18 years and older who report usually getting less than 7 hours of sleep (%)',\n",
              " 'Average life expectancy in years',\n",
              " 'Total number of deaths among children per 100,000 population (ages 17 and below)',\n",
              " 'Total number of premature deaths: age-adjusted per 100,000 population (ages 74 and below)',\n",
              " 'Total number of births per 1,000 females (ages 15-19)',\n",
              " 'Total number of preschool-aged children served (ages 2-5)',\n",
              " 'Total number of Asian female preschool-aged children (ages 2-5)',\n",
              " 'Total number of Asian male preschool-aged children (ages 2-5)',\n",
              " 'Total number of Black female preschool-aged children (ages 2-5)',\n",
              " 'Total number of Native Hawaiian and Pacific Islander female preschool-aged children (ages 2-5)',\n",
              " 'Total number of White female preschool-aged children (ages 2-5)',\n",
              " 'Total number of White male preschool-aged children (ages 2-5)',\n",
              " 'Average age of residents present in a nursing home on the 1st Thursday of April within a county',\n",
              " 'PIAAC Target population: population between age 16-74',\n",
              " 'Estimated population under 65 years ',\n",
              " 'Estimated percentage of people aged 0-17 in poverty',\n",
              " 'Estimated percentage of related children aged 5-17 in families in poverty',\n",
              " 'Estimated number of people aged 0-17 in poverty',\n",
              " 'Estimated number of related children aged 5-17 in families in poverty']"
            ]
          },
          "execution_count": 13,
          "metadata": {},
          "output_type": "execute_result"
        }
      ],
      "source": [
        "df[df['Age'] > 0.4]['Variable Label'].to_list()"
      ]
    },
    {
      "cell_type": "code",
      "execution_count": null,
      "metadata": {},
      "outputs": [],
      "source": [
        "# finding similarity scores for each word in the variable label against 8 words and storing them in that cell\n",
        "\n",
        "# iterating through each row of the dataframe\n",
        "for index, row in df.iterrows():\n",
        "    # getting the variable label\n",
        "    var_label = row['Variable Label']\n",
        "    sentences = [var_label, 'address']\n",
        "    embedding = model.encode(sentences, convert_to_tensor=False)\n",
        "    cosine_scores = util.cos_sim(embedding, embedding)\n",
        "\n",
        "    d = {}\n",
        "    for i, v1 in enumerate(sentences):\n",
        "        for j, v2 in enumerate(sentences):\n",
        "            if i >= j:\n",
        "                continue\n",
        "            d[v1 + ' vs. ' + v2] = cosine_scores[i][j].item()\n",
        "\n",
        "    # sort by score\n",
        "    d_sorted = dict(sorted(d.items(), key=lambda x: x[1], reverse=True))\n",
        "    \n",
        "    # storing it in the cell\n",
        "    df.at[index, 'Age'] = d_sorted[var_label + ' vs. age']"
      ]
    },
    {
      "cell_type": "code",
      "execution_count": 35,
      "metadata": {},
      "outputs": [],
      "source": [
        "# plotting tsne on embeddings for all the variable labels with age cell value > 0.4\n",
        "from sklearn.manifold import TSNE\n",
        "import matplotlib.pyplot as plt\n",
        "\n",
        "# getting the embeddings for all the variable labels\n",
        "sentences = df[df['Age'] > 0.4]['Variable Label'].to_list()\n",
        "embedding = model.encode(sentences, convert_to_tensor=False)\n",
        "# sentences.append('age')\n",
        "# tsne not printing the sentences just a dot\n",
        "tsne = TSNE(n_components=2)\n",
        "Y = tsne.fit_transform(embedding)\n",
        "\n",
        "\n",
        "# # plotting\n",
        "# plt.scatter(Y[:, 0], Y[:, 1])\n",
        "# for label, x, y in zip(sentences, Y[:, 0], Y[:, 1]):\n",
        "#     plt.annotate(label, xy=(x, y), xytext=(0, 0), textcoords='offset points')\n",
        "# plt.show()\n",
        "\n",
        "# import plotly.express as px\n",
        "\n",
        "# fig=px.scatter_3d(x=Y[:, 0], y=Y[:, 1], z=Y[:, 1], color='y', opacity=0.8)\n",
        "# fig.show()"
      ]
    },
    {
      "cell_type": "code",
      "execution_count": 61,
      "metadata": {},
      "outputs": [
        {
          "name": "stdout",
          "output_type": "stream",
          "text": [
            "      TSNE1     TSNE2\n",
            "0  3.749070  2.490451\n",
            "1  4.073554  2.405147\n",
            "2  3.948820  2.854011\n",
            "3  0.706086  0.965515\n",
            "4  1.112968  0.387909\n",
            "5  0.777546  0.770146\n",
            "6  0.439503  1.098235\n",
            "7  1.396493  0.888758\n",
            "8  1.701406  0.698797\n",
            "9  1.903257  0.607982\n"
          ]
        },
        {
          "data": {
            "application/vnd.plotly.v1+json": {
              "config": {
                "plotlyServerURL": "https://plot.ly"
              },
              "data": [
                {
                  "hovertemplate": "TSNE1=%{x}<br>TSNE2=%{y}<extra></extra>",
                  "legendgroup": "",
                  "marker": {
                    "color": "#636efa",
                    "symbol": "circle"
                  },
                  "mode": "markers",
                  "name": "",
                  "orientation": "v",
                  "showlegend": false,
                  "type": "scatter",
                  "x": [
                    3.7490697,
                    4.0735536,
                    3.9488196,
                    0.70608646,
                    1.1129676,
                    0.7775464,
                    0.4395025,
                    1.3964931,
                    1.7014056,
                    1.903257,
                    2.3142428,
                    2.4597921,
                    0.49624652,
                    3.7806485,
                    3.5275311,
                    2.247199,
                    0.012239852,
                    5.89727,
                    0.070779756,
                    1.3156863,
                    2.0670793,
                    -0.42451453,
                    0.036515787,
                    4.5311117,
                    4.6504974,
                    -0.055544384,
                    0.11591778,
                    0.027895845,
                    2.856532,
                    1.8429829,
                    1.9518085,
                    5.9557757,
                    -1.1817366,
                    0.27528957,
                    -0.09587359,
                    0.10072735,
                    0.94595397,
                    0.47688138,
                    0.5698477,
                    5.1051116,
                    3.8496459,
                    5.688303,
                    4.831134,
                    4.7849164,
                    3.186687,
                    3.1231892,
                    4.199321,
                    4.16149,
                    3.861701,
                    5.0390544,
                    4.00135,
                    5.840226,
                    4.8146586,
                    4.9518166,
                    4.981227,
                    3.9759333,
                    3.2318194,
                    6.5714364,
                    6.5873327,
                    4.913998,
                    3.1496732,
                    -1.732407,
                    4.921226,
                    -0.9327778,
                    4.040091,
                    1.5620451,
                    1.5822729,
                    2.0281885
                  ],
                  "xaxis": "x",
                  "y": [
                    2.4904509,
                    2.4051473,
                    2.8540113,
                    0.9655153,
                    0.38790944,
                    0.7701457,
                    1.0982351,
                    0.8887579,
                    0.6987969,
                    0.6079824,
                    0.5782,
                    0.59083474,
                    0.48233408,
                    0.61884135,
                    0.4655652,
                    3.6308436,
                    -1.8741264,
                    1.466994,
                    -1.8314383,
                    1.5095165,
                    1.4925234,
                    0.062421102,
                    -1.9408672,
                    0.4042806,
                    0.36803177,
                    -0.997897,
                    -0.78302735,
                    -1.2344124,
                    -0.45362762,
                    2.8870442,
                    2.544451,
                    1.4910661,
                    1.077121,
                    1.8302544,
                    2.280095,
                    2.2578578,
                    2.6653943,
                    2.9024029,
                    3.1356947,
                    -5.0379066,
                    -5.110754,
                    -3.8805346,
                    -4.1710725,
                    -4.27104,
                    -4.0666986,
                    -4.085324,
                    -3.3704896,
                    -3.3707535,
                    -3.1326249,
                    -3.9205115,
                    -2.3874185,
                    -3.0187235,
                    -2.4644902,
                    -2.5600238,
                    -2.5262575,
                    -4.3896422,
                    -3.0868366,
                    -1.2192212,
                    -1.1756841,
                    -3.4848409,
                    1.3601179,
                    0.44487315,
                    -1.1417975,
                    2.2975066,
                    0.82766265,
                    -0.88180137,
                    -0.9083401,
                    -4.381173
                  ],
                  "yaxis": "y"
                }
              ],
              "layout": {
                "legend": {
                  "tracegroupgap": 0
                },
                "template": {
                  "data": {
                    "bar": [
                      {
                        "error_x": {
                          "color": "#2a3f5f"
                        },
                        "error_y": {
                          "color": "#2a3f5f"
                        },
                        "marker": {
                          "line": {
                            "color": "#E5ECF6",
                            "width": 0.5
                          },
                          "pattern": {
                            "fillmode": "overlay",
                            "size": 10,
                            "solidity": 0.2
                          }
                        },
                        "type": "bar"
                      }
                    ],
                    "barpolar": [
                      {
                        "marker": {
                          "line": {
                            "color": "#E5ECF6",
                            "width": 0.5
                          },
                          "pattern": {
                            "fillmode": "overlay",
                            "size": 10,
                            "solidity": 0.2
                          }
                        },
                        "type": "barpolar"
                      }
                    ],
                    "carpet": [
                      {
                        "aaxis": {
                          "endlinecolor": "#2a3f5f",
                          "gridcolor": "white",
                          "linecolor": "white",
                          "minorgridcolor": "white",
                          "startlinecolor": "#2a3f5f"
                        },
                        "baxis": {
                          "endlinecolor": "#2a3f5f",
                          "gridcolor": "white",
                          "linecolor": "white",
                          "minorgridcolor": "white",
                          "startlinecolor": "#2a3f5f"
                        },
                        "type": "carpet"
                      }
                    ],
                    "choropleth": [
                      {
                        "colorbar": {
                          "outlinewidth": 0,
                          "ticks": ""
                        },
                        "type": "choropleth"
                      }
                    ],
                    "contour": [
                      {
                        "colorbar": {
                          "outlinewidth": 0,
                          "ticks": ""
                        },
                        "colorscale": [
                          [
                            0,
                            "#0d0887"
                          ],
                          [
                            0.1111111111111111,
                            "#46039f"
                          ],
                          [
                            0.2222222222222222,
                            "#7201a8"
                          ],
                          [
                            0.3333333333333333,
                            "#9c179e"
                          ],
                          [
                            0.4444444444444444,
                            "#bd3786"
                          ],
                          [
                            0.5555555555555556,
                            "#d8576b"
                          ],
                          [
                            0.6666666666666666,
                            "#ed7953"
                          ],
                          [
                            0.7777777777777778,
                            "#fb9f3a"
                          ],
                          [
                            0.8888888888888888,
                            "#fdca26"
                          ],
                          [
                            1,
                            "#f0f921"
                          ]
                        ],
                        "type": "contour"
                      }
                    ],
                    "contourcarpet": [
                      {
                        "colorbar": {
                          "outlinewidth": 0,
                          "ticks": ""
                        },
                        "type": "contourcarpet"
                      }
                    ],
                    "heatmap": [
                      {
                        "colorbar": {
                          "outlinewidth": 0,
                          "ticks": ""
                        },
                        "colorscale": [
                          [
                            0,
                            "#0d0887"
                          ],
                          [
                            0.1111111111111111,
                            "#46039f"
                          ],
                          [
                            0.2222222222222222,
                            "#7201a8"
                          ],
                          [
                            0.3333333333333333,
                            "#9c179e"
                          ],
                          [
                            0.4444444444444444,
                            "#bd3786"
                          ],
                          [
                            0.5555555555555556,
                            "#d8576b"
                          ],
                          [
                            0.6666666666666666,
                            "#ed7953"
                          ],
                          [
                            0.7777777777777778,
                            "#fb9f3a"
                          ],
                          [
                            0.8888888888888888,
                            "#fdca26"
                          ],
                          [
                            1,
                            "#f0f921"
                          ]
                        ],
                        "type": "heatmap"
                      }
                    ],
                    "heatmapgl": [
                      {
                        "colorbar": {
                          "outlinewidth": 0,
                          "ticks": ""
                        },
                        "colorscale": [
                          [
                            0,
                            "#0d0887"
                          ],
                          [
                            0.1111111111111111,
                            "#46039f"
                          ],
                          [
                            0.2222222222222222,
                            "#7201a8"
                          ],
                          [
                            0.3333333333333333,
                            "#9c179e"
                          ],
                          [
                            0.4444444444444444,
                            "#bd3786"
                          ],
                          [
                            0.5555555555555556,
                            "#d8576b"
                          ],
                          [
                            0.6666666666666666,
                            "#ed7953"
                          ],
                          [
                            0.7777777777777778,
                            "#fb9f3a"
                          ],
                          [
                            0.8888888888888888,
                            "#fdca26"
                          ],
                          [
                            1,
                            "#f0f921"
                          ]
                        ],
                        "type": "heatmapgl"
                      }
                    ],
                    "histogram": [
                      {
                        "marker": {
                          "pattern": {
                            "fillmode": "overlay",
                            "size": 10,
                            "solidity": 0.2
                          }
                        },
                        "type": "histogram"
                      }
                    ],
                    "histogram2d": [
                      {
                        "colorbar": {
                          "outlinewidth": 0,
                          "ticks": ""
                        },
                        "colorscale": [
                          [
                            0,
                            "#0d0887"
                          ],
                          [
                            0.1111111111111111,
                            "#46039f"
                          ],
                          [
                            0.2222222222222222,
                            "#7201a8"
                          ],
                          [
                            0.3333333333333333,
                            "#9c179e"
                          ],
                          [
                            0.4444444444444444,
                            "#bd3786"
                          ],
                          [
                            0.5555555555555556,
                            "#d8576b"
                          ],
                          [
                            0.6666666666666666,
                            "#ed7953"
                          ],
                          [
                            0.7777777777777778,
                            "#fb9f3a"
                          ],
                          [
                            0.8888888888888888,
                            "#fdca26"
                          ],
                          [
                            1,
                            "#f0f921"
                          ]
                        ],
                        "type": "histogram2d"
                      }
                    ],
                    "histogram2dcontour": [
                      {
                        "colorbar": {
                          "outlinewidth": 0,
                          "ticks": ""
                        },
                        "colorscale": [
                          [
                            0,
                            "#0d0887"
                          ],
                          [
                            0.1111111111111111,
                            "#46039f"
                          ],
                          [
                            0.2222222222222222,
                            "#7201a8"
                          ],
                          [
                            0.3333333333333333,
                            "#9c179e"
                          ],
                          [
                            0.4444444444444444,
                            "#bd3786"
                          ],
                          [
                            0.5555555555555556,
                            "#d8576b"
                          ],
                          [
                            0.6666666666666666,
                            "#ed7953"
                          ],
                          [
                            0.7777777777777778,
                            "#fb9f3a"
                          ],
                          [
                            0.8888888888888888,
                            "#fdca26"
                          ],
                          [
                            1,
                            "#f0f921"
                          ]
                        ],
                        "type": "histogram2dcontour"
                      }
                    ],
                    "mesh3d": [
                      {
                        "colorbar": {
                          "outlinewidth": 0,
                          "ticks": ""
                        },
                        "type": "mesh3d"
                      }
                    ],
                    "parcoords": [
                      {
                        "line": {
                          "colorbar": {
                            "outlinewidth": 0,
                            "ticks": ""
                          }
                        },
                        "type": "parcoords"
                      }
                    ],
                    "pie": [
                      {
                        "automargin": true,
                        "type": "pie"
                      }
                    ],
                    "scatter": [
                      {
                        "fillpattern": {
                          "fillmode": "overlay",
                          "size": 10,
                          "solidity": 0.2
                        },
                        "type": "scatter"
                      }
                    ],
                    "scatter3d": [
                      {
                        "line": {
                          "colorbar": {
                            "outlinewidth": 0,
                            "ticks": ""
                          }
                        },
                        "marker": {
                          "colorbar": {
                            "outlinewidth": 0,
                            "ticks": ""
                          }
                        },
                        "type": "scatter3d"
                      }
                    ],
                    "scattercarpet": [
                      {
                        "marker": {
                          "colorbar": {
                            "outlinewidth": 0,
                            "ticks": ""
                          }
                        },
                        "type": "scattercarpet"
                      }
                    ],
                    "scattergeo": [
                      {
                        "marker": {
                          "colorbar": {
                            "outlinewidth": 0,
                            "ticks": ""
                          }
                        },
                        "type": "scattergeo"
                      }
                    ],
                    "scattergl": [
                      {
                        "marker": {
                          "colorbar": {
                            "outlinewidth": 0,
                            "ticks": ""
                          }
                        },
                        "type": "scattergl"
                      }
                    ],
                    "scattermapbox": [
                      {
                        "marker": {
                          "colorbar": {
                            "outlinewidth": 0,
                            "ticks": ""
                          }
                        },
                        "type": "scattermapbox"
                      }
                    ],
                    "scatterpolar": [
                      {
                        "marker": {
                          "colorbar": {
                            "outlinewidth": 0,
                            "ticks": ""
                          }
                        },
                        "type": "scatterpolar"
                      }
                    ],
                    "scatterpolargl": [
                      {
                        "marker": {
                          "colorbar": {
                            "outlinewidth": 0,
                            "ticks": ""
                          }
                        },
                        "type": "scatterpolargl"
                      }
                    ],
                    "scatterternary": [
                      {
                        "marker": {
                          "colorbar": {
                            "outlinewidth": 0,
                            "ticks": ""
                          }
                        },
                        "type": "scatterternary"
                      }
                    ],
                    "surface": [
                      {
                        "colorbar": {
                          "outlinewidth": 0,
                          "ticks": ""
                        },
                        "colorscale": [
                          [
                            0,
                            "#0d0887"
                          ],
                          [
                            0.1111111111111111,
                            "#46039f"
                          ],
                          [
                            0.2222222222222222,
                            "#7201a8"
                          ],
                          [
                            0.3333333333333333,
                            "#9c179e"
                          ],
                          [
                            0.4444444444444444,
                            "#bd3786"
                          ],
                          [
                            0.5555555555555556,
                            "#d8576b"
                          ],
                          [
                            0.6666666666666666,
                            "#ed7953"
                          ],
                          [
                            0.7777777777777778,
                            "#fb9f3a"
                          ],
                          [
                            0.8888888888888888,
                            "#fdca26"
                          ],
                          [
                            1,
                            "#f0f921"
                          ]
                        ],
                        "type": "surface"
                      }
                    ],
                    "table": [
                      {
                        "cells": {
                          "fill": {
                            "color": "#EBF0F8"
                          },
                          "line": {
                            "color": "white"
                          }
                        },
                        "header": {
                          "fill": {
                            "color": "#C8D4E3"
                          },
                          "line": {
                            "color": "white"
                          }
                        },
                        "type": "table"
                      }
                    ]
                  },
                  "layout": {
                    "annotationdefaults": {
                      "arrowcolor": "#2a3f5f",
                      "arrowhead": 0,
                      "arrowwidth": 1
                    },
                    "autotypenumbers": "strict",
                    "coloraxis": {
                      "colorbar": {
                        "outlinewidth": 0,
                        "ticks": ""
                      }
                    },
                    "colorscale": {
                      "diverging": [
                        [
                          0,
                          "#8e0152"
                        ],
                        [
                          0.1,
                          "#c51b7d"
                        ],
                        [
                          0.2,
                          "#de77ae"
                        ],
                        [
                          0.3,
                          "#f1b6da"
                        ],
                        [
                          0.4,
                          "#fde0ef"
                        ],
                        [
                          0.5,
                          "#f7f7f7"
                        ],
                        [
                          0.6,
                          "#e6f5d0"
                        ],
                        [
                          0.7,
                          "#b8e186"
                        ],
                        [
                          0.8,
                          "#7fbc41"
                        ],
                        [
                          0.9,
                          "#4d9221"
                        ],
                        [
                          1,
                          "#276419"
                        ]
                      ],
                      "sequential": [
                        [
                          0,
                          "#0d0887"
                        ],
                        [
                          0.1111111111111111,
                          "#46039f"
                        ],
                        [
                          0.2222222222222222,
                          "#7201a8"
                        ],
                        [
                          0.3333333333333333,
                          "#9c179e"
                        ],
                        [
                          0.4444444444444444,
                          "#bd3786"
                        ],
                        [
                          0.5555555555555556,
                          "#d8576b"
                        ],
                        [
                          0.6666666666666666,
                          "#ed7953"
                        ],
                        [
                          0.7777777777777778,
                          "#fb9f3a"
                        ],
                        [
                          0.8888888888888888,
                          "#fdca26"
                        ],
                        [
                          1,
                          "#f0f921"
                        ]
                      ],
                      "sequentialminus": [
                        [
                          0,
                          "#0d0887"
                        ],
                        [
                          0.1111111111111111,
                          "#46039f"
                        ],
                        [
                          0.2222222222222222,
                          "#7201a8"
                        ],
                        [
                          0.3333333333333333,
                          "#9c179e"
                        ],
                        [
                          0.4444444444444444,
                          "#bd3786"
                        ],
                        [
                          0.5555555555555556,
                          "#d8576b"
                        ],
                        [
                          0.6666666666666666,
                          "#ed7953"
                        ],
                        [
                          0.7777777777777778,
                          "#fb9f3a"
                        ],
                        [
                          0.8888888888888888,
                          "#fdca26"
                        ],
                        [
                          1,
                          "#f0f921"
                        ]
                      ]
                    },
                    "colorway": [
                      "#636efa",
                      "#EF553B",
                      "#00cc96",
                      "#ab63fa",
                      "#FFA15A",
                      "#19d3f3",
                      "#FF6692",
                      "#B6E880",
                      "#FF97FF",
                      "#FECB52"
                    ],
                    "font": {
                      "color": "#2a3f5f"
                    },
                    "geo": {
                      "bgcolor": "white",
                      "lakecolor": "white",
                      "landcolor": "#E5ECF6",
                      "showlakes": true,
                      "showland": true,
                      "subunitcolor": "white"
                    },
                    "hoverlabel": {
                      "align": "left"
                    },
                    "hovermode": "closest",
                    "mapbox": {
                      "style": "light"
                    },
                    "paper_bgcolor": "white",
                    "plot_bgcolor": "#E5ECF6",
                    "polar": {
                      "angularaxis": {
                        "gridcolor": "white",
                        "linecolor": "white",
                        "ticks": ""
                      },
                      "bgcolor": "#E5ECF6",
                      "radialaxis": {
                        "gridcolor": "white",
                        "linecolor": "white",
                        "ticks": ""
                      }
                    },
                    "scene": {
                      "xaxis": {
                        "backgroundcolor": "#E5ECF6",
                        "gridcolor": "white",
                        "gridwidth": 2,
                        "linecolor": "white",
                        "showbackground": true,
                        "ticks": "",
                        "zerolinecolor": "white"
                      },
                      "yaxis": {
                        "backgroundcolor": "#E5ECF6",
                        "gridcolor": "white",
                        "gridwidth": 2,
                        "linecolor": "white",
                        "showbackground": true,
                        "ticks": "",
                        "zerolinecolor": "white"
                      },
                      "zaxis": {
                        "backgroundcolor": "#E5ECF6",
                        "gridcolor": "white",
                        "gridwidth": 2,
                        "linecolor": "white",
                        "showbackground": true,
                        "ticks": "",
                        "zerolinecolor": "white"
                      }
                    },
                    "shapedefaults": {
                      "line": {
                        "color": "#2a3f5f"
                      }
                    },
                    "ternary": {
                      "aaxis": {
                        "gridcolor": "white",
                        "linecolor": "white",
                        "ticks": ""
                      },
                      "baxis": {
                        "gridcolor": "white",
                        "linecolor": "white",
                        "ticks": ""
                      },
                      "bgcolor": "#E5ECF6",
                      "caxis": {
                        "gridcolor": "white",
                        "linecolor": "white",
                        "ticks": ""
                      }
                    },
                    "title": {
                      "x": 0.05
                    },
                    "xaxis": {
                      "automargin": true,
                      "gridcolor": "white",
                      "linecolor": "white",
                      "ticks": "",
                      "title": {
                        "standoff": 15
                      },
                      "zerolinecolor": "white",
                      "zerolinewidth": 2
                    },
                    "yaxis": {
                      "automargin": true,
                      "gridcolor": "white",
                      "linecolor": "white",
                      "ticks": "",
                      "title": {
                        "standoff": 15
                      },
                      "zerolinecolor": "white",
                      "zerolinewidth": 2
                    }
                  }
                },
                "title": {
                  "text": "t-SNE Visualization of Embeddings"
                },
                "xaxis": {
                  "anchor": "y",
                  "domain": [
                    0,
                    1
                  ],
                  "title": {
                    "text": "TSNE1"
                  }
                },
                "yaxis": {
                  "anchor": "x",
                  "domain": [
                    0,
                    1
                  ],
                  "title": {
                    "text": "TSNE2"
                  }
                }
              }
            }
          },
          "metadata": {},
          "output_type": "display_data"
        }
      ],
      "source": [
        "import pandas as pd\n",
        "from sklearn.manifold import TSNE\n",
        "import plotly.express as px\n",
        "\n",
        "# Assuming 'embedding' is a 2D array of size (number_of_embeddings, 384)\n",
        "# You may need to reshape your embeddings if it's not in this format\n",
        "\n",
        "# Assuming df is your DataFrame containing the variable labels and ages\n",
        "sentences = df[df['Age'] > 0.4]['Variable Label'].to_list()\n",
        "\n",
        "# Assuming 'model' is your embedding model, replace it with the actual model you are using\n",
        "embedding = model.encode(sentences, convert_to_tensor=False)\n",
        "\n",
        "# converting \"age\" to embeddings and adding it to the list\n",
        "age_embedding = model.encode(['age'], convert_to_tensor=False)\n",
        "print(age_embedding)\n",
        "\n",
        "# Perform t-SNE\n",
        "tsne = TSNE(n_components=2)\n",
        "Y = tsne.fit_transform(embedding)\n",
        "\n",
        "# Create a DataFrame for Plotly\n",
        "tsne_df = pd.DataFrame(data=Y, columns=['TSNE1', 'TSNE2'])\n",
        "print(tsne_df.head(10))\n",
        "tsne_df['Variable Label'] = sentences\n",
        "\n",
        "# Create the scatter plot using Plotly Express\n",
        "fig = px.scatter(tsne_df, x='TSNE1', y='TSNE2', title='t-SNE Visualization of Embeddings')\n",
        "\n",
        "# Add the \"age\" embedding to the plot which is a single\n",
        "\n",
        "     \n",
        "# Show the plot\n",
        "fig.show()"
      ]
    },
    {
      "cell_type": "code",
      "execution_count": 20,
      "metadata": {},
      "outputs": [
        {
          "name": "stdout",
          "output_type": "stream",
          "text": [
            "(88, 384) embedding shape\n",
            "       TSNE1       TSNE2       TSNE3\n",
            "0  75.455231   55.135921   86.895348\n",
            "1  56.555199   92.919708   46.863457\n",
            "2  29.748562  108.190491   63.874825\n",
            "3 -39.707344   40.105583  125.718315\n",
            "4 -54.116615  -13.818153  -13.465826\n",
            "5 -50.956108   -2.829229  -41.436153\n",
            "6  27.223808   41.506786   60.670856\n",
            "7 -70.611214   38.147648   17.092583\n",
            "8 -51.942459   54.854698  -16.847879\n",
            "9  45.497761   90.627151   -4.851148\n"
          ]
        },
        {
          "data": {
            "application/vnd.plotly.v1+json": {
              "config": {
                "plotlyServerURL": "https://plot.ly"
              },
              "data": [
                {
                  "hovertemplate": "TSNE1=%{x}<br>TSNE2=%{y}<br>TSNE3=%{z}<extra></extra>",
                  "legendgroup": "",
                  "marker": {
                    "color": "#636efa",
                    "symbol": "circle"
                  },
                  "mode": "markers",
                  "name": "",
                  "scene": "scene",
                  "showlegend": false,
                  "type": "scatter3d",
                  "x": [
                    75.45523,
                    56.5552,
                    29.748562,
                    -39.707344,
                    -54.116615,
                    -50.95611,
                    27.223808,
                    -70.61121,
                    -51.94246,
                    45.49776,
                    -38.445602,
                    -19.350267,
                    -28.05184,
                    2.8273418,
                    111.60026,
                    18.723673,
                    34.64416,
                    39.18217,
                    12.387699,
                    -4.105846,
                    36.88681,
                    -42.765488,
                    -41.263752,
                    31.074802,
                    -5.3320193,
                    -12.362458,
                    -80.69752,
                    61.72321,
                    -96.50243,
                    -2.1734064,
                    -5.496964,
                    -20.86272,
                    43.610424,
                    -96.99496,
                    -25.37374,
                    40.52753,
                    1.8386098,
                    -30.858843,
                    20.130157,
                    74.506966,
                    -3.4973178,
                    -53.697155,
                    46.799927,
                    -86.318344,
                    -4.3742924,
                    94.33014,
                    11.099524,
                    14.676002,
                    -53.55275,
                    19.506355,
                    -15.675033,
                    -19.784372,
                    -57.465076,
                    -45.447254,
                    -2.3782244,
                    -61.16806,
                    -17.455084,
                    38.359158,
                    103.181915,
                    -41.846622,
                    -18.838623,
                    -51.068142,
                    -73.76839,
                    77.73122,
                    -72.8251,
                    -23.251953,
                    -42.61572,
                    -89.35187,
                    2.7613802,
                    3.2477005,
                    -0.051055845,
                    65.38161,
                    -101.64907,
                    64.2397,
                    74.40663,
                    110.92782,
                    77.92613,
                    108.43328,
                    114.008766,
                    -72.13021,
                    -40.263157,
                    6.2906556,
                    20.989824,
                    69.7572,
                    27.008755,
                    -94.84702,
                    -123.915855,
                    81.47802
                  ],
                  "y": [
                    55.13592,
                    92.91971,
                    108.19049,
                    40.105583,
                    -13.818153,
                    -2.8292286,
                    41.506786,
                    38.147648,
                    54.8547,
                    90.62715,
                    24.989447,
                    53.603302,
                    22.812563,
                    17.247667,
                    40.71874,
                    61.83056,
                    -12.998694,
                    4.697047,
                    -112.238144,
                    -0.2803879,
                    -45.49875,
                    -34.28119,
                    3.771038,
                    -70.47258,
                    -29.69658,
                    -22.187971,
                    44.479095,
                    46.515583,
                    -47.09452,
                    101.95542,
                    73.80764,
                    47.45407,
                    -29.023989,
                    -14.509728,
                    99.968834,
                    -53.331367,
                    -74.63468,
                    -63.910545,
                    -11.819264,
                    -55.39399,
                    -47.30175,
                    124.61326,
                    85.85354,
                    -22.173891,
                    17.014717,
                    -74.26488,
                    25.8214,
                    62.900944,
                    81.19122,
                    46.807198,
                    31.33732,
                    73.79854,
                    -87.108086,
                    -129.2726,
                    -92.23293,
                    -56.717117,
                    -85.718834,
                    -101.116615,
                    187.9506,
                    -34.81653,
                    -38.725716,
                    -56.681282,
                    -109.35127,
                    -19.006277,
                    -94.9036,
                    -86.691025,
                    -99.12887,
                    -75.455475,
                    82.91044,
                    -134.77896,
                    127.1145,
                    15.627658,
                    15.015521,
                    36.96903,
                    -10.020851,
                    -29.169802,
                    -43.11923,
                    -11.691134,
                    3.9664176,
                    38.651764,
                    50.813854,
                    -55.309093,
                    32.36042,
                    13.229476,
                    -8.498548,
                    -8.5639925,
                    -31.825794,
                    -37.650017
                  ],
                  "z": [
                    86.89535,
                    46.863457,
                    63.874825,
                    125.718315,
                    -13.465826,
                    -41.436153,
                    60.670856,
                    17.092583,
                    -16.84788,
                    -4.851148,
                    39.87546,
                    23.240664,
                    2.7624667,
                    34.987576,
                    18.385092,
                    23.662169,
                    44.45398,
                    12.756555,
                    24.490973,
                    -101.84479,
                    -89.98408,
                    35.174847,
                    74.46752,
                    43.0128,
                    68.55164,
                    16.682474,
                    74.278694,
                    6.3735237,
                    42.1773,
                    1.4518199,
                    92.71796,
                    78.38001,
                    -117.946976,
                    -66.38951,
                    52.483463,
                    -31.439445,
                    71.92348,
                    77.37919,
                    -40.652298,
                    60.12415,
                    123.16001,
                    -4.6059794,
                    -62.721313,
                    88.338554,
                    -126.95423,
                    -27.31545,
                    -15.026832,
                    -22.346558,
                    18.336329,
                    -59.205894,
                    -48.344044,
                    -43.4113,
                    -100.680954,
                    -26.81658,
                    -87.9695,
                    -57.806923,
                    -46.954758,
                    -41.99061,
                    -57.948666,
                    -84.10397,
                    -61.98701,
                    -16.898407,
                    -59.7485,
                    92.887146,
                    7.6913986,
                    -1.9062376,
                    27.279371,
                    -33.461155,
                    -105.514824,
                    -43.614574,
                    -49.832443,
                    -87.22957,
                    -26.78777,
                    -42.404842,
                    -20.271143,
                    -14.212106,
                    5.4272094,
                    21.982533,
                    -37.906933,
                    -76.86746,
                    -94.36472,
                    -2.3263302,
                    127.649025,
                    50.617325,
                    99.65018,
                    34.068573,
                    4.0917263,
                    -68.42162
                  ]
                },
                {
                  "marker": {
                    "color": "red"
                  },
                  "mode": "markers",
                  "showlegend": false,
                  "type": "scatter3d",
                  "x": [
                    0
                  ],
                  "y": [
                    0
                  ],
                  "z": [
                    0
                  ]
                }
              ],
              "layout": {
                "legend": {
                  "tracegroupgap": 0
                },
                "scene": {
                  "domain": {
                    "x": [
                      0,
                      1
                    ],
                    "y": [
                      0,
                      1
                    ]
                  },
                  "xaxis": {
                    "title": {
                      "text": "TSNE1"
                    }
                  },
                  "yaxis": {
                    "title": {
                      "text": "TSNE2"
                    }
                  },
                  "zaxis": {
                    "title": {
                      "text": "TSNE3"
                    }
                  }
                },
                "template": {
                  "data": {
                    "bar": [
                      {
                        "error_x": {
                          "color": "#2a3f5f"
                        },
                        "error_y": {
                          "color": "#2a3f5f"
                        },
                        "marker": {
                          "line": {
                            "color": "#E5ECF6",
                            "width": 0.5
                          },
                          "pattern": {
                            "fillmode": "overlay",
                            "size": 10,
                            "solidity": 0.2
                          }
                        },
                        "type": "bar"
                      }
                    ],
                    "barpolar": [
                      {
                        "marker": {
                          "line": {
                            "color": "#E5ECF6",
                            "width": 0.5
                          },
                          "pattern": {
                            "fillmode": "overlay",
                            "size": 10,
                            "solidity": 0.2
                          }
                        },
                        "type": "barpolar"
                      }
                    ],
                    "carpet": [
                      {
                        "aaxis": {
                          "endlinecolor": "#2a3f5f",
                          "gridcolor": "white",
                          "linecolor": "white",
                          "minorgridcolor": "white",
                          "startlinecolor": "#2a3f5f"
                        },
                        "baxis": {
                          "endlinecolor": "#2a3f5f",
                          "gridcolor": "white",
                          "linecolor": "white",
                          "minorgridcolor": "white",
                          "startlinecolor": "#2a3f5f"
                        },
                        "type": "carpet"
                      }
                    ],
                    "choropleth": [
                      {
                        "colorbar": {
                          "outlinewidth": 0,
                          "ticks": ""
                        },
                        "type": "choropleth"
                      }
                    ],
                    "contour": [
                      {
                        "colorbar": {
                          "outlinewidth": 0,
                          "ticks": ""
                        },
                        "colorscale": [
                          [
                            0,
                            "#0d0887"
                          ],
                          [
                            0.1111111111111111,
                            "#46039f"
                          ],
                          [
                            0.2222222222222222,
                            "#7201a8"
                          ],
                          [
                            0.3333333333333333,
                            "#9c179e"
                          ],
                          [
                            0.4444444444444444,
                            "#bd3786"
                          ],
                          [
                            0.5555555555555556,
                            "#d8576b"
                          ],
                          [
                            0.6666666666666666,
                            "#ed7953"
                          ],
                          [
                            0.7777777777777778,
                            "#fb9f3a"
                          ],
                          [
                            0.8888888888888888,
                            "#fdca26"
                          ],
                          [
                            1,
                            "#f0f921"
                          ]
                        ],
                        "type": "contour"
                      }
                    ],
                    "contourcarpet": [
                      {
                        "colorbar": {
                          "outlinewidth": 0,
                          "ticks": ""
                        },
                        "type": "contourcarpet"
                      }
                    ],
                    "heatmap": [
                      {
                        "colorbar": {
                          "outlinewidth": 0,
                          "ticks": ""
                        },
                        "colorscale": [
                          [
                            0,
                            "#0d0887"
                          ],
                          [
                            0.1111111111111111,
                            "#46039f"
                          ],
                          [
                            0.2222222222222222,
                            "#7201a8"
                          ],
                          [
                            0.3333333333333333,
                            "#9c179e"
                          ],
                          [
                            0.4444444444444444,
                            "#bd3786"
                          ],
                          [
                            0.5555555555555556,
                            "#d8576b"
                          ],
                          [
                            0.6666666666666666,
                            "#ed7953"
                          ],
                          [
                            0.7777777777777778,
                            "#fb9f3a"
                          ],
                          [
                            0.8888888888888888,
                            "#fdca26"
                          ],
                          [
                            1,
                            "#f0f921"
                          ]
                        ],
                        "type": "heatmap"
                      }
                    ],
                    "heatmapgl": [
                      {
                        "colorbar": {
                          "outlinewidth": 0,
                          "ticks": ""
                        },
                        "colorscale": [
                          [
                            0,
                            "#0d0887"
                          ],
                          [
                            0.1111111111111111,
                            "#46039f"
                          ],
                          [
                            0.2222222222222222,
                            "#7201a8"
                          ],
                          [
                            0.3333333333333333,
                            "#9c179e"
                          ],
                          [
                            0.4444444444444444,
                            "#bd3786"
                          ],
                          [
                            0.5555555555555556,
                            "#d8576b"
                          ],
                          [
                            0.6666666666666666,
                            "#ed7953"
                          ],
                          [
                            0.7777777777777778,
                            "#fb9f3a"
                          ],
                          [
                            0.8888888888888888,
                            "#fdca26"
                          ],
                          [
                            1,
                            "#f0f921"
                          ]
                        ],
                        "type": "heatmapgl"
                      }
                    ],
                    "histogram": [
                      {
                        "marker": {
                          "pattern": {
                            "fillmode": "overlay",
                            "size": 10,
                            "solidity": 0.2
                          }
                        },
                        "type": "histogram"
                      }
                    ],
                    "histogram2d": [
                      {
                        "colorbar": {
                          "outlinewidth": 0,
                          "ticks": ""
                        },
                        "colorscale": [
                          [
                            0,
                            "#0d0887"
                          ],
                          [
                            0.1111111111111111,
                            "#46039f"
                          ],
                          [
                            0.2222222222222222,
                            "#7201a8"
                          ],
                          [
                            0.3333333333333333,
                            "#9c179e"
                          ],
                          [
                            0.4444444444444444,
                            "#bd3786"
                          ],
                          [
                            0.5555555555555556,
                            "#d8576b"
                          ],
                          [
                            0.6666666666666666,
                            "#ed7953"
                          ],
                          [
                            0.7777777777777778,
                            "#fb9f3a"
                          ],
                          [
                            0.8888888888888888,
                            "#fdca26"
                          ],
                          [
                            1,
                            "#f0f921"
                          ]
                        ],
                        "type": "histogram2d"
                      }
                    ],
                    "histogram2dcontour": [
                      {
                        "colorbar": {
                          "outlinewidth": 0,
                          "ticks": ""
                        },
                        "colorscale": [
                          [
                            0,
                            "#0d0887"
                          ],
                          [
                            0.1111111111111111,
                            "#46039f"
                          ],
                          [
                            0.2222222222222222,
                            "#7201a8"
                          ],
                          [
                            0.3333333333333333,
                            "#9c179e"
                          ],
                          [
                            0.4444444444444444,
                            "#bd3786"
                          ],
                          [
                            0.5555555555555556,
                            "#d8576b"
                          ],
                          [
                            0.6666666666666666,
                            "#ed7953"
                          ],
                          [
                            0.7777777777777778,
                            "#fb9f3a"
                          ],
                          [
                            0.8888888888888888,
                            "#fdca26"
                          ],
                          [
                            1,
                            "#f0f921"
                          ]
                        ],
                        "type": "histogram2dcontour"
                      }
                    ],
                    "mesh3d": [
                      {
                        "colorbar": {
                          "outlinewidth": 0,
                          "ticks": ""
                        },
                        "type": "mesh3d"
                      }
                    ],
                    "parcoords": [
                      {
                        "line": {
                          "colorbar": {
                            "outlinewidth": 0,
                            "ticks": ""
                          }
                        },
                        "type": "parcoords"
                      }
                    ],
                    "pie": [
                      {
                        "automargin": true,
                        "type": "pie"
                      }
                    ],
                    "scatter": [
                      {
                        "fillpattern": {
                          "fillmode": "overlay",
                          "size": 10,
                          "solidity": 0.2
                        },
                        "type": "scatter"
                      }
                    ],
                    "scatter3d": [
                      {
                        "line": {
                          "colorbar": {
                            "outlinewidth": 0,
                            "ticks": ""
                          }
                        },
                        "marker": {
                          "colorbar": {
                            "outlinewidth": 0,
                            "ticks": ""
                          }
                        },
                        "type": "scatter3d"
                      }
                    ],
                    "scattercarpet": [
                      {
                        "marker": {
                          "colorbar": {
                            "outlinewidth": 0,
                            "ticks": ""
                          }
                        },
                        "type": "scattercarpet"
                      }
                    ],
                    "scattergeo": [
                      {
                        "marker": {
                          "colorbar": {
                            "outlinewidth": 0,
                            "ticks": ""
                          }
                        },
                        "type": "scattergeo"
                      }
                    ],
                    "scattergl": [
                      {
                        "marker": {
                          "colorbar": {
                            "outlinewidth": 0,
                            "ticks": ""
                          }
                        },
                        "type": "scattergl"
                      }
                    ],
                    "scattermapbox": [
                      {
                        "marker": {
                          "colorbar": {
                            "outlinewidth": 0,
                            "ticks": ""
                          }
                        },
                        "type": "scattermapbox"
                      }
                    ],
                    "scatterpolar": [
                      {
                        "marker": {
                          "colorbar": {
                            "outlinewidth": 0,
                            "ticks": ""
                          }
                        },
                        "type": "scatterpolar"
                      }
                    ],
                    "scatterpolargl": [
                      {
                        "marker": {
                          "colorbar": {
                            "outlinewidth": 0,
                            "ticks": ""
                          }
                        },
                        "type": "scatterpolargl"
                      }
                    ],
                    "scatterternary": [
                      {
                        "marker": {
                          "colorbar": {
                            "outlinewidth": 0,
                            "ticks": ""
                          }
                        },
                        "type": "scatterternary"
                      }
                    ],
                    "surface": [
                      {
                        "colorbar": {
                          "outlinewidth": 0,
                          "ticks": ""
                        },
                        "colorscale": [
                          [
                            0,
                            "#0d0887"
                          ],
                          [
                            0.1111111111111111,
                            "#46039f"
                          ],
                          [
                            0.2222222222222222,
                            "#7201a8"
                          ],
                          [
                            0.3333333333333333,
                            "#9c179e"
                          ],
                          [
                            0.4444444444444444,
                            "#bd3786"
                          ],
                          [
                            0.5555555555555556,
                            "#d8576b"
                          ],
                          [
                            0.6666666666666666,
                            "#ed7953"
                          ],
                          [
                            0.7777777777777778,
                            "#fb9f3a"
                          ],
                          [
                            0.8888888888888888,
                            "#fdca26"
                          ],
                          [
                            1,
                            "#f0f921"
                          ]
                        ],
                        "type": "surface"
                      }
                    ],
                    "table": [
                      {
                        "cells": {
                          "fill": {
                            "color": "#EBF0F8"
                          },
                          "line": {
                            "color": "white"
                          }
                        },
                        "header": {
                          "fill": {
                            "color": "#C8D4E3"
                          },
                          "line": {
                            "color": "white"
                          }
                        },
                        "type": "table"
                      }
                    ]
                  },
                  "layout": {
                    "annotationdefaults": {
                      "arrowcolor": "#2a3f5f",
                      "arrowhead": 0,
                      "arrowwidth": 1
                    },
                    "autotypenumbers": "strict",
                    "coloraxis": {
                      "colorbar": {
                        "outlinewidth": 0,
                        "ticks": ""
                      }
                    },
                    "colorscale": {
                      "diverging": [
                        [
                          0,
                          "#8e0152"
                        ],
                        [
                          0.1,
                          "#c51b7d"
                        ],
                        [
                          0.2,
                          "#de77ae"
                        ],
                        [
                          0.3,
                          "#f1b6da"
                        ],
                        [
                          0.4,
                          "#fde0ef"
                        ],
                        [
                          0.5,
                          "#f7f7f7"
                        ],
                        [
                          0.6,
                          "#e6f5d0"
                        ],
                        [
                          0.7,
                          "#b8e186"
                        ],
                        [
                          0.8,
                          "#7fbc41"
                        ],
                        [
                          0.9,
                          "#4d9221"
                        ],
                        [
                          1,
                          "#276419"
                        ]
                      ],
                      "sequential": [
                        [
                          0,
                          "#0d0887"
                        ],
                        [
                          0.1111111111111111,
                          "#46039f"
                        ],
                        [
                          0.2222222222222222,
                          "#7201a8"
                        ],
                        [
                          0.3333333333333333,
                          "#9c179e"
                        ],
                        [
                          0.4444444444444444,
                          "#bd3786"
                        ],
                        [
                          0.5555555555555556,
                          "#d8576b"
                        ],
                        [
                          0.6666666666666666,
                          "#ed7953"
                        ],
                        [
                          0.7777777777777778,
                          "#fb9f3a"
                        ],
                        [
                          0.8888888888888888,
                          "#fdca26"
                        ],
                        [
                          1,
                          "#f0f921"
                        ]
                      ],
                      "sequentialminus": [
                        [
                          0,
                          "#0d0887"
                        ],
                        [
                          0.1111111111111111,
                          "#46039f"
                        ],
                        [
                          0.2222222222222222,
                          "#7201a8"
                        ],
                        [
                          0.3333333333333333,
                          "#9c179e"
                        ],
                        [
                          0.4444444444444444,
                          "#bd3786"
                        ],
                        [
                          0.5555555555555556,
                          "#d8576b"
                        ],
                        [
                          0.6666666666666666,
                          "#ed7953"
                        ],
                        [
                          0.7777777777777778,
                          "#fb9f3a"
                        ],
                        [
                          0.8888888888888888,
                          "#fdca26"
                        ],
                        [
                          1,
                          "#f0f921"
                        ]
                      ]
                    },
                    "colorway": [
                      "#636efa",
                      "#EF553B",
                      "#00cc96",
                      "#ab63fa",
                      "#FFA15A",
                      "#19d3f3",
                      "#FF6692",
                      "#B6E880",
                      "#FF97FF",
                      "#FECB52"
                    ],
                    "font": {
                      "color": "#2a3f5f"
                    },
                    "geo": {
                      "bgcolor": "white",
                      "lakecolor": "white",
                      "landcolor": "#E5ECF6",
                      "showlakes": true,
                      "showland": true,
                      "subunitcolor": "white"
                    },
                    "hoverlabel": {
                      "align": "left"
                    },
                    "hovermode": "closest",
                    "mapbox": {
                      "style": "light"
                    },
                    "paper_bgcolor": "white",
                    "plot_bgcolor": "#E5ECF6",
                    "polar": {
                      "angularaxis": {
                        "gridcolor": "white",
                        "linecolor": "white",
                        "ticks": ""
                      },
                      "bgcolor": "#E5ECF6",
                      "radialaxis": {
                        "gridcolor": "white",
                        "linecolor": "white",
                        "ticks": ""
                      }
                    },
                    "scene": {
                      "xaxis": {
                        "backgroundcolor": "#E5ECF6",
                        "gridcolor": "white",
                        "gridwidth": 2,
                        "linecolor": "white",
                        "showbackground": true,
                        "ticks": "",
                        "zerolinecolor": "white"
                      },
                      "yaxis": {
                        "backgroundcolor": "#E5ECF6",
                        "gridcolor": "white",
                        "gridwidth": 2,
                        "linecolor": "white",
                        "showbackground": true,
                        "ticks": "",
                        "zerolinecolor": "white"
                      },
                      "zaxis": {
                        "backgroundcolor": "#E5ECF6",
                        "gridcolor": "white",
                        "gridwidth": 2,
                        "linecolor": "white",
                        "showbackground": true,
                        "ticks": "",
                        "zerolinecolor": "white"
                      }
                    },
                    "shapedefaults": {
                      "line": {
                        "color": "#2a3f5f"
                      }
                    },
                    "ternary": {
                      "aaxis": {
                        "gridcolor": "white",
                        "linecolor": "white",
                        "ticks": ""
                      },
                      "baxis": {
                        "gridcolor": "white",
                        "linecolor": "white",
                        "ticks": ""
                      },
                      "bgcolor": "#E5ECF6",
                      "caxis": {
                        "gridcolor": "white",
                        "linecolor": "white",
                        "ticks": ""
                      }
                    },
                    "title": {
                      "x": 0.05
                    },
                    "xaxis": {
                      "automargin": true,
                      "gridcolor": "white",
                      "linecolor": "white",
                      "ticks": "",
                      "title": {
                        "standoff": 15
                      },
                      "zerolinecolor": "white",
                      "zerolinewidth": 2
                    },
                    "yaxis": {
                      "automargin": true,
                      "gridcolor": "white",
                      "linecolor": "white",
                      "ticks": "",
                      "title": {
                        "standoff": 15
                      },
                      "zerolinecolor": "white",
                      "zerolinewidth": 2
                    }
                  }
                },
                "title": {
                  "text": "t-SNE Visualization of Embeddings"
                }
              }
            }
          },
          "metadata": {},
          "output_type": "display_data"
        }
      ],
      "source": [
        "import pandas as pd\n",
        "import numpy as np\n",
        "from sklearn.manifold import TSNE\n",
        "import plotly.express as px\n",
        "\n",
        "# Assuming 'embedding' is a 2D array of size (number_of_embeddings, 384)\n",
        "# You may need to reshape your embeddings if it's not in this format\n",
        "\n",
        "# Assuming df is your DataFrame containing the variable labels and ages\n",
        "sentences = df[df['Age'] > 0.4]['Variable Label'].to_list()\n",
        "\n",
        "# Assuming 'model' is your embedding model, replace it with the actual model you are using\n",
        "embedding = model.encode(sentences, convert_to_tensor=False)\n",
        "\n",
        "# Converting \"age\" to embeddings and adding it to the list\n",
        "age_embedding = model.encode(['age'], convert_to_tensor=False)\n",
        "embedding = np.vstack((age_embedding, embedding))\n",
        "print(embedding.shape,\"embedding shape\")  \n",
        "# Perform t-SNE\n",
        "tsne = TSNE(n_components=3)\n",
        "# print(embedding.shape,\"embedding shape\")\n",
        "Y = tsne.fit_transform(embedding)\n",
        "\n",
        "# Create a DataFrame for Plotly\n",
        "tsne_df = pd.DataFrame(data=Y, columns=['TSNE1', 'TSNE2', 'TSNE3'])\n",
        "# adding age embedding to the dataframe at top\n",
        "# print(age_embedding.shape,\"age embedding shape\")\n",
        "# print(age_embedding,\"age embedding\")\n",
        "\n",
        "\n",
        "\n",
        "\n",
        "# tsne_df['Variable Label'] = sentences\n",
        "print(tsne_df.head(10))\n",
        "# Create the scatter plot using Plotly Express\n",
        "fig = px.scatter_3d(tsne_df, x='TSNE1', y='TSNE2', z='TSNE3', title='t-SNE Visualization of Embeddings')\n",
        "fig.add_scatter3d(x = [0], y= [0], z=[0], mode='markers',marker=dict(color='red'),showlegend=False)\n",
        "fig.show()\n"
      ]
    },
    {
      "cell_type": "code",
      "execution_count": 21,
      "metadata": {},
      "outputs": [],
      "source": [
        "# saving dataframe to csv\n",
        "df.to_csv('E:/gc_data/dataset/new.csv', index=False)"
      ]
    },
    {
      "cell_type": "code",
      "execution_count": 36,
      "metadata": {},
      "outputs": [
        {
          "data": {
            "text/plain": [
              "(68, 384)"
            ]
          },
          "execution_count": 36,
          "metadata": {},
          "output_type": "execute_result"
        }
      ],
      "source": [
        "embedding.shape"
      ]
    },
    {
      "cell_type": "code",
      "execution_count": null,
      "metadata": {},
      "outputs": [],
      "source": []
    }
  ],
  "metadata": {
    "colab": {
      "provenance": []
    },
    "kernelspec": {
      "display_name": "Python 3",
      "name": "python3"
    },
    "language_info": {
      "codemirror_mode": {
        "name": "ipython",
        "version": 3
      },
      "file_extension": ".py",
      "mimetype": "text/x-python",
      "name": "python",
      "nbconvert_exporter": "python",
      "pygments_lexer": "ipython3",
      "version": "3.11.3"
    },
    "widgets": {
      "application/vnd.jupyter.widget-state+json": {
        "03715ba9a06b49798a4fa0639bcba951": {
          "model_module": "@jupyter-widgets/controls",
          "model_module_version": "1.5.0",
          "model_name": "FloatProgressModel",
          "state": {
            "_dom_classes": [],
            "_model_module": "@jupyter-widgets/controls",
            "_model_module_version": "1.5.0",
            "_model_name": "FloatProgressModel",
            "_view_count": null,
            "_view_module": "@jupyter-widgets/controls",
            "_view_module_version": "1.5.0",
            "_view_name": "ProgressView",
            "bar_style": "success",
            "description": "",
            "description_tooltip": null,
            "layout": "IPY_MODEL_db01d27fec374c8e9ffb039d69f15340",
            "max": 229,
            "min": 0,
            "orientation": "horizontal",
            "style": "IPY_MODEL_a68649fd8b9f4f60852158db49553894",
            "value": 229
          }
        },
        "04e95bf06f3f4c4b822608cbc0093cfd": {
          "model_module": "@jupyter-widgets/controls",
          "model_module_version": "1.5.0",
          "model_name": "HTMLModel",
          "state": {
            "_dom_classes": [],
            "_model_module": "@jupyter-widgets/controls",
            "_model_module_version": "1.5.0",
            "_model_name": "HTMLModel",
            "_view_count": null,
            "_view_module": "@jupyter-widgets/controls",
            "_view_module_version": "1.5.0",
            "_view_name": "HTMLView",
            "description": "",
            "description_tooltip": null,
            "layout": "IPY_MODEL_87e69e34ed5e4da0b7d978d67f34eed3",
            "placeholder": "​",
            "style": "IPY_MODEL_c5ce2e69f140489a94dabad352c70210",
            "value": "README.md: 100%"
          }
        },
        "06473623aaec4780b466495f13f58910": {
          "model_module": "@jupyter-widgets/base",
          "model_module_version": "1.2.0",
          "model_name": "LayoutModel",
          "state": {
            "_model_module": "@jupyter-widgets/base",
            "_model_module_version": "1.2.0",
            "_model_name": "LayoutModel",
            "_view_count": null,
            "_view_module": "@jupyter-widgets/base",
            "_view_module_version": "1.2.0",
            "_view_name": "LayoutView",
            "align_content": null,
            "align_items": null,
            "align_self": null,
            "border": null,
            "bottom": null,
            "display": null,
            "flex": null,
            "flex_flow": null,
            "grid_area": null,
            "grid_auto_columns": null,
            "grid_auto_flow": null,
            "grid_auto_rows": null,
            "grid_column": null,
            "grid_gap": null,
            "grid_row": null,
            "grid_template_areas": null,
            "grid_template_columns": null,
            "grid_template_rows": null,
            "height": null,
            "justify_content": null,
            "justify_items": null,
            "left": null,
            "margin": null,
            "max_height": null,
            "max_width": null,
            "min_height": null,
            "min_width": null,
            "object_fit": null,
            "object_position": null,
            "order": null,
            "overflow": null,
            "overflow_x": null,
            "overflow_y": null,
            "padding": null,
            "right": null,
            "top": null,
            "visibility": null,
            "width": null
          }
        },
        "07bd5125ecd247b7b62d5afbee233a37": {
          "model_module": "@jupyter-widgets/controls",
          "model_module_version": "1.5.0",
          "model_name": "DescriptionStyleModel",
          "state": {
            "_model_module": "@jupyter-widgets/controls",
            "_model_module_version": "1.5.0",
            "_model_name": "DescriptionStyleModel",
            "_view_count": null,
            "_view_module": "@jupyter-widgets/base",
            "_view_module_version": "1.2.0",
            "_view_name": "StyleView",
            "description_width": ""
          }
        },
        "098eeab23039432f9338f2768f4c4b84": {
          "model_module": "@jupyter-widgets/base",
          "model_module_version": "1.2.0",
          "model_name": "LayoutModel",
          "state": {
            "_model_module": "@jupyter-widgets/base",
            "_model_module_version": "1.2.0",
            "_model_name": "LayoutModel",
            "_view_count": null,
            "_view_module": "@jupyter-widgets/base",
            "_view_module_version": "1.2.0",
            "_view_name": "LayoutView",
            "align_content": null,
            "align_items": null,
            "align_self": null,
            "border": null,
            "bottom": null,
            "display": null,
            "flex": null,
            "flex_flow": null,
            "grid_area": null,
            "grid_auto_columns": null,
            "grid_auto_flow": null,
            "grid_auto_rows": null,
            "grid_column": null,
            "grid_gap": null,
            "grid_row": null,
            "grid_template_areas": null,
            "grid_template_columns": null,
            "grid_template_rows": null,
            "height": null,
            "justify_content": null,
            "justify_items": null,
            "left": null,
            "margin": null,
            "max_height": null,
            "max_width": null,
            "min_height": null,
            "min_width": null,
            "object_fit": null,
            "object_position": null,
            "order": null,
            "overflow": null,
            "overflow_x": null,
            "overflow_y": null,
            "padding": null,
            "right": null,
            "top": null,
            "visibility": null,
            "width": null
          }
        },
        "09b04a9a383e4088a152d72d31fe1ff3": {
          "model_module": "@jupyter-widgets/controls",
          "model_module_version": "1.5.0",
          "model_name": "HTMLModel",
          "state": {
            "_dom_classes": [],
            "_model_module": "@jupyter-widgets/controls",
            "_model_module_version": "1.5.0",
            "_model_name": "HTMLModel",
            "_view_count": null,
            "_view_module": "@jupyter-widgets/controls",
            "_view_module_version": "1.5.0",
            "_view_name": "HTMLView",
            "description": "",
            "description_tooltip": null,
            "layout": "IPY_MODEL_cc2d3299969246b1a1e52785410a7cb9",
            "placeholder": "​",
            "style": "IPY_MODEL_93e1350002e74323920bf882b08356ad",
            "value": "sentence_bert_config.json: 100%"
          }
        },
        "0b64da65dd824990bd1979e759693bc8": {
          "model_module": "@jupyter-widgets/controls",
          "model_module_version": "1.5.0",
          "model_name": "FloatProgressModel",
          "state": {
            "_dom_classes": [],
            "_model_module": "@jupyter-widgets/controls",
            "_model_module_version": "1.5.0",
            "_model_name": "FloatProgressModel",
            "_view_count": null,
            "_view_module": "@jupyter-widgets/controls",
            "_view_module_version": "1.5.0",
            "_view_name": "ProgressView",
            "bar_style": "success",
            "description": "",
            "description_tooltip": null,
            "layout": "IPY_MODEL_1ed8c122c3144a6c9849310aeac33582",
            "max": 53,
            "min": 0,
            "orientation": "horizontal",
            "style": "IPY_MODEL_e080f4447b6641c592abb717dd42a1be",
            "value": 53
          }
        },
        "1381da271d77483e8fcf9552bef15213": {
          "model_module": "@jupyter-widgets/controls",
          "model_module_version": "1.5.0",
          "model_name": "ProgressStyleModel",
          "state": {
            "_model_module": "@jupyter-widgets/controls",
            "_model_module_version": "1.5.0",
            "_model_name": "ProgressStyleModel",
            "_view_count": null,
            "_view_module": "@jupyter-widgets/base",
            "_view_module_version": "1.2.0",
            "_view_name": "StyleView",
            "bar_color": null,
            "description_width": ""
          }
        },
        "142ccbefc3284b029348f9b939009144": {
          "model_module": "@jupyter-widgets/controls",
          "model_module_version": "1.5.0",
          "model_name": "FloatProgressModel",
          "state": {
            "_dom_classes": [],
            "_model_module": "@jupyter-widgets/controls",
            "_model_module_version": "1.5.0",
            "_model_name": "FloatProgressModel",
            "_view_count": null,
            "_view_module": "@jupyter-widgets/controls",
            "_view_module_version": "1.5.0",
            "_view_name": "ProgressView",
            "bar_style": "success",
            "description": "",
            "description_tooltip": null,
            "layout": "IPY_MODEL_5b6f56da02d945b5b4158b7df59c0600",
            "max": 190,
            "min": 0,
            "orientation": "horizontal",
            "style": "IPY_MODEL_bf64fb0da56248978f10cadd69232e2e",
            "value": 190
          }
        },
        "15d737f9be5c4625ba7a414e2cc792bb": {
          "model_module": "@jupyter-widgets/base",
          "model_module_version": "1.2.0",
          "model_name": "LayoutModel",
          "state": {
            "_model_module": "@jupyter-widgets/base",
            "_model_module_version": "1.2.0",
            "_model_name": "LayoutModel",
            "_view_count": null,
            "_view_module": "@jupyter-widgets/base",
            "_view_module_version": "1.2.0",
            "_view_name": "LayoutView",
            "align_content": null,
            "align_items": null,
            "align_self": null,
            "border": null,
            "bottom": null,
            "display": null,
            "flex": null,
            "flex_flow": null,
            "grid_area": null,
            "grid_auto_columns": null,
            "grid_auto_flow": null,
            "grid_auto_rows": null,
            "grid_column": null,
            "grid_gap": null,
            "grid_row": null,
            "grid_template_areas": null,
            "grid_template_columns": null,
            "grid_template_rows": null,
            "height": null,
            "justify_content": null,
            "justify_items": null,
            "left": null,
            "margin": null,
            "max_height": null,
            "max_width": null,
            "min_height": null,
            "min_width": null,
            "object_fit": null,
            "object_position": null,
            "order": null,
            "overflow": null,
            "overflow_x": null,
            "overflow_y": null,
            "padding": null,
            "right": null,
            "top": null,
            "visibility": null,
            "width": null
          }
        },
        "15f76d604a364902a1ada9d0a378dfd8": {
          "model_module": "@jupyter-widgets/controls",
          "model_module_version": "1.5.0",
          "model_name": "DescriptionStyleModel",
          "state": {
            "_model_module": "@jupyter-widgets/controls",
            "_model_module_version": "1.5.0",
            "_model_name": "DescriptionStyleModel",
            "_view_count": null,
            "_view_module": "@jupyter-widgets/base",
            "_view_module_version": "1.2.0",
            "_view_name": "StyleView",
            "description_width": ""
          }
        },
        "191d2bb909e24dfab0ca8030ad1b81e4": {
          "model_module": "@jupyter-widgets/base",
          "model_module_version": "1.2.0",
          "model_name": "LayoutModel",
          "state": {
            "_model_module": "@jupyter-widgets/base",
            "_model_module_version": "1.2.0",
            "_model_name": "LayoutModel",
            "_view_count": null,
            "_view_module": "@jupyter-widgets/base",
            "_view_module_version": "1.2.0",
            "_view_name": "LayoutView",
            "align_content": null,
            "align_items": null,
            "align_self": null,
            "border": null,
            "bottom": null,
            "display": null,
            "flex": null,
            "flex_flow": null,
            "grid_area": null,
            "grid_auto_columns": null,
            "grid_auto_flow": null,
            "grid_auto_rows": null,
            "grid_column": null,
            "grid_gap": null,
            "grid_row": null,
            "grid_template_areas": null,
            "grid_template_columns": null,
            "grid_template_rows": null,
            "height": null,
            "justify_content": null,
            "justify_items": null,
            "left": null,
            "margin": null,
            "max_height": null,
            "max_width": null,
            "min_height": null,
            "min_width": null,
            "object_fit": null,
            "object_position": null,
            "order": null,
            "overflow": null,
            "overflow_x": null,
            "overflow_y": null,
            "padding": null,
            "right": null,
            "top": null,
            "visibility": null,
            "width": null
          }
        },
        "1a8f61a2874d443bad238991ec51766e": {
          "model_module": "@jupyter-widgets/controls",
          "model_module_version": "1.5.0",
          "model_name": "HBoxModel",
          "state": {
            "_dom_classes": [],
            "_model_module": "@jupyter-widgets/controls",
            "_model_module_version": "1.5.0",
            "_model_name": "HBoxModel",
            "_view_count": null,
            "_view_module": "@jupyter-widgets/controls",
            "_view_module_version": "1.5.0",
            "_view_name": "HBoxView",
            "box_style": "",
            "children": [
              "IPY_MODEL_24d84717b0c843f28bc9d4c9b1cc7e3e",
              "IPY_MODEL_142ccbefc3284b029348f9b939009144",
              "IPY_MODEL_c1f770fc80584467a101eec541499997"
            ],
            "layout": "IPY_MODEL_9af321c5cec14142a7cffc2d3563a315"
          }
        },
        "1e0735952a7b433991118b0f5e6ff737": {
          "model_module": "@jupyter-widgets/controls",
          "model_module_version": "1.5.0",
          "model_name": "DescriptionStyleModel",
          "state": {
            "_model_module": "@jupyter-widgets/controls",
            "_model_module_version": "1.5.0",
            "_model_name": "DescriptionStyleModel",
            "_view_count": null,
            "_view_module": "@jupyter-widgets/base",
            "_view_module_version": "1.2.0",
            "_view_name": "StyleView",
            "description_width": ""
          }
        },
        "1ed8c122c3144a6c9849310aeac33582": {
          "model_module": "@jupyter-widgets/base",
          "model_module_version": "1.2.0",
          "model_name": "LayoutModel",
          "state": {
            "_model_module": "@jupyter-widgets/base",
            "_model_module_version": "1.2.0",
            "_model_name": "LayoutModel",
            "_view_count": null,
            "_view_module": "@jupyter-widgets/base",
            "_view_module_version": "1.2.0",
            "_view_name": "LayoutView",
            "align_content": null,
            "align_items": null,
            "align_self": null,
            "border": null,
            "bottom": null,
            "display": null,
            "flex": null,
            "flex_flow": null,
            "grid_area": null,
            "grid_auto_columns": null,
            "grid_auto_flow": null,
            "grid_auto_rows": null,
            "grid_column": null,
            "grid_gap": null,
            "grid_row": null,
            "grid_template_areas": null,
            "grid_template_columns": null,
            "grid_template_rows": null,
            "height": null,
            "justify_content": null,
            "justify_items": null,
            "left": null,
            "margin": null,
            "max_height": null,
            "max_width": null,
            "min_height": null,
            "min_width": null,
            "object_fit": null,
            "object_position": null,
            "order": null,
            "overflow": null,
            "overflow_x": null,
            "overflow_y": null,
            "padding": null,
            "right": null,
            "top": null,
            "visibility": null,
            "width": null
          }
        },
        "225fdc35c4424fe19f84f80328da5d40": {
          "model_module": "@jupyter-widgets/base",
          "model_module_version": "1.2.0",
          "model_name": "LayoutModel",
          "state": {
            "_model_module": "@jupyter-widgets/base",
            "_model_module_version": "1.2.0",
            "_model_name": "LayoutModel",
            "_view_count": null,
            "_view_module": "@jupyter-widgets/base",
            "_view_module_version": "1.2.0",
            "_view_name": "LayoutView",
            "align_content": null,
            "align_items": null,
            "align_self": null,
            "border": null,
            "bottom": null,
            "display": null,
            "flex": null,
            "flex_flow": null,
            "grid_area": null,
            "grid_auto_columns": null,
            "grid_auto_flow": null,
            "grid_auto_rows": null,
            "grid_column": null,
            "grid_gap": null,
            "grid_row": null,
            "grid_template_areas": null,
            "grid_template_columns": null,
            "grid_template_rows": null,
            "height": null,
            "justify_content": null,
            "justify_items": null,
            "left": null,
            "margin": null,
            "max_height": null,
            "max_width": null,
            "min_height": null,
            "min_width": null,
            "object_fit": null,
            "object_position": null,
            "order": null,
            "overflow": null,
            "overflow_x": null,
            "overflow_y": null,
            "padding": null,
            "right": null,
            "top": null,
            "visibility": null,
            "width": null
          }
        },
        "237d74bc23114e2bbbd4cf5195d353a6": {
          "model_module": "@jupyter-widgets/controls",
          "model_module_version": "1.5.0",
          "model_name": "FloatProgressModel",
          "state": {
            "_dom_classes": [],
            "_model_module": "@jupyter-widgets/controls",
            "_model_module_version": "1.5.0",
            "_model_name": "FloatProgressModel",
            "_view_count": null,
            "_view_module": "@jupyter-widgets/controls",
            "_view_module_version": "1.5.0",
            "_view_name": "ProgressView",
            "bar_style": "success",
            "description": "",
            "description_tooltip": null,
            "layout": "IPY_MODEL_469f9536e948481a9ce7ab4ae757e6f7",
            "max": 122,
            "min": 0,
            "orientation": "horizontal",
            "style": "IPY_MODEL_8ba09ac828954701bba30dd5e9b3b7be",
            "value": 122
          }
        },
        "24960bfed8e145cda6683493c6531ae8": {
          "model_module": "@jupyter-widgets/controls",
          "model_module_version": "1.5.0",
          "model_name": "HTMLModel",
          "state": {
            "_dom_classes": [],
            "_model_module": "@jupyter-widgets/controls",
            "_model_module_version": "1.5.0",
            "_model_name": "HTMLModel",
            "_view_count": null,
            "_view_module": "@jupyter-widgets/controls",
            "_view_module_version": "1.5.0",
            "_view_name": "HTMLView",
            "description": "",
            "description_tooltip": null,
            "layout": "IPY_MODEL_6ff2a1a200ec4bf19b124cab03b02a68",
            "placeholder": "​",
            "style": "IPY_MODEL_ee1d5940f3954585a08e3e6b028d23ce",
            "value": "special_tokens_map.json: 100%"
          }
        },
        "24d84717b0c843f28bc9d4c9b1cc7e3e": {
          "model_module": "@jupyter-widgets/controls",
          "model_module_version": "1.5.0",
          "model_name": "HTMLModel",
          "state": {
            "_dom_classes": [],
            "_model_module": "@jupyter-widgets/controls",
            "_model_module_version": "1.5.0",
            "_model_name": "HTMLModel",
            "_view_count": null,
            "_view_module": "@jupyter-widgets/controls",
            "_view_module_version": "1.5.0",
            "_view_name": "HTMLView",
            "description": "",
            "description_tooltip": null,
            "layout": "IPY_MODEL_191d2bb909e24dfab0ca8030ad1b81e4",
            "placeholder": "​",
            "style": "IPY_MODEL_8d73f3475f1d4352ab22712429e885b5",
            "value": "1_Pooling/config.json: 100%"
          }
        },
        "2ce57ea60b4a4b97865eee3945ee296c": {
          "model_module": "@jupyter-widgets/base",
          "model_module_version": "1.2.0",
          "model_name": "LayoutModel",
          "state": {
            "_model_module": "@jupyter-widgets/base",
            "_model_module_version": "1.2.0",
            "_model_name": "LayoutModel",
            "_view_count": null,
            "_view_module": "@jupyter-widgets/base",
            "_view_module_version": "1.2.0",
            "_view_name": "LayoutView",
            "align_content": null,
            "align_items": null,
            "align_self": null,
            "border": null,
            "bottom": null,
            "display": null,
            "flex": null,
            "flex_flow": null,
            "grid_area": null,
            "grid_auto_columns": null,
            "grid_auto_flow": null,
            "grid_auto_rows": null,
            "grid_column": null,
            "grid_gap": null,
            "grid_row": null,
            "grid_template_areas": null,
            "grid_template_columns": null,
            "grid_template_rows": null,
            "height": null,
            "justify_content": null,
            "justify_items": null,
            "left": null,
            "margin": null,
            "max_height": null,
            "max_width": null,
            "min_height": null,
            "min_width": null,
            "object_fit": null,
            "object_position": null,
            "order": null,
            "overflow": null,
            "overflow_x": null,
            "overflow_y": null,
            "padding": null,
            "right": null,
            "top": null,
            "visibility": null,
            "width": null
          }
        },
        "335f272aed51405eaec8de230063bea3": {
          "model_module": "@jupyter-widgets/controls",
          "model_module_version": "1.5.0",
          "model_name": "HTMLModel",
          "state": {
            "_dom_classes": [],
            "_model_module": "@jupyter-widgets/controls",
            "_model_module_version": "1.5.0",
            "_model_name": "HTMLModel",
            "_view_count": null,
            "_view_module": "@jupyter-widgets/controls",
            "_view_module_version": "1.5.0",
            "_view_name": "HTMLView",
            "description": "",
            "description_tooltip": null,
            "layout": "IPY_MODEL_8c18e8582c5c4c53a9fdaa031a2cbe4d",
            "placeholder": "​",
            "style": "IPY_MODEL_8041b085887c4cc49265df0bbc2beba4",
            "value": "modules.json: 100%"
          }
        },
        "348d00276ac14d20bb31361e6be8e8bf": {
          "model_module": "@jupyter-widgets/controls",
          "model_module_version": "1.5.0",
          "model_name": "DescriptionStyleModel",
          "state": {
            "_model_module": "@jupyter-widgets/controls",
            "_model_module_version": "1.5.0",
            "_model_name": "DescriptionStyleModel",
            "_view_count": null,
            "_view_module": "@jupyter-widgets/base",
            "_view_module_version": "1.2.0",
            "_view_name": "StyleView",
            "description_width": ""
          }
        },
        "36bcfb519f57455ab1cf922defd46201": {
          "model_module": "@jupyter-widgets/controls",
          "model_module_version": "1.5.0",
          "model_name": "HTMLModel",
          "state": {
            "_dom_classes": [],
            "_model_module": "@jupyter-widgets/controls",
            "_model_module_version": "1.5.0",
            "_model_name": "HTMLModel",
            "_view_count": null,
            "_view_module": "@jupyter-widgets/controls",
            "_view_module_version": "1.5.0",
            "_view_name": "HTMLView",
            "description": "",
            "description_tooltip": null,
            "layout": "IPY_MODEL_7b6adc6672fd4d1484f4f7915d769b25",
            "placeholder": "​",
            "style": "IPY_MODEL_3a46d9f70ffd47b281c15fad78af88ab",
            "value": "config.json: 100%"
          }
        },
        "370a83fc5d474a259eafd74a170a2b58": {
          "model_module": "@jupyter-widgets/controls",
          "model_module_version": "1.5.0",
          "model_name": "DescriptionStyleModel",
          "state": {
            "_model_module": "@jupyter-widgets/controls",
            "_model_module_version": "1.5.0",
            "_model_name": "DescriptionStyleModel",
            "_view_count": null,
            "_view_module": "@jupyter-widgets/base",
            "_view_module_version": "1.2.0",
            "_view_name": "StyleView",
            "description_width": ""
          }
        },
        "3874f5fc7eb143ed99aae7d296895a39": {
          "model_module": "@jupyter-widgets/controls",
          "model_module_version": "1.5.0",
          "model_name": "DescriptionStyleModel",
          "state": {
            "_model_module": "@jupyter-widgets/controls",
            "_model_module_version": "1.5.0",
            "_model_name": "DescriptionStyleModel",
            "_view_count": null,
            "_view_module": "@jupyter-widgets/base",
            "_view_module_version": "1.2.0",
            "_view_name": "StyleView",
            "description_width": ""
          }
        },
        "3a46d9f70ffd47b281c15fad78af88ab": {
          "model_module": "@jupyter-widgets/controls",
          "model_module_version": "1.5.0",
          "model_name": "DescriptionStyleModel",
          "state": {
            "_model_module": "@jupyter-widgets/controls",
            "_model_module_version": "1.5.0",
            "_model_name": "DescriptionStyleModel",
            "_view_count": null,
            "_view_module": "@jupyter-widgets/base",
            "_view_module_version": "1.2.0",
            "_view_name": "StyleView",
            "description_width": ""
          }
        },
        "3abaeeae25d24d88b43fc288bb4204e8": {
          "model_module": "@jupyter-widgets/controls",
          "model_module_version": "1.5.0",
          "model_name": "HTMLModel",
          "state": {
            "_dom_classes": [],
            "_model_module": "@jupyter-widgets/controls",
            "_model_module_version": "1.5.0",
            "_model_name": "HTMLModel",
            "_view_count": null,
            "_view_module": "@jupyter-widgets/controls",
            "_view_module_version": "1.5.0",
            "_view_name": "HTMLView",
            "description": "",
            "description_tooltip": null,
            "layout": "IPY_MODEL_7b55069b62cf41f5b8ffb00802a76e4c",
            "placeholder": "​",
            "style": "IPY_MODEL_370a83fc5d474a259eafd74a170a2b58",
            "value": "vocab.txt: 100%"
          }
        },
        "3b66d31ff24a4030af500952fad86da7": {
          "model_module": "@jupyter-widgets/base",
          "model_module_version": "1.2.0",
          "model_name": "LayoutModel",
          "state": {
            "_model_module": "@jupyter-widgets/base",
            "_model_module_version": "1.2.0",
            "_model_name": "LayoutModel",
            "_view_count": null,
            "_view_module": "@jupyter-widgets/base",
            "_view_module_version": "1.2.0",
            "_view_name": "LayoutView",
            "align_content": null,
            "align_items": null,
            "align_self": null,
            "border": null,
            "bottom": null,
            "display": null,
            "flex": null,
            "flex_flow": null,
            "grid_area": null,
            "grid_auto_columns": null,
            "grid_auto_flow": null,
            "grid_auto_rows": null,
            "grid_column": null,
            "grid_gap": null,
            "grid_row": null,
            "grid_template_areas": null,
            "grid_template_columns": null,
            "grid_template_rows": null,
            "height": null,
            "justify_content": null,
            "justify_items": null,
            "left": null,
            "margin": null,
            "max_height": null,
            "max_width": null,
            "min_height": null,
            "min_width": null,
            "object_fit": null,
            "object_position": null,
            "order": null,
            "overflow": null,
            "overflow_x": null,
            "overflow_y": null,
            "padding": null,
            "right": null,
            "top": null,
            "visibility": null,
            "width": null
          }
        },
        "401afe63815b4783a43cf0ea9e78d3f3": {
          "model_module": "@jupyter-widgets/controls",
          "model_module_version": "1.5.0",
          "model_name": "HTMLModel",
          "state": {
            "_dom_classes": [],
            "_model_module": "@jupyter-widgets/controls",
            "_model_module_version": "1.5.0",
            "_model_name": "HTMLModel",
            "_view_count": null,
            "_view_module": "@jupyter-widgets/controls",
            "_view_module_version": "1.5.0",
            "_view_name": "HTMLView",
            "description": "",
            "description_tooltip": null,
            "layout": "IPY_MODEL_cd9b2eacfe1d4054a9111d300a012cb3",
            "placeholder": "​",
            "style": "IPY_MODEL_348d00276ac14d20bb31361e6be8e8bf",
            "value": " 90.9M/90.9M [00:00&lt;00:00, 185MB/s]"
          }
        },
        "4138df0427444de6aa52e467b7bc592b": {
          "model_module": "@jupyter-widgets/controls",
          "model_module_version": "1.5.0",
          "model_name": "HTMLModel",
          "state": {
            "_dom_classes": [],
            "_model_module": "@jupyter-widgets/controls",
            "_model_module_version": "1.5.0",
            "_model_name": "HTMLModel",
            "_view_count": null,
            "_view_module": "@jupyter-widgets/controls",
            "_view_module_version": "1.5.0",
            "_view_name": "HTMLView",
            "description": "",
            "description_tooltip": null,
            "layout": "IPY_MODEL_adf99b4ac7d442d9900d47f5fe02493e",
            "placeholder": "​",
            "style": "IPY_MODEL_ad6af9bf839c4cfe8f9f3357f06bfc4f",
            "value": " 232k/232k [00:00&lt;00:00, 8.78MB/s]"
          }
        },
        "442dc0d5e3534d28814fbc9e1b435791": {
          "model_module": "@jupyter-widgets/controls",
          "model_module_version": "1.5.0",
          "model_name": "HBoxModel",
          "state": {
            "_dom_classes": [],
            "_model_module": "@jupyter-widgets/controls",
            "_model_module_version": "1.5.0",
            "_model_name": "HBoxModel",
            "_view_count": null,
            "_view_module": "@jupyter-widgets/controls",
            "_view_module_version": "1.5.0",
            "_view_name": "HBoxView",
            "box_style": "",
            "children": [
              "IPY_MODEL_09b04a9a383e4088a152d72d31fe1ff3",
              "IPY_MODEL_0b64da65dd824990bd1979e759693bc8",
              "IPY_MODEL_65fc715ce0534b6fa675edb028910e5b"
            ],
            "layout": "IPY_MODEL_54be1d3445754f978d7325afa0e89e24"
          }
        },
        "469f9536e948481a9ce7ab4ae757e6f7": {
          "model_module": "@jupyter-widgets/base",
          "model_module_version": "1.2.0",
          "model_name": "LayoutModel",
          "state": {
            "_model_module": "@jupyter-widgets/base",
            "_model_module_version": "1.2.0",
            "_model_name": "LayoutModel",
            "_view_count": null,
            "_view_module": "@jupyter-widgets/base",
            "_view_module_version": "1.2.0",
            "_view_name": "LayoutView",
            "align_content": null,
            "align_items": null,
            "align_self": null,
            "border": null,
            "bottom": null,
            "display": null,
            "flex": null,
            "flex_flow": null,
            "grid_area": null,
            "grid_auto_columns": null,
            "grid_auto_flow": null,
            "grid_auto_rows": null,
            "grid_column": null,
            "grid_gap": null,
            "grid_row": null,
            "grid_template_areas": null,
            "grid_template_columns": null,
            "grid_template_rows": null,
            "height": null,
            "justify_content": null,
            "justify_items": null,
            "left": null,
            "margin": null,
            "max_height": null,
            "max_width": null,
            "min_height": null,
            "min_width": null,
            "object_fit": null,
            "object_position": null,
            "order": null,
            "overflow": null,
            "overflow_x": null,
            "overflow_y": null,
            "padding": null,
            "right": null,
            "top": null,
            "visibility": null,
            "width": null
          }
        },
        "47e6f6afbbc14a3abf8bbe59acd2136e": {
          "model_module": "@jupyter-widgets/controls",
          "model_module_version": "1.5.0",
          "model_name": "ProgressStyleModel",
          "state": {
            "_model_module": "@jupyter-widgets/controls",
            "_model_module_version": "1.5.0",
            "_model_name": "ProgressStyleModel",
            "_view_count": null,
            "_view_module": "@jupyter-widgets/base",
            "_view_module_version": "1.2.0",
            "_view_name": "StyleView",
            "bar_color": null,
            "description_width": ""
          }
        },
        "484e0a7c78ac438c8cfbadb0821cb852": {
          "model_module": "@jupyter-widgets/controls",
          "model_module_version": "1.5.0",
          "model_name": "HBoxModel",
          "state": {
            "_dom_classes": [],
            "_model_module": "@jupyter-widgets/controls",
            "_model_module_version": "1.5.0",
            "_model_name": "HBoxModel",
            "_view_count": null,
            "_view_module": "@jupyter-widgets/controls",
            "_view_module_version": "1.5.0",
            "_view_name": "HBoxView",
            "box_style": "",
            "children": [
              "IPY_MODEL_762bc1696c474a0db3ebd7529f013cd9",
              "IPY_MODEL_8ceb7535a6bd4ee9900588e5ecc2b575",
              "IPY_MODEL_8c1c31b285904356a5a6c699f38cf816"
            ],
            "layout": "IPY_MODEL_622808a5faa446c4b2da7ae2061e24b9"
          }
        },
        "4b1363a9fb8b40b798497f059572904d": {
          "model_module": "@jupyter-widgets/base",
          "model_module_version": "1.2.0",
          "model_name": "LayoutModel",
          "state": {
            "_model_module": "@jupyter-widgets/base",
            "_model_module_version": "1.2.0",
            "_model_name": "LayoutModel",
            "_view_count": null,
            "_view_module": "@jupyter-widgets/base",
            "_view_module_version": "1.2.0",
            "_view_name": "LayoutView",
            "align_content": null,
            "align_items": null,
            "align_self": null,
            "border": null,
            "bottom": null,
            "display": null,
            "flex": null,
            "flex_flow": null,
            "grid_area": null,
            "grid_auto_columns": null,
            "grid_auto_flow": null,
            "grid_auto_rows": null,
            "grid_column": null,
            "grid_gap": null,
            "grid_row": null,
            "grid_template_areas": null,
            "grid_template_columns": null,
            "grid_template_rows": null,
            "height": null,
            "justify_content": null,
            "justify_items": null,
            "left": null,
            "margin": null,
            "max_height": null,
            "max_width": null,
            "min_height": null,
            "min_width": null,
            "object_fit": null,
            "object_position": null,
            "order": null,
            "overflow": null,
            "overflow_x": null,
            "overflow_y": null,
            "padding": null,
            "right": null,
            "top": null,
            "visibility": null,
            "width": null
          }
        },
        "4e1f5452a022493aafb77a2bfdcc2b41": {
          "model_module": "@jupyter-widgets/controls",
          "model_module_version": "1.5.0",
          "model_name": "DescriptionStyleModel",
          "state": {
            "_model_module": "@jupyter-widgets/controls",
            "_model_module_version": "1.5.0",
            "_model_name": "DescriptionStyleModel",
            "_view_count": null,
            "_view_module": "@jupyter-widgets/base",
            "_view_module_version": "1.2.0",
            "_view_name": "StyleView",
            "description_width": ""
          }
        },
        "5204ff9b49b8462495e1b848974b4ae6": {
          "model_module": "@jupyter-widgets/base",
          "model_module_version": "1.2.0",
          "model_name": "LayoutModel",
          "state": {
            "_model_module": "@jupyter-widgets/base",
            "_model_module_version": "1.2.0",
            "_model_name": "LayoutModel",
            "_view_count": null,
            "_view_module": "@jupyter-widgets/base",
            "_view_module_version": "1.2.0",
            "_view_name": "LayoutView",
            "align_content": null,
            "align_items": null,
            "align_self": null,
            "border": null,
            "bottom": null,
            "display": null,
            "flex": null,
            "flex_flow": null,
            "grid_area": null,
            "grid_auto_columns": null,
            "grid_auto_flow": null,
            "grid_auto_rows": null,
            "grid_column": null,
            "grid_gap": null,
            "grid_row": null,
            "grid_template_areas": null,
            "grid_template_columns": null,
            "grid_template_rows": null,
            "height": null,
            "justify_content": null,
            "justify_items": null,
            "left": null,
            "margin": null,
            "max_height": null,
            "max_width": null,
            "min_height": null,
            "min_width": null,
            "object_fit": null,
            "object_position": null,
            "order": null,
            "overflow": null,
            "overflow_x": null,
            "overflow_y": null,
            "padding": null,
            "right": null,
            "top": null,
            "visibility": null,
            "width": null
          }
        },
        "549d3acf3a2544f6936f0abedf1ef001": {
          "model_module": "@jupyter-widgets/base",
          "model_module_version": "1.2.0",
          "model_name": "LayoutModel",
          "state": {
            "_model_module": "@jupyter-widgets/base",
            "_model_module_version": "1.2.0",
            "_model_name": "LayoutModel",
            "_view_count": null,
            "_view_module": "@jupyter-widgets/base",
            "_view_module_version": "1.2.0",
            "_view_name": "LayoutView",
            "align_content": null,
            "align_items": null,
            "align_self": null,
            "border": null,
            "bottom": null,
            "display": null,
            "flex": null,
            "flex_flow": null,
            "grid_area": null,
            "grid_auto_columns": null,
            "grid_auto_flow": null,
            "grid_auto_rows": null,
            "grid_column": null,
            "grid_gap": null,
            "grid_row": null,
            "grid_template_areas": null,
            "grid_template_columns": null,
            "grid_template_rows": null,
            "height": null,
            "justify_content": null,
            "justify_items": null,
            "left": null,
            "margin": null,
            "max_height": null,
            "max_width": null,
            "min_height": null,
            "min_width": null,
            "object_fit": null,
            "object_position": null,
            "order": null,
            "overflow": null,
            "overflow_x": null,
            "overflow_y": null,
            "padding": null,
            "right": null,
            "top": null,
            "visibility": null,
            "width": null
          }
        },
        "54be1d3445754f978d7325afa0e89e24": {
          "model_module": "@jupyter-widgets/base",
          "model_module_version": "1.2.0",
          "model_name": "LayoutModel",
          "state": {
            "_model_module": "@jupyter-widgets/base",
            "_model_module_version": "1.2.0",
            "_model_name": "LayoutModel",
            "_view_count": null,
            "_view_module": "@jupyter-widgets/base",
            "_view_module_version": "1.2.0",
            "_view_name": "LayoutView",
            "align_content": null,
            "align_items": null,
            "align_self": null,
            "border": null,
            "bottom": null,
            "display": null,
            "flex": null,
            "flex_flow": null,
            "grid_area": null,
            "grid_auto_columns": null,
            "grid_auto_flow": null,
            "grid_auto_rows": null,
            "grid_column": null,
            "grid_gap": null,
            "grid_row": null,
            "grid_template_areas": null,
            "grid_template_columns": null,
            "grid_template_rows": null,
            "height": null,
            "justify_content": null,
            "justify_items": null,
            "left": null,
            "margin": null,
            "max_height": null,
            "max_width": null,
            "min_height": null,
            "min_width": null,
            "object_fit": null,
            "object_position": null,
            "order": null,
            "overflow": null,
            "overflow_x": null,
            "overflow_y": null,
            "padding": null,
            "right": null,
            "top": null,
            "visibility": null,
            "width": null
          }
        },
        "5b6f56da02d945b5b4158b7df59c0600": {
          "model_module": "@jupyter-widgets/base",
          "model_module_version": "1.2.0",
          "model_name": "LayoutModel",
          "state": {
            "_model_module": "@jupyter-widgets/base",
            "_model_module_version": "1.2.0",
            "_model_name": "LayoutModel",
            "_view_count": null,
            "_view_module": "@jupyter-widgets/base",
            "_view_module_version": "1.2.0",
            "_view_name": "LayoutView",
            "align_content": null,
            "align_items": null,
            "align_self": null,
            "border": null,
            "bottom": null,
            "display": null,
            "flex": null,
            "flex_flow": null,
            "grid_area": null,
            "grid_auto_columns": null,
            "grid_auto_flow": null,
            "grid_auto_rows": null,
            "grid_column": null,
            "grid_gap": null,
            "grid_row": null,
            "grid_template_areas": null,
            "grid_template_columns": null,
            "grid_template_rows": null,
            "height": null,
            "justify_content": null,
            "justify_items": null,
            "left": null,
            "margin": null,
            "max_height": null,
            "max_width": null,
            "min_height": null,
            "min_width": null,
            "object_fit": null,
            "object_position": null,
            "order": null,
            "overflow": null,
            "overflow_x": null,
            "overflow_y": null,
            "padding": null,
            "right": null,
            "top": null,
            "visibility": null,
            "width": null
          }
        },
        "5ed8527a98c6452fb09956441f20a212": {
          "model_module": "@jupyter-widgets/controls",
          "model_module_version": "1.5.0",
          "model_name": "DescriptionStyleModel",
          "state": {
            "_model_module": "@jupyter-widgets/controls",
            "_model_module_version": "1.5.0",
            "_model_name": "DescriptionStyleModel",
            "_view_count": null,
            "_view_module": "@jupyter-widgets/base",
            "_view_module_version": "1.2.0",
            "_view_name": "StyleView",
            "description_width": ""
          }
        },
        "5f82f86b648b4f408492c1f71d1b78b2": {
          "model_module": "@jupyter-widgets/controls",
          "model_module_version": "1.5.0",
          "model_name": "FloatProgressModel",
          "state": {
            "_dom_classes": [],
            "_model_module": "@jupyter-widgets/controls",
            "_model_module_version": "1.5.0",
            "_model_name": "FloatProgressModel",
            "_view_count": null,
            "_view_module": "@jupyter-widgets/controls",
            "_view_module_version": "1.5.0",
            "_view_name": "ProgressView",
            "bar_style": "success",
            "description": "",
            "description_tooltip": null,
            "layout": "IPY_MODEL_c274aaecbd484625ad28dbbbb8205d78",
            "max": 90895153,
            "min": 0,
            "orientation": "horizontal",
            "style": "IPY_MODEL_1381da271d77483e8fcf9552bef15213",
            "value": 90895153
          }
        },
        "6188045131bd45c9b8b6a05658bf8249": {
          "model_module": "@jupyter-widgets/controls",
          "model_module_version": "1.5.0",
          "model_name": "ProgressStyleModel",
          "state": {
            "_model_module": "@jupyter-widgets/controls",
            "_model_module_version": "1.5.0",
            "_model_name": "ProgressStyleModel",
            "_view_count": null,
            "_view_module": "@jupyter-widgets/base",
            "_view_module_version": "1.2.0",
            "_view_name": "StyleView",
            "bar_color": null,
            "description_width": ""
          }
        },
        "622808a5faa446c4b2da7ae2061e24b9": {
          "model_module": "@jupyter-widgets/base",
          "model_module_version": "1.2.0",
          "model_name": "LayoutModel",
          "state": {
            "_model_module": "@jupyter-widgets/base",
            "_model_module_version": "1.2.0",
            "_model_name": "LayoutModel",
            "_view_count": null,
            "_view_module": "@jupyter-widgets/base",
            "_view_module_version": "1.2.0",
            "_view_name": "LayoutView",
            "align_content": null,
            "align_items": null,
            "align_self": null,
            "border": null,
            "bottom": null,
            "display": null,
            "flex": null,
            "flex_flow": null,
            "grid_area": null,
            "grid_auto_columns": null,
            "grid_auto_flow": null,
            "grid_auto_rows": null,
            "grid_column": null,
            "grid_gap": null,
            "grid_row": null,
            "grid_template_areas": null,
            "grid_template_columns": null,
            "grid_template_rows": null,
            "height": null,
            "justify_content": null,
            "justify_items": null,
            "left": null,
            "margin": null,
            "max_height": null,
            "max_width": null,
            "min_height": null,
            "min_width": null,
            "object_fit": null,
            "object_position": null,
            "order": null,
            "overflow": null,
            "overflow_x": null,
            "overflow_y": null,
            "padding": null,
            "right": null,
            "top": null,
            "visibility": null,
            "width": null
          }
        },
        "65fc715ce0534b6fa675edb028910e5b": {
          "model_module": "@jupyter-widgets/controls",
          "model_module_version": "1.5.0",
          "model_name": "HTMLModel",
          "state": {
            "_dom_classes": [],
            "_model_module": "@jupyter-widgets/controls",
            "_model_module_version": "1.5.0",
            "_model_name": "HTMLModel",
            "_view_count": null,
            "_view_module": "@jupyter-widgets/controls",
            "_view_module_version": "1.5.0",
            "_view_name": "HTMLView",
            "description": "",
            "description_tooltip": null,
            "layout": "IPY_MODEL_f5c3d0bbc9bf4ed1801a1d461e233b2f",
            "placeholder": "​",
            "style": "IPY_MODEL_6d6e1a2496a34e4fa8d7ee8b6247ba2d",
            "value": " 53.0/53.0 [00:00&lt;00:00, 1.62kB/s]"
          }
        },
        "67babccdccd549afb67e6820e229d0a1": {
          "model_module": "@jupyter-widgets/controls",
          "model_module_version": "1.5.0",
          "model_name": "ProgressStyleModel",
          "state": {
            "_model_module": "@jupyter-widgets/controls",
            "_model_module_version": "1.5.0",
            "_model_name": "ProgressStyleModel",
            "_view_count": null,
            "_view_module": "@jupyter-widgets/base",
            "_view_module_version": "1.2.0",
            "_view_name": "StyleView",
            "bar_color": null,
            "description_width": ""
          }
        },
        "6bddeed4d29d48e8bc3b333030277bfe": {
          "model_module": "@jupyter-widgets/controls",
          "model_module_version": "1.5.0",
          "model_name": "DescriptionStyleModel",
          "state": {
            "_model_module": "@jupyter-widgets/controls",
            "_model_module_version": "1.5.0",
            "_model_name": "DescriptionStyleModel",
            "_view_count": null,
            "_view_module": "@jupyter-widgets/base",
            "_view_module_version": "1.2.0",
            "_view_name": "StyleView",
            "description_width": ""
          }
        },
        "6c45207c64a84c4a9bf631276c950161": {
          "model_module": "@jupyter-widgets/controls",
          "model_module_version": "1.5.0",
          "model_name": "FloatProgressModel",
          "state": {
            "_dom_classes": [],
            "_model_module": "@jupyter-widgets/controls",
            "_model_module_version": "1.5.0",
            "_model_name": "FloatProgressModel",
            "_view_count": null,
            "_view_module": "@jupyter-widgets/controls",
            "_view_module_version": "1.5.0",
            "_view_name": "ProgressView",
            "bar_style": "success",
            "description": "",
            "description_tooltip": null,
            "layout": "IPY_MODEL_c61ec7c172074bd2a296706330b918bd",
            "max": 112,
            "min": 0,
            "orientation": "horizontal",
            "style": "IPY_MODEL_6dcd4414ca5846289a8034957418b6f3",
            "value": 112
          }
        },
        "6d6e1a2496a34e4fa8d7ee8b6247ba2d": {
          "model_module": "@jupyter-widgets/controls",
          "model_module_version": "1.5.0",
          "model_name": "DescriptionStyleModel",
          "state": {
            "_model_module": "@jupyter-widgets/controls",
            "_model_module_version": "1.5.0",
            "_model_name": "DescriptionStyleModel",
            "_view_count": null,
            "_view_module": "@jupyter-widgets/base",
            "_view_module_version": "1.2.0",
            "_view_name": "StyleView",
            "description_width": ""
          }
        },
        "6dcd4414ca5846289a8034957418b6f3": {
          "model_module": "@jupyter-widgets/controls",
          "model_module_version": "1.5.0",
          "model_name": "ProgressStyleModel",
          "state": {
            "_model_module": "@jupyter-widgets/controls",
            "_model_module_version": "1.5.0",
            "_model_name": "ProgressStyleModel",
            "_view_count": null,
            "_view_module": "@jupyter-widgets/base",
            "_view_module_version": "1.2.0",
            "_view_name": "StyleView",
            "bar_color": null,
            "description_width": ""
          }
        },
        "6e91150505ba4f5db6795da3286437c1": {
          "model_module": "@jupyter-widgets/base",
          "model_module_version": "1.2.0",
          "model_name": "LayoutModel",
          "state": {
            "_model_module": "@jupyter-widgets/base",
            "_model_module_version": "1.2.0",
            "_model_name": "LayoutModel",
            "_view_count": null,
            "_view_module": "@jupyter-widgets/base",
            "_view_module_version": "1.2.0",
            "_view_name": "LayoutView",
            "align_content": null,
            "align_items": null,
            "align_self": null,
            "border": null,
            "bottom": null,
            "display": null,
            "flex": null,
            "flex_flow": null,
            "grid_area": null,
            "grid_auto_columns": null,
            "grid_auto_flow": null,
            "grid_auto_rows": null,
            "grid_column": null,
            "grid_gap": null,
            "grid_row": null,
            "grid_template_areas": null,
            "grid_template_columns": null,
            "grid_template_rows": null,
            "height": null,
            "justify_content": null,
            "justify_items": null,
            "left": null,
            "margin": null,
            "max_height": null,
            "max_width": null,
            "min_height": null,
            "min_width": null,
            "object_fit": null,
            "object_position": null,
            "order": null,
            "overflow": null,
            "overflow_x": null,
            "overflow_y": null,
            "padding": null,
            "right": null,
            "top": null,
            "visibility": null,
            "width": null
          }
        },
        "6ff2a1a200ec4bf19b124cab03b02a68": {
          "model_module": "@jupyter-widgets/base",
          "model_module_version": "1.2.0",
          "model_name": "LayoutModel",
          "state": {
            "_model_module": "@jupyter-widgets/base",
            "_model_module_version": "1.2.0",
            "_model_name": "LayoutModel",
            "_view_count": null,
            "_view_module": "@jupyter-widgets/base",
            "_view_module_version": "1.2.0",
            "_view_name": "LayoutView",
            "align_content": null,
            "align_items": null,
            "align_self": null,
            "border": null,
            "bottom": null,
            "display": null,
            "flex": null,
            "flex_flow": null,
            "grid_area": null,
            "grid_auto_columns": null,
            "grid_auto_flow": null,
            "grid_auto_rows": null,
            "grid_column": null,
            "grid_gap": null,
            "grid_row": null,
            "grid_template_areas": null,
            "grid_template_columns": null,
            "grid_template_rows": null,
            "height": null,
            "justify_content": null,
            "justify_items": null,
            "left": null,
            "margin": null,
            "max_height": null,
            "max_width": null,
            "min_height": null,
            "min_width": null,
            "object_fit": null,
            "object_position": null,
            "order": null,
            "overflow": null,
            "overflow_x": null,
            "overflow_y": null,
            "padding": null,
            "right": null,
            "top": null,
            "visibility": null,
            "width": null
          }
        },
        "74a3b4627d574458ab21911c4b224dd7": {
          "model_module": "@jupyter-widgets/controls",
          "model_module_version": "1.5.0",
          "model_name": "HTMLModel",
          "state": {
            "_dom_classes": [],
            "_model_module": "@jupyter-widgets/controls",
            "_model_module_version": "1.5.0",
            "_model_name": "HTMLModel",
            "_view_count": null,
            "_view_module": "@jupyter-widgets/controls",
            "_view_module_version": "1.5.0",
            "_view_name": "HTMLView",
            "description": "",
            "description_tooltip": null,
            "layout": "IPY_MODEL_549d3acf3a2544f6936f0abedf1ef001",
            "placeholder": "​",
            "style": "IPY_MODEL_4e1f5452a022493aafb77a2bfdcc2b41",
            "value": " 112/112 [00:00&lt;00:00, 4.77kB/s]"
          }
        },
        "75277bfbf800472694ac66377f887b13": {
          "model_module": "@jupyter-widgets/controls",
          "model_module_version": "1.5.0",
          "model_name": "DescriptionStyleModel",
          "state": {
            "_model_module": "@jupyter-widgets/controls",
            "_model_module_version": "1.5.0",
            "_model_name": "DescriptionStyleModel",
            "_view_count": null,
            "_view_module": "@jupyter-widgets/base",
            "_view_module_version": "1.2.0",
            "_view_name": "StyleView",
            "description_width": ""
          }
        },
        "762bc1696c474a0db3ebd7529f013cd9": {
          "model_module": "@jupyter-widgets/controls",
          "model_module_version": "1.5.0",
          "model_name": "HTMLModel",
          "state": {
            "_dom_classes": [],
            "_model_module": "@jupyter-widgets/controls",
            "_model_module_version": "1.5.0",
            "_model_name": "HTMLModel",
            "_view_count": null,
            "_view_module": "@jupyter-widgets/controls",
            "_view_module_version": "1.5.0",
            "_view_name": "HTMLView",
            "description": "",
            "description_tooltip": null,
            "layout": "IPY_MODEL_4b1363a9fb8b40b798497f059572904d",
            "placeholder": "​",
            "style": "IPY_MODEL_ddad32aaeaca4550a5a1a44696b19d1c",
            "value": "tokenizer_config.json: 100%"
          }
        },
        "7b100fd4bd2e4109bfa7ba6a2fb4b841": {
          "model_module": "@jupyter-widgets/controls",
          "model_module_version": "1.5.0",
          "model_name": "FloatProgressModel",
          "state": {
            "_dom_classes": [],
            "_model_module": "@jupyter-widgets/controls",
            "_model_module_version": "1.5.0",
            "_model_name": "FloatProgressModel",
            "_view_count": null,
            "_view_module": "@jupyter-widgets/controls",
            "_view_module_version": "1.5.0",
            "_view_name": "ProgressView",
            "bar_style": "success",
            "description": "",
            "description_tooltip": null,
            "layout": "IPY_MODEL_8a90a4a750bc46c1a86c9b83e766bfff",
            "max": 629,
            "min": 0,
            "orientation": "horizontal",
            "style": "IPY_MODEL_6188045131bd45c9b8b6a05658bf8249",
            "value": 629
          }
        },
        "7b55069b62cf41f5b8ffb00802a76e4c": {
          "model_module": "@jupyter-widgets/base",
          "model_module_version": "1.2.0",
          "model_name": "LayoutModel",
          "state": {
            "_model_module": "@jupyter-widgets/base",
            "_model_module_version": "1.2.0",
            "_model_name": "LayoutModel",
            "_view_count": null,
            "_view_module": "@jupyter-widgets/base",
            "_view_module_version": "1.2.0",
            "_view_name": "LayoutView",
            "align_content": null,
            "align_items": null,
            "align_self": null,
            "border": null,
            "bottom": null,
            "display": null,
            "flex": null,
            "flex_flow": null,
            "grid_area": null,
            "grid_auto_columns": null,
            "grid_auto_flow": null,
            "grid_auto_rows": null,
            "grid_column": null,
            "grid_gap": null,
            "grid_row": null,
            "grid_template_areas": null,
            "grid_template_columns": null,
            "grid_template_rows": null,
            "height": null,
            "justify_content": null,
            "justify_items": null,
            "left": null,
            "margin": null,
            "max_height": null,
            "max_width": null,
            "min_height": null,
            "min_width": null,
            "object_fit": null,
            "object_position": null,
            "order": null,
            "overflow": null,
            "overflow_x": null,
            "overflow_y": null,
            "padding": null,
            "right": null,
            "top": null,
            "visibility": null,
            "width": null
          }
        },
        "7b6adc6672fd4d1484f4f7915d769b25": {
          "model_module": "@jupyter-widgets/base",
          "model_module_version": "1.2.0",
          "model_name": "LayoutModel",
          "state": {
            "_model_module": "@jupyter-widgets/base",
            "_model_module_version": "1.2.0",
            "_model_name": "LayoutModel",
            "_view_count": null,
            "_view_module": "@jupyter-widgets/base",
            "_view_module_version": "1.2.0",
            "_view_name": "LayoutView",
            "align_content": null,
            "align_items": null,
            "align_self": null,
            "border": null,
            "bottom": null,
            "display": null,
            "flex": null,
            "flex_flow": null,
            "grid_area": null,
            "grid_auto_columns": null,
            "grid_auto_flow": null,
            "grid_auto_rows": null,
            "grid_column": null,
            "grid_gap": null,
            "grid_row": null,
            "grid_template_areas": null,
            "grid_template_columns": null,
            "grid_template_rows": null,
            "height": null,
            "justify_content": null,
            "justify_items": null,
            "left": null,
            "margin": null,
            "max_height": null,
            "max_width": null,
            "min_height": null,
            "min_width": null,
            "object_fit": null,
            "object_position": null,
            "order": null,
            "overflow": null,
            "overflow_x": null,
            "overflow_y": null,
            "padding": null,
            "right": null,
            "top": null,
            "visibility": null,
            "width": null
          }
        },
        "7d292ae22cf542428f690382c7e1c98c": {
          "model_module": "@jupyter-widgets/controls",
          "model_module_version": "1.5.0",
          "model_name": "HTMLModel",
          "state": {
            "_dom_classes": [],
            "_model_module": "@jupyter-widgets/controls",
            "_model_module_version": "1.5.0",
            "_model_name": "HTMLModel",
            "_view_count": null,
            "_view_module": "@jupyter-widgets/controls",
            "_view_module_version": "1.5.0",
            "_view_name": "HTMLView",
            "description": "",
            "description_tooltip": null,
            "layout": "IPY_MODEL_06473623aaec4780b466495f13f58910",
            "placeholder": "​",
            "style": "IPY_MODEL_75277bfbf800472694ac66377f887b13",
            "value": " 466k/466k [00:00&lt;00:00, 6.90MB/s]"
          }
        },
        "7f5b2132304c437a84e8df2722169ce6": {
          "model_module": "@jupyter-widgets/controls",
          "model_module_version": "1.5.0",
          "model_name": "HTMLModel",
          "state": {
            "_dom_classes": [],
            "_model_module": "@jupyter-widgets/controls",
            "_model_module_version": "1.5.0",
            "_model_name": "HTMLModel",
            "_view_count": null,
            "_view_module": "@jupyter-widgets/controls",
            "_view_module_version": "1.5.0",
            "_view_name": "HTMLView",
            "description": "",
            "description_tooltip": null,
            "layout": "IPY_MODEL_ea1041e0e1e840328b0306043f74e92e",
            "placeholder": "​",
            "style": "IPY_MODEL_15f76d604a364902a1ada9d0a378dfd8",
            "value": "tokenizer.json: 100%"
          }
        },
        "7fbae76ebea64a2db9326fa29530dcfc": {
          "model_module": "@jupyter-widgets/base",
          "model_module_version": "1.2.0",
          "model_name": "LayoutModel",
          "state": {
            "_model_module": "@jupyter-widgets/base",
            "_model_module_version": "1.2.0",
            "_model_name": "LayoutModel",
            "_view_count": null,
            "_view_module": "@jupyter-widgets/base",
            "_view_module_version": "1.2.0",
            "_view_name": "LayoutView",
            "align_content": null,
            "align_items": null,
            "align_self": null,
            "border": null,
            "bottom": null,
            "display": null,
            "flex": null,
            "flex_flow": null,
            "grid_area": null,
            "grid_auto_columns": null,
            "grid_auto_flow": null,
            "grid_auto_rows": null,
            "grid_column": null,
            "grid_gap": null,
            "grid_row": null,
            "grid_template_areas": null,
            "grid_template_columns": null,
            "grid_template_rows": null,
            "height": null,
            "justify_content": null,
            "justify_items": null,
            "left": null,
            "margin": null,
            "max_height": null,
            "max_width": null,
            "min_height": null,
            "min_width": null,
            "object_fit": null,
            "object_position": null,
            "order": null,
            "overflow": null,
            "overflow_x": null,
            "overflow_y": null,
            "padding": null,
            "right": null,
            "top": null,
            "visibility": null,
            "width": null
          }
        },
        "8041b085887c4cc49265df0bbc2beba4": {
          "model_module": "@jupyter-widgets/controls",
          "model_module_version": "1.5.0",
          "model_name": "DescriptionStyleModel",
          "state": {
            "_model_module": "@jupyter-widgets/controls",
            "_model_module_version": "1.5.0",
            "_model_name": "DescriptionStyleModel",
            "_view_count": null,
            "_view_module": "@jupyter-widgets/base",
            "_view_module_version": "1.2.0",
            "_view_name": "StyleView",
            "description_width": ""
          }
        },
        "80c0a6a368124d9580ae4fa433f02764": {
          "model_module": "@jupyter-widgets/base",
          "model_module_version": "1.2.0",
          "model_name": "LayoutModel",
          "state": {
            "_model_module": "@jupyter-widgets/base",
            "_model_module_version": "1.2.0",
            "_model_name": "LayoutModel",
            "_view_count": null,
            "_view_module": "@jupyter-widgets/base",
            "_view_module_version": "1.2.0",
            "_view_name": "LayoutView",
            "align_content": null,
            "align_items": null,
            "align_self": null,
            "border": null,
            "bottom": null,
            "display": null,
            "flex": null,
            "flex_flow": null,
            "grid_area": null,
            "grid_auto_columns": null,
            "grid_auto_flow": null,
            "grid_auto_rows": null,
            "grid_column": null,
            "grid_gap": null,
            "grid_row": null,
            "grid_template_areas": null,
            "grid_template_columns": null,
            "grid_template_rows": null,
            "height": null,
            "justify_content": null,
            "justify_items": null,
            "left": null,
            "margin": null,
            "max_height": null,
            "max_width": null,
            "min_height": null,
            "min_width": null,
            "object_fit": null,
            "object_position": null,
            "order": null,
            "overflow": null,
            "overflow_x": null,
            "overflow_y": null,
            "padding": null,
            "right": null,
            "top": null,
            "visibility": null,
            "width": null
          }
        },
        "87e69e34ed5e4da0b7d978d67f34eed3": {
          "model_module": "@jupyter-widgets/base",
          "model_module_version": "1.2.0",
          "model_name": "LayoutModel",
          "state": {
            "_model_module": "@jupyter-widgets/base",
            "_model_module_version": "1.2.0",
            "_model_name": "LayoutModel",
            "_view_count": null,
            "_view_module": "@jupyter-widgets/base",
            "_view_module_version": "1.2.0",
            "_view_name": "LayoutView",
            "align_content": null,
            "align_items": null,
            "align_self": null,
            "border": null,
            "bottom": null,
            "display": null,
            "flex": null,
            "flex_flow": null,
            "grid_area": null,
            "grid_auto_columns": null,
            "grid_auto_flow": null,
            "grid_auto_rows": null,
            "grid_column": null,
            "grid_gap": null,
            "grid_row": null,
            "grid_template_areas": null,
            "grid_template_columns": null,
            "grid_template_rows": null,
            "height": null,
            "justify_content": null,
            "justify_items": null,
            "left": null,
            "margin": null,
            "max_height": null,
            "max_width": null,
            "min_height": null,
            "min_width": null,
            "object_fit": null,
            "object_position": null,
            "order": null,
            "overflow": null,
            "overflow_x": null,
            "overflow_y": null,
            "padding": null,
            "right": null,
            "top": null,
            "visibility": null,
            "width": null
          }
        },
        "8a90a4a750bc46c1a86c9b83e766bfff": {
          "model_module": "@jupyter-widgets/base",
          "model_module_version": "1.2.0",
          "model_name": "LayoutModel",
          "state": {
            "_model_module": "@jupyter-widgets/base",
            "_model_module_version": "1.2.0",
            "_model_name": "LayoutModel",
            "_view_count": null,
            "_view_module": "@jupyter-widgets/base",
            "_view_module_version": "1.2.0",
            "_view_name": "LayoutView",
            "align_content": null,
            "align_items": null,
            "align_self": null,
            "border": null,
            "bottom": null,
            "display": null,
            "flex": null,
            "flex_flow": null,
            "grid_area": null,
            "grid_auto_columns": null,
            "grid_auto_flow": null,
            "grid_auto_rows": null,
            "grid_column": null,
            "grid_gap": null,
            "grid_row": null,
            "grid_template_areas": null,
            "grid_template_columns": null,
            "grid_template_rows": null,
            "height": null,
            "justify_content": null,
            "justify_items": null,
            "left": null,
            "margin": null,
            "max_height": null,
            "max_width": null,
            "min_height": null,
            "min_width": null,
            "object_fit": null,
            "object_position": null,
            "order": null,
            "overflow": null,
            "overflow_x": null,
            "overflow_y": null,
            "padding": null,
            "right": null,
            "top": null,
            "visibility": null,
            "width": null
          }
        },
        "8b3fb52702984fd6bf74ee8ab6e88aeb": {
          "model_module": "@jupyter-widgets/controls",
          "model_module_version": "1.5.0",
          "model_name": "HTMLModel",
          "state": {
            "_dom_classes": [],
            "_model_module": "@jupyter-widgets/controls",
            "_model_module_version": "1.5.0",
            "_model_name": "HTMLModel",
            "_view_count": null,
            "_view_module": "@jupyter-widgets/controls",
            "_view_module_version": "1.5.0",
            "_view_name": "HTMLView",
            "description": "",
            "description_tooltip": null,
            "layout": "IPY_MODEL_ada80970b37c40338fdf9fdc00b806d0",
            "placeholder": "​",
            "style": "IPY_MODEL_6bddeed4d29d48e8bc3b333030277bfe",
            "value": " 629/629 [00:00&lt;00:00, 22.6kB/s]"
          }
        },
        "8ba09ac828954701bba30dd5e9b3b7be": {
          "model_module": "@jupyter-widgets/controls",
          "model_module_version": "1.5.0",
          "model_name": "ProgressStyleModel",
          "state": {
            "_model_module": "@jupyter-widgets/controls",
            "_model_module_version": "1.5.0",
            "_model_name": "ProgressStyleModel",
            "_view_count": null,
            "_view_module": "@jupyter-widgets/base",
            "_view_module_version": "1.2.0",
            "_view_name": "StyleView",
            "bar_color": null,
            "description_width": ""
          }
        },
        "8c18e8582c5c4c53a9fdaa031a2cbe4d": {
          "model_module": "@jupyter-widgets/base",
          "model_module_version": "1.2.0",
          "model_name": "LayoutModel",
          "state": {
            "_model_module": "@jupyter-widgets/base",
            "_model_module_version": "1.2.0",
            "_model_name": "LayoutModel",
            "_view_count": null,
            "_view_module": "@jupyter-widgets/base",
            "_view_module_version": "1.2.0",
            "_view_name": "LayoutView",
            "align_content": null,
            "align_items": null,
            "align_self": null,
            "border": null,
            "bottom": null,
            "display": null,
            "flex": null,
            "flex_flow": null,
            "grid_area": null,
            "grid_auto_columns": null,
            "grid_auto_flow": null,
            "grid_auto_rows": null,
            "grid_column": null,
            "grid_gap": null,
            "grid_row": null,
            "grid_template_areas": null,
            "grid_template_columns": null,
            "grid_template_rows": null,
            "height": null,
            "justify_content": null,
            "justify_items": null,
            "left": null,
            "margin": null,
            "max_height": null,
            "max_width": null,
            "min_height": null,
            "min_width": null,
            "object_fit": null,
            "object_position": null,
            "order": null,
            "overflow": null,
            "overflow_x": null,
            "overflow_y": null,
            "padding": null,
            "right": null,
            "top": null,
            "visibility": null,
            "width": null
          }
        },
        "8c1c31b285904356a5a6c699f38cf816": {
          "model_module": "@jupyter-widgets/controls",
          "model_module_version": "1.5.0",
          "model_name": "HTMLModel",
          "state": {
            "_dom_classes": [],
            "_model_module": "@jupyter-widgets/controls",
            "_model_module_version": "1.5.0",
            "_model_name": "HTMLModel",
            "_view_count": null,
            "_view_module": "@jupyter-widgets/controls",
            "_view_module_version": "1.5.0",
            "_view_name": "HTMLView",
            "description": "",
            "description_tooltip": null,
            "layout": "IPY_MODEL_dcea77c5206c47f0ac000b4597afd9d6",
            "placeholder": "​",
            "style": "IPY_MODEL_f54f358affca4be0a7ebeb14ddf1ea7a",
            "value": " 314/314 [00:00&lt;00:00, 14.8kB/s]"
          }
        },
        "8c7760b40ed64b73a18f939c37fe4aef": {
          "model_module": "@jupyter-widgets/controls",
          "model_module_version": "1.5.0",
          "model_name": "FloatProgressModel",
          "state": {
            "_dom_classes": [],
            "_model_module": "@jupyter-widgets/controls",
            "_model_module_version": "1.5.0",
            "_model_name": "FloatProgressModel",
            "_view_count": null,
            "_view_module": "@jupyter-widgets/controls",
            "_view_module_version": "1.5.0",
            "_view_name": "ProgressView",
            "bar_style": "success",
            "description": "",
            "description_tooltip": null,
            "layout": "IPY_MODEL_3b66d31ff24a4030af500952fad86da7",
            "max": 466081,
            "min": 0,
            "orientation": "horizontal",
            "style": "IPY_MODEL_f96b2bc4c8aa40a7b5227867637f2465",
            "value": 466081
          }
        },
        "8ceb7535a6bd4ee9900588e5ecc2b575": {
          "model_module": "@jupyter-widgets/controls",
          "model_module_version": "1.5.0",
          "model_name": "FloatProgressModel",
          "state": {
            "_dom_classes": [],
            "_model_module": "@jupyter-widgets/controls",
            "_model_module_version": "1.5.0",
            "_model_name": "FloatProgressModel",
            "_view_count": null,
            "_view_module": "@jupyter-widgets/controls",
            "_view_module_version": "1.5.0",
            "_view_name": "ProgressView",
            "bar_style": "success",
            "description": "",
            "description_tooltip": null,
            "layout": "IPY_MODEL_6e91150505ba4f5db6795da3286437c1",
            "max": 314,
            "min": 0,
            "orientation": "horizontal",
            "style": "IPY_MODEL_47e6f6afbbc14a3abf8bbe59acd2136e",
            "value": 314
          }
        },
        "8d73f3475f1d4352ab22712429e885b5": {
          "model_module": "@jupyter-widgets/controls",
          "model_module_version": "1.5.0",
          "model_name": "DescriptionStyleModel",
          "state": {
            "_model_module": "@jupyter-widgets/controls",
            "_model_module_version": "1.5.0",
            "_model_name": "DescriptionStyleModel",
            "_view_count": null,
            "_view_module": "@jupyter-widgets/base",
            "_view_module_version": "1.2.0",
            "_view_name": "StyleView",
            "description_width": ""
          }
        },
        "93e1350002e74323920bf882b08356ad": {
          "model_module": "@jupyter-widgets/controls",
          "model_module_version": "1.5.0",
          "model_name": "DescriptionStyleModel",
          "state": {
            "_model_module": "@jupyter-widgets/controls",
            "_model_module_version": "1.5.0",
            "_model_name": "DescriptionStyleModel",
            "_view_count": null,
            "_view_module": "@jupyter-widgets/base",
            "_view_module_version": "1.2.0",
            "_view_name": "StyleView",
            "description_width": ""
          }
        },
        "95594247e50540f6a28648e1c7984c2a": {
          "model_module": "@jupyter-widgets/controls",
          "model_module_version": "1.5.0",
          "model_name": "FloatProgressModel",
          "state": {
            "_dom_classes": [],
            "_model_module": "@jupyter-widgets/controls",
            "_model_module_version": "1.5.0",
            "_model_name": "FloatProgressModel",
            "_view_count": null,
            "_view_module": "@jupyter-widgets/controls",
            "_view_module_version": "1.5.0",
            "_view_name": "ProgressView",
            "bar_style": "success",
            "description": "",
            "description_tooltip": null,
            "layout": "IPY_MODEL_a60f16b117af4f4ea49d6d697e1fa800",
            "max": 231508,
            "min": 0,
            "orientation": "horizontal",
            "style": "IPY_MODEL_e3d68279283a4ce3b75029b427ec0c45",
            "value": 231508
          }
        },
        "96b11445972449a8b842e1c94833de04": {
          "model_module": "@jupyter-widgets/controls",
          "model_module_version": "1.5.0",
          "model_name": "HTMLModel",
          "state": {
            "_dom_classes": [],
            "_model_module": "@jupyter-widgets/controls",
            "_model_module_version": "1.5.0",
            "_model_name": "HTMLModel",
            "_view_count": null,
            "_view_module": "@jupyter-widgets/controls",
            "_view_module_version": "1.5.0",
            "_view_name": "HTMLView",
            "description": "",
            "description_tooltip": null,
            "layout": "IPY_MODEL_c971a957850b49bbae88da4aaf82ff2e",
            "placeholder": "​",
            "style": "IPY_MODEL_3874f5fc7eb143ed99aae7d296895a39",
            "value": "pytorch_model.bin: 100%"
          }
        },
        "9af321c5cec14142a7cffc2d3563a315": {
          "model_module": "@jupyter-widgets/base",
          "model_module_version": "1.2.0",
          "model_name": "LayoutModel",
          "state": {
            "_model_module": "@jupyter-widgets/base",
            "_model_module_version": "1.2.0",
            "_model_name": "LayoutModel",
            "_view_count": null,
            "_view_module": "@jupyter-widgets/base",
            "_view_module_version": "1.2.0",
            "_view_name": "LayoutView",
            "align_content": null,
            "align_items": null,
            "align_self": null,
            "border": null,
            "bottom": null,
            "display": null,
            "flex": null,
            "flex_flow": null,
            "grid_area": null,
            "grid_auto_columns": null,
            "grid_auto_flow": null,
            "grid_auto_rows": null,
            "grid_column": null,
            "grid_gap": null,
            "grid_row": null,
            "grid_template_areas": null,
            "grid_template_columns": null,
            "grid_template_rows": null,
            "height": null,
            "justify_content": null,
            "justify_items": null,
            "left": null,
            "margin": null,
            "max_height": null,
            "max_width": null,
            "min_height": null,
            "min_width": null,
            "object_fit": null,
            "object_position": null,
            "order": null,
            "overflow": null,
            "overflow_x": null,
            "overflow_y": null,
            "padding": null,
            "right": null,
            "top": null,
            "visibility": null,
            "width": null
          }
        },
        "9de09591ed1d4d7fa3711466e01428ae": {
          "model_module": "@jupyter-widgets/controls",
          "model_module_version": "1.5.0",
          "model_name": "HBoxModel",
          "state": {
            "_dom_classes": [],
            "_model_module": "@jupyter-widgets/controls",
            "_model_module_version": "1.5.0",
            "_model_name": "HBoxModel",
            "_view_count": null,
            "_view_module": "@jupyter-widgets/controls",
            "_view_module_version": "1.5.0",
            "_view_name": "HBoxView",
            "box_style": "",
            "children": [
              "IPY_MODEL_335f272aed51405eaec8de230063bea3",
              "IPY_MODEL_03715ba9a06b49798a4fa0639bcba951",
              "IPY_MODEL_af0936866d6a492fb7db07794bb983fe"
            ],
            "layout": "IPY_MODEL_80c0a6a368124d9580ae4fa433f02764"
          }
        },
        "a60f16b117af4f4ea49d6d697e1fa800": {
          "model_module": "@jupyter-widgets/base",
          "model_module_version": "1.2.0",
          "model_name": "LayoutModel",
          "state": {
            "_model_module": "@jupyter-widgets/base",
            "_model_module_version": "1.2.0",
            "_model_name": "LayoutModel",
            "_view_count": null,
            "_view_module": "@jupyter-widgets/base",
            "_view_module_version": "1.2.0",
            "_view_name": "LayoutView",
            "align_content": null,
            "align_items": null,
            "align_self": null,
            "border": null,
            "bottom": null,
            "display": null,
            "flex": null,
            "flex_flow": null,
            "grid_area": null,
            "grid_auto_columns": null,
            "grid_auto_flow": null,
            "grid_auto_rows": null,
            "grid_column": null,
            "grid_gap": null,
            "grid_row": null,
            "grid_template_areas": null,
            "grid_template_columns": null,
            "grid_template_rows": null,
            "height": null,
            "justify_content": null,
            "justify_items": null,
            "left": null,
            "margin": null,
            "max_height": null,
            "max_width": null,
            "min_height": null,
            "min_width": null,
            "object_fit": null,
            "object_position": null,
            "order": null,
            "overflow": null,
            "overflow_x": null,
            "overflow_y": null,
            "padding": null,
            "right": null,
            "top": null,
            "visibility": null,
            "width": null
          }
        },
        "a68649fd8b9f4f60852158db49553894": {
          "model_module": "@jupyter-widgets/controls",
          "model_module_version": "1.5.0",
          "model_name": "ProgressStyleModel",
          "state": {
            "_model_module": "@jupyter-widgets/controls",
            "_model_module_version": "1.5.0",
            "_model_name": "ProgressStyleModel",
            "_view_count": null,
            "_view_module": "@jupyter-widgets/base",
            "_view_module_version": "1.2.0",
            "_view_name": "StyleView",
            "bar_color": null,
            "description_width": ""
          }
        },
        "a837f72d0b354286b797c67b60216606": {
          "model_module": "@jupyter-widgets/base",
          "model_module_version": "1.2.0",
          "model_name": "LayoutModel",
          "state": {
            "_model_module": "@jupyter-widgets/base",
            "_model_module_version": "1.2.0",
            "_model_name": "LayoutModel",
            "_view_count": null,
            "_view_module": "@jupyter-widgets/base",
            "_view_module_version": "1.2.0",
            "_view_name": "LayoutView",
            "align_content": null,
            "align_items": null,
            "align_self": null,
            "border": null,
            "bottom": null,
            "display": null,
            "flex": null,
            "flex_flow": null,
            "grid_area": null,
            "grid_auto_columns": null,
            "grid_auto_flow": null,
            "grid_auto_rows": null,
            "grid_column": null,
            "grid_gap": null,
            "grid_row": null,
            "grid_template_areas": null,
            "grid_template_columns": null,
            "grid_template_rows": null,
            "height": null,
            "justify_content": null,
            "justify_items": null,
            "left": null,
            "margin": null,
            "max_height": null,
            "max_width": null,
            "min_height": null,
            "min_width": null,
            "object_fit": null,
            "object_position": null,
            "order": null,
            "overflow": null,
            "overflow_x": null,
            "overflow_y": null,
            "padding": null,
            "right": null,
            "top": null,
            "visibility": null,
            "width": null
          }
        },
        "ad6af9bf839c4cfe8f9f3357f06bfc4f": {
          "model_module": "@jupyter-widgets/controls",
          "model_module_version": "1.5.0",
          "model_name": "DescriptionStyleModel",
          "state": {
            "_model_module": "@jupyter-widgets/controls",
            "_model_module_version": "1.5.0",
            "_model_name": "DescriptionStyleModel",
            "_view_count": null,
            "_view_module": "@jupyter-widgets/base",
            "_view_module_version": "1.2.0",
            "_view_name": "StyleView",
            "description_width": ""
          }
        },
        "ada80970b37c40338fdf9fdc00b806d0": {
          "model_module": "@jupyter-widgets/base",
          "model_module_version": "1.2.0",
          "model_name": "LayoutModel",
          "state": {
            "_model_module": "@jupyter-widgets/base",
            "_model_module_version": "1.2.0",
            "_model_name": "LayoutModel",
            "_view_count": null,
            "_view_module": "@jupyter-widgets/base",
            "_view_module_version": "1.2.0",
            "_view_name": "LayoutView",
            "align_content": null,
            "align_items": null,
            "align_self": null,
            "border": null,
            "bottom": null,
            "display": null,
            "flex": null,
            "flex_flow": null,
            "grid_area": null,
            "grid_auto_columns": null,
            "grid_auto_flow": null,
            "grid_auto_rows": null,
            "grid_column": null,
            "grid_gap": null,
            "grid_row": null,
            "grid_template_areas": null,
            "grid_template_columns": null,
            "grid_template_rows": null,
            "height": null,
            "justify_content": null,
            "justify_items": null,
            "left": null,
            "margin": null,
            "max_height": null,
            "max_width": null,
            "min_height": null,
            "min_width": null,
            "object_fit": null,
            "object_position": null,
            "order": null,
            "overflow": null,
            "overflow_x": null,
            "overflow_y": null,
            "padding": null,
            "right": null,
            "top": null,
            "visibility": null,
            "width": null
          }
        },
        "adf99b4ac7d442d9900d47f5fe02493e": {
          "model_module": "@jupyter-widgets/base",
          "model_module_version": "1.2.0",
          "model_name": "LayoutModel",
          "state": {
            "_model_module": "@jupyter-widgets/base",
            "_model_module_version": "1.2.0",
            "_model_name": "LayoutModel",
            "_view_count": null,
            "_view_module": "@jupyter-widgets/base",
            "_view_module_version": "1.2.0",
            "_view_name": "LayoutView",
            "align_content": null,
            "align_items": null,
            "align_self": null,
            "border": null,
            "bottom": null,
            "display": null,
            "flex": null,
            "flex_flow": null,
            "grid_area": null,
            "grid_auto_columns": null,
            "grid_auto_flow": null,
            "grid_auto_rows": null,
            "grid_column": null,
            "grid_gap": null,
            "grid_row": null,
            "grid_template_areas": null,
            "grid_template_columns": null,
            "grid_template_rows": null,
            "height": null,
            "justify_content": null,
            "justify_items": null,
            "left": null,
            "margin": null,
            "max_height": null,
            "max_width": null,
            "min_height": null,
            "min_width": null,
            "object_fit": null,
            "object_position": null,
            "order": null,
            "overflow": null,
            "overflow_x": null,
            "overflow_y": null,
            "padding": null,
            "right": null,
            "top": null,
            "visibility": null,
            "width": null
          }
        },
        "af0936866d6a492fb7db07794bb983fe": {
          "model_module": "@jupyter-widgets/controls",
          "model_module_version": "1.5.0",
          "model_name": "HTMLModel",
          "state": {
            "_dom_classes": [],
            "_model_module": "@jupyter-widgets/controls",
            "_model_module_version": "1.5.0",
            "_model_name": "HTMLModel",
            "_view_count": null,
            "_view_module": "@jupyter-widgets/controls",
            "_view_module_version": "1.5.0",
            "_view_name": "HTMLView",
            "description": "",
            "description_tooltip": null,
            "layout": "IPY_MODEL_c8c9e6f9d6544ce5b530e207be741807",
            "placeholder": "​",
            "style": "IPY_MODEL_5ed8527a98c6452fb09956441f20a212",
            "value": " 229/229 [00:00&lt;00:00, 7.94kB/s]"
          }
        },
        "b94302c8e3824068aa4d1eff965bfb8f": {
          "model_module": "@jupyter-widgets/controls",
          "model_module_version": "1.5.0",
          "model_name": "HTMLModel",
          "state": {
            "_dom_classes": [],
            "_model_module": "@jupyter-widgets/controls",
            "_model_module_version": "1.5.0",
            "_model_name": "HTMLModel",
            "_view_count": null,
            "_view_module": "@jupyter-widgets/controls",
            "_view_module_version": "1.5.0",
            "_view_name": "HTMLView",
            "description": "",
            "description_tooltip": null,
            "layout": "IPY_MODEL_098eeab23039432f9338f2768f4c4b84",
            "placeholder": "​",
            "style": "IPY_MODEL_baf880acd0e140c4974f64deb57450cc",
            "value": " 3.73k/3.73k [00:00&lt;00:00, 114kB/s]"
          }
        },
        "baf880acd0e140c4974f64deb57450cc": {
          "model_module": "@jupyter-widgets/controls",
          "model_module_version": "1.5.0",
          "model_name": "DescriptionStyleModel",
          "state": {
            "_model_module": "@jupyter-widgets/controls",
            "_model_module_version": "1.5.0",
            "_model_name": "DescriptionStyleModel",
            "_view_count": null,
            "_view_module": "@jupyter-widgets/base",
            "_view_module_version": "1.2.0",
            "_view_name": "StyleView",
            "description_width": ""
          }
        },
        "bf338ad36c89441ca6d24241d0c9d01b": {
          "model_module": "@jupyter-widgets/controls",
          "model_module_version": "1.5.0",
          "model_name": "HBoxModel",
          "state": {
            "_dom_classes": [],
            "_model_module": "@jupyter-widgets/controls",
            "_model_module_version": "1.5.0",
            "_model_name": "HBoxModel",
            "_view_count": null,
            "_view_module": "@jupyter-widgets/controls",
            "_view_module_version": "1.5.0",
            "_view_name": "HBoxView",
            "box_style": "",
            "children": [
              "IPY_MODEL_96b11445972449a8b842e1c94833de04",
              "IPY_MODEL_5f82f86b648b4f408492c1f71d1b78b2",
              "IPY_MODEL_401afe63815b4783a43cf0ea9e78d3f3"
            ],
            "layout": "IPY_MODEL_5204ff9b49b8462495e1b848974b4ae6"
          }
        },
        "bf64fb0da56248978f10cadd69232e2e": {
          "model_module": "@jupyter-widgets/controls",
          "model_module_version": "1.5.0",
          "model_name": "ProgressStyleModel",
          "state": {
            "_model_module": "@jupyter-widgets/controls",
            "_model_module_version": "1.5.0",
            "_model_name": "ProgressStyleModel",
            "_view_count": null,
            "_view_module": "@jupyter-widgets/base",
            "_view_module_version": "1.2.0",
            "_view_name": "StyleView",
            "bar_color": null,
            "description_width": ""
          }
        },
        "c1f770fc80584467a101eec541499997": {
          "model_module": "@jupyter-widgets/controls",
          "model_module_version": "1.5.0",
          "model_name": "HTMLModel",
          "state": {
            "_dom_classes": [],
            "_model_module": "@jupyter-widgets/controls",
            "_model_module_version": "1.5.0",
            "_model_name": "HTMLModel",
            "_view_count": null,
            "_view_module": "@jupyter-widgets/controls",
            "_view_module_version": "1.5.0",
            "_view_name": "HTMLView",
            "description": "",
            "description_tooltip": null,
            "layout": "IPY_MODEL_225fdc35c4424fe19f84f80328da5d40",
            "placeholder": "​",
            "style": "IPY_MODEL_07bd5125ecd247b7b62d5afbee233a37",
            "value": " 190/190 [00:00&lt;00:00, 6.73kB/s]"
          }
        },
        "c274aaecbd484625ad28dbbbb8205d78": {
          "model_module": "@jupyter-widgets/base",
          "model_module_version": "1.2.0",
          "model_name": "LayoutModel",
          "state": {
            "_model_module": "@jupyter-widgets/base",
            "_model_module_version": "1.2.0",
            "_model_name": "LayoutModel",
            "_view_count": null,
            "_view_module": "@jupyter-widgets/base",
            "_view_module_version": "1.2.0",
            "_view_name": "LayoutView",
            "align_content": null,
            "align_items": null,
            "align_self": null,
            "border": null,
            "bottom": null,
            "display": null,
            "flex": null,
            "flex_flow": null,
            "grid_area": null,
            "grid_auto_columns": null,
            "grid_auto_flow": null,
            "grid_auto_rows": null,
            "grid_column": null,
            "grid_gap": null,
            "grid_row": null,
            "grid_template_areas": null,
            "grid_template_columns": null,
            "grid_template_rows": null,
            "height": null,
            "justify_content": null,
            "justify_items": null,
            "left": null,
            "margin": null,
            "max_height": null,
            "max_width": null,
            "min_height": null,
            "min_width": null,
            "object_fit": null,
            "object_position": null,
            "order": null,
            "overflow": null,
            "overflow_x": null,
            "overflow_y": null,
            "padding": null,
            "right": null,
            "top": null,
            "visibility": null,
            "width": null
          }
        },
        "c3abab5007974eb7b7c4154ad115bcaa": {
          "model_module": "@jupyter-widgets/controls",
          "model_module_version": "1.5.0",
          "model_name": "HBoxModel",
          "state": {
            "_dom_classes": [],
            "_model_module": "@jupyter-widgets/controls",
            "_model_module_version": "1.5.0",
            "_model_name": "HBoxModel",
            "_view_count": null,
            "_view_module": "@jupyter-widgets/controls",
            "_view_module_version": "1.5.0",
            "_view_name": "HBoxView",
            "box_style": "",
            "children": [
              "IPY_MODEL_24960bfed8e145cda6683493c6531ae8",
              "IPY_MODEL_6c45207c64a84c4a9bf631276c950161",
              "IPY_MODEL_74a3b4627d574458ab21911c4b224dd7"
            ],
            "layout": "IPY_MODEL_d111dd7062d74c0c8c5f93657afb53ef"
          }
        },
        "c5ce2e69f140489a94dabad352c70210": {
          "model_module": "@jupyter-widgets/controls",
          "model_module_version": "1.5.0",
          "model_name": "DescriptionStyleModel",
          "state": {
            "_model_module": "@jupyter-widgets/controls",
            "_model_module_version": "1.5.0",
            "_model_name": "DescriptionStyleModel",
            "_view_count": null,
            "_view_module": "@jupyter-widgets/base",
            "_view_module_version": "1.2.0",
            "_view_name": "StyleView",
            "description_width": ""
          }
        },
        "c61ec7c172074bd2a296706330b918bd": {
          "model_module": "@jupyter-widgets/base",
          "model_module_version": "1.2.0",
          "model_name": "LayoutModel",
          "state": {
            "_model_module": "@jupyter-widgets/base",
            "_model_module_version": "1.2.0",
            "_model_name": "LayoutModel",
            "_view_count": null,
            "_view_module": "@jupyter-widgets/base",
            "_view_module_version": "1.2.0",
            "_view_name": "LayoutView",
            "align_content": null,
            "align_items": null,
            "align_self": null,
            "border": null,
            "bottom": null,
            "display": null,
            "flex": null,
            "flex_flow": null,
            "grid_area": null,
            "grid_auto_columns": null,
            "grid_auto_flow": null,
            "grid_auto_rows": null,
            "grid_column": null,
            "grid_gap": null,
            "grid_row": null,
            "grid_template_areas": null,
            "grid_template_columns": null,
            "grid_template_rows": null,
            "height": null,
            "justify_content": null,
            "justify_items": null,
            "left": null,
            "margin": null,
            "max_height": null,
            "max_width": null,
            "min_height": null,
            "min_width": null,
            "object_fit": null,
            "object_position": null,
            "order": null,
            "overflow": null,
            "overflow_x": null,
            "overflow_y": null,
            "padding": null,
            "right": null,
            "top": null,
            "visibility": null,
            "width": null
          }
        },
        "c8c9e6f9d6544ce5b530e207be741807": {
          "model_module": "@jupyter-widgets/base",
          "model_module_version": "1.2.0",
          "model_name": "LayoutModel",
          "state": {
            "_model_module": "@jupyter-widgets/base",
            "_model_module_version": "1.2.0",
            "_model_name": "LayoutModel",
            "_view_count": null,
            "_view_module": "@jupyter-widgets/base",
            "_view_module_version": "1.2.0",
            "_view_name": "LayoutView",
            "align_content": null,
            "align_items": null,
            "align_self": null,
            "border": null,
            "bottom": null,
            "display": null,
            "flex": null,
            "flex_flow": null,
            "grid_area": null,
            "grid_auto_columns": null,
            "grid_auto_flow": null,
            "grid_auto_rows": null,
            "grid_column": null,
            "grid_gap": null,
            "grid_row": null,
            "grid_template_areas": null,
            "grid_template_columns": null,
            "grid_template_rows": null,
            "height": null,
            "justify_content": null,
            "justify_items": null,
            "left": null,
            "margin": null,
            "max_height": null,
            "max_width": null,
            "min_height": null,
            "min_width": null,
            "object_fit": null,
            "object_position": null,
            "order": null,
            "overflow": null,
            "overflow_x": null,
            "overflow_y": null,
            "padding": null,
            "right": null,
            "top": null,
            "visibility": null,
            "width": null
          }
        },
        "c971a957850b49bbae88da4aaf82ff2e": {
          "model_module": "@jupyter-widgets/base",
          "model_module_version": "1.2.0",
          "model_name": "LayoutModel",
          "state": {
            "_model_module": "@jupyter-widgets/base",
            "_model_module_version": "1.2.0",
            "_model_name": "LayoutModel",
            "_view_count": null,
            "_view_module": "@jupyter-widgets/base",
            "_view_module_version": "1.2.0",
            "_view_name": "LayoutView",
            "align_content": null,
            "align_items": null,
            "align_self": null,
            "border": null,
            "bottom": null,
            "display": null,
            "flex": null,
            "flex_flow": null,
            "grid_area": null,
            "grid_auto_columns": null,
            "grid_auto_flow": null,
            "grid_auto_rows": null,
            "grid_column": null,
            "grid_gap": null,
            "grid_row": null,
            "grid_template_areas": null,
            "grid_template_columns": null,
            "grid_template_rows": null,
            "height": null,
            "justify_content": null,
            "justify_items": null,
            "left": null,
            "margin": null,
            "max_height": null,
            "max_width": null,
            "min_height": null,
            "min_width": null,
            "object_fit": null,
            "object_position": null,
            "order": null,
            "overflow": null,
            "overflow_x": null,
            "overflow_y": null,
            "padding": null,
            "right": null,
            "top": null,
            "visibility": null,
            "width": null
          }
        },
        "cc2d3299969246b1a1e52785410a7cb9": {
          "model_module": "@jupyter-widgets/base",
          "model_module_version": "1.2.0",
          "model_name": "LayoutModel",
          "state": {
            "_model_module": "@jupyter-widgets/base",
            "_model_module_version": "1.2.0",
            "_model_name": "LayoutModel",
            "_view_count": null,
            "_view_module": "@jupyter-widgets/base",
            "_view_module_version": "1.2.0",
            "_view_name": "LayoutView",
            "align_content": null,
            "align_items": null,
            "align_self": null,
            "border": null,
            "bottom": null,
            "display": null,
            "flex": null,
            "flex_flow": null,
            "grid_area": null,
            "grid_auto_columns": null,
            "grid_auto_flow": null,
            "grid_auto_rows": null,
            "grid_column": null,
            "grid_gap": null,
            "grid_row": null,
            "grid_template_areas": null,
            "grid_template_columns": null,
            "grid_template_rows": null,
            "height": null,
            "justify_content": null,
            "justify_items": null,
            "left": null,
            "margin": null,
            "max_height": null,
            "max_width": null,
            "min_height": null,
            "min_width": null,
            "object_fit": null,
            "object_position": null,
            "order": null,
            "overflow": null,
            "overflow_x": null,
            "overflow_y": null,
            "padding": null,
            "right": null,
            "top": null,
            "visibility": null,
            "width": null
          }
        },
        "cd9b2eacfe1d4054a9111d300a012cb3": {
          "model_module": "@jupyter-widgets/base",
          "model_module_version": "1.2.0",
          "model_name": "LayoutModel",
          "state": {
            "_model_module": "@jupyter-widgets/base",
            "_model_module_version": "1.2.0",
            "_model_name": "LayoutModel",
            "_view_count": null,
            "_view_module": "@jupyter-widgets/base",
            "_view_module_version": "1.2.0",
            "_view_name": "LayoutView",
            "align_content": null,
            "align_items": null,
            "align_self": null,
            "border": null,
            "bottom": null,
            "display": null,
            "flex": null,
            "flex_flow": null,
            "grid_area": null,
            "grid_auto_columns": null,
            "grid_auto_flow": null,
            "grid_auto_rows": null,
            "grid_column": null,
            "grid_gap": null,
            "grid_row": null,
            "grid_template_areas": null,
            "grid_template_columns": null,
            "grid_template_rows": null,
            "height": null,
            "justify_content": null,
            "justify_items": null,
            "left": null,
            "margin": null,
            "max_height": null,
            "max_width": null,
            "min_height": null,
            "min_width": null,
            "object_fit": null,
            "object_position": null,
            "order": null,
            "overflow": null,
            "overflow_x": null,
            "overflow_y": null,
            "padding": null,
            "right": null,
            "top": null,
            "visibility": null,
            "width": null
          }
        },
        "ced1dc5ec513415ba5be80aa2842d01b": {
          "model_module": "@jupyter-widgets/base",
          "model_module_version": "1.2.0",
          "model_name": "LayoutModel",
          "state": {
            "_model_module": "@jupyter-widgets/base",
            "_model_module_version": "1.2.0",
            "_model_name": "LayoutModel",
            "_view_count": null,
            "_view_module": "@jupyter-widgets/base",
            "_view_module_version": "1.2.0",
            "_view_name": "LayoutView",
            "align_content": null,
            "align_items": null,
            "align_self": null,
            "border": null,
            "bottom": null,
            "display": null,
            "flex": null,
            "flex_flow": null,
            "grid_area": null,
            "grid_auto_columns": null,
            "grid_auto_flow": null,
            "grid_auto_rows": null,
            "grid_column": null,
            "grid_gap": null,
            "grid_row": null,
            "grid_template_areas": null,
            "grid_template_columns": null,
            "grid_template_rows": null,
            "height": null,
            "justify_content": null,
            "justify_items": null,
            "left": null,
            "margin": null,
            "max_height": null,
            "max_width": null,
            "min_height": null,
            "min_width": null,
            "object_fit": null,
            "object_position": null,
            "order": null,
            "overflow": null,
            "overflow_x": null,
            "overflow_y": null,
            "padding": null,
            "right": null,
            "top": null,
            "visibility": null,
            "width": null
          }
        },
        "cefc4219cbfe40eea56d4e3cf28cc781": {
          "model_module": "@jupyter-widgets/base",
          "model_module_version": "1.2.0",
          "model_name": "LayoutModel",
          "state": {
            "_model_module": "@jupyter-widgets/base",
            "_model_module_version": "1.2.0",
            "_model_name": "LayoutModel",
            "_view_count": null,
            "_view_module": "@jupyter-widgets/base",
            "_view_module_version": "1.2.0",
            "_view_name": "LayoutView",
            "align_content": null,
            "align_items": null,
            "align_self": null,
            "border": null,
            "bottom": null,
            "display": null,
            "flex": null,
            "flex_flow": null,
            "grid_area": null,
            "grid_auto_columns": null,
            "grid_auto_flow": null,
            "grid_auto_rows": null,
            "grid_column": null,
            "grid_gap": null,
            "grid_row": null,
            "grid_template_areas": null,
            "grid_template_columns": null,
            "grid_template_rows": null,
            "height": null,
            "justify_content": null,
            "justify_items": null,
            "left": null,
            "margin": null,
            "max_height": null,
            "max_width": null,
            "min_height": null,
            "min_width": null,
            "object_fit": null,
            "object_position": null,
            "order": null,
            "overflow": null,
            "overflow_x": null,
            "overflow_y": null,
            "padding": null,
            "right": null,
            "top": null,
            "visibility": null,
            "width": null
          }
        },
        "d111dd7062d74c0c8c5f93657afb53ef": {
          "model_module": "@jupyter-widgets/base",
          "model_module_version": "1.2.0",
          "model_name": "LayoutModel",
          "state": {
            "_model_module": "@jupyter-widgets/base",
            "_model_module_version": "1.2.0",
            "_model_name": "LayoutModel",
            "_view_count": null,
            "_view_module": "@jupyter-widgets/base",
            "_view_module_version": "1.2.0",
            "_view_name": "LayoutView",
            "align_content": null,
            "align_items": null,
            "align_self": null,
            "border": null,
            "bottom": null,
            "display": null,
            "flex": null,
            "flex_flow": null,
            "grid_area": null,
            "grid_auto_columns": null,
            "grid_auto_flow": null,
            "grid_auto_rows": null,
            "grid_column": null,
            "grid_gap": null,
            "grid_row": null,
            "grid_template_areas": null,
            "grid_template_columns": null,
            "grid_template_rows": null,
            "height": null,
            "justify_content": null,
            "justify_items": null,
            "left": null,
            "margin": null,
            "max_height": null,
            "max_width": null,
            "min_height": null,
            "min_width": null,
            "object_fit": null,
            "object_position": null,
            "order": null,
            "overflow": null,
            "overflow_x": null,
            "overflow_y": null,
            "padding": null,
            "right": null,
            "top": null,
            "visibility": null,
            "width": null
          }
        },
        "db01d27fec374c8e9ffb039d69f15340": {
          "model_module": "@jupyter-widgets/base",
          "model_module_version": "1.2.0",
          "model_name": "LayoutModel",
          "state": {
            "_model_module": "@jupyter-widgets/base",
            "_model_module_version": "1.2.0",
            "_model_name": "LayoutModel",
            "_view_count": null,
            "_view_module": "@jupyter-widgets/base",
            "_view_module_version": "1.2.0",
            "_view_name": "LayoutView",
            "align_content": null,
            "align_items": null,
            "align_self": null,
            "border": null,
            "bottom": null,
            "display": null,
            "flex": null,
            "flex_flow": null,
            "grid_area": null,
            "grid_auto_columns": null,
            "grid_auto_flow": null,
            "grid_auto_rows": null,
            "grid_column": null,
            "grid_gap": null,
            "grid_row": null,
            "grid_template_areas": null,
            "grid_template_columns": null,
            "grid_template_rows": null,
            "height": null,
            "justify_content": null,
            "justify_items": null,
            "left": null,
            "margin": null,
            "max_height": null,
            "max_width": null,
            "min_height": null,
            "min_width": null,
            "object_fit": null,
            "object_position": null,
            "order": null,
            "overflow": null,
            "overflow_x": null,
            "overflow_y": null,
            "padding": null,
            "right": null,
            "top": null,
            "visibility": null,
            "width": null
          }
        },
        "dcea77c5206c47f0ac000b4597afd9d6": {
          "model_module": "@jupyter-widgets/base",
          "model_module_version": "1.2.0",
          "model_name": "LayoutModel",
          "state": {
            "_model_module": "@jupyter-widgets/base",
            "_model_module_version": "1.2.0",
            "_model_name": "LayoutModel",
            "_view_count": null,
            "_view_module": "@jupyter-widgets/base",
            "_view_module_version": "1.2.0",
            "_view_name": "LayoutView",
            "align_content": null,
            "align_items": null,
            "align_self": null,
            "border": null,
            "bottom": null,
            "display": null,
            "flex": null,
            "flex_flow": null,
            "grid_area": null,
            "grid_auto_columns": null,
            "grid_auto_flow": null,
            "grid_auto_rows": null,
            "grid_column": null,
            "grid_gap": null,
            "grid_row": null,
            "grid_template_areas": null,
            "grid_template_columns": null,
            "grid_template_rows": null,
            "height": null,
            "justify_content": null,
            "justify_items": null,
            "left": null,
            "margin": null,
            "max_height": null,
            "max_width": null,
            "min_height": null,
            "min_width": null,
            "object_fit": null,
            "object_position": null,
            "order": null,
            "overflow": null,
            "overflow_x": null,
            "overflow_y": null,
            "padding": null,
            "right": null,
            "top": null,
            "visibility": null,
            "width": null
          }
        },
        "ddad32aaeaca4550a5a1a44696b19d1c": {
          "model_module": "@jupyter-widgets/controls",
          "model_module_version": "1.5.0",
          "model_name": "DescriptionStyleModel",
          "state": {
            "_model_module": "@jupyter-widgets/controls",
            "_model_module_version": "1.5.0",
            "_model_name": "DescriptionStyleModel",
            "_view_count": null,
            "_view_module": "@jupyter-widgets/base",
            "_view_module_version": "1.2.0",
            "_view_name": "StyleView",
            "description_width": ""
          }
        },
        "df55a58c899946edb961696d19905870": {
          "model_module": "@jupyter-widgets/base",
          "model_module_version": "1.2.0",
          "model_name": "LayoutModel",
          "state": {
            "_model_module": "@jupyter-widgets/base",
            "_model_module_version": "1.2.0",
            "_model_name": "LayoutModel",
            "_view_count": null,
            "_view_module": "@jupyter-widgets/base",
            "_view_module_version": "1.2.0",
            "_view_name": "LayoutView",
            "align_content": null,
            "align_items": null,
            "align_self": null,
            "border": null,
            "bottom": null,
            "display": null,
            "flex": null,
            "flex_flow": null,
            "grid_area": null,
            "grid_auto_columns": null,
            "grid_auto_flow": null,
            "grid_auto_rows": null,
            "grid_column": null,
            "grid_gap": null,
            "grid_row": null,
            "grid_template_areas": null,
            "grid_template_columns": null,
            "grid_template_rows": null,
            "height": null,
            "justify_content": null,
            "justify_items": null,
            "left": null,
            "margin": null,
            "max_height": null,
            "max_width": null,
            "min_height": null,
            "min_width": null,
            "object_fit": null,
            "object_position": null,
            "order": null,
            "overflow": null,
            "overflow_x": null,
            "overflow_y": null,
            "padding": null,
            "right": null,
            "top": null,
            "visibility": null,
            "width": null
          }
        },
        "e080f4447b6641c592abb717dd42a1be": {
          "model_module": "@jupyter-widgets/controls",
          "model_module_version": "1.5.0",
          "model_name": "ProgressStyleModel",
          "state": {
            "_model_module": "@jupyter-widgets/controls",
            "_model_module_version": "1.5.0",
            "_model_name": "ProgressStyleModel",
            "_view_count": null,
            "_view_module": "@jupyter-widgets/base",
            "_view_module_version": "1.2.0",
            "_view_name": "StyleView",
            "bar_color": null,
            "description_width": ""
          }
        },
        "e3d68279283a4ce3b75029b427ec0c45": {
          "model_module": "@jupyter-widgets/controls",
          "model_module_version": "1.5.0",
          "model_name": "ProgressStyleModel",
          "state": {
            "_model_module": "@jupyter-widgets/controls",
            "_model_module_version": "1.5.0",
            "_model_name": "ProgressStyleModel",
            "_view_count": null,
            "_view_module": "@jupyter-widgets/base",
            "_view_module_version": "1.2.0",
            "_view_name": "StyleView",
            "bar_color": null,
            "description_width": ""
          }
        },
        "e561828322fc4949812f23584f728d5b": {
          "model_module": "@jupyter-widgets/controls",
          "model_module_version": "1.5.0",
          "model_name": "DescriptionStyleModel",
          "state": {
            "_model_module": "@jupyter-widgets/controls",
            "_model_module_version": "1.5.0",
            "_model_name": "DescriptionStyleModel",
            "_view_count": null,
            "_view_module": "@jupyter-widgets/base",
            "_view_module_version": "1.2.0",
            "_view_name": "StyleView",
            "description_width": ""
          }
        },
        "e83af5b547b74ea0a8f0ed0a6409c6c1": {
          "model_module": "@jupyter-widgets/controls",
          "model_module_version": "1.5.0",
          "model_name": "HBoxModel",
          "state": {
            "_dom_classes": [],
            "_model_module": "@jupyter-widgets/controls",
            "_model_module_version": "1.5.0",
            "_model_name": "HBoxModel",
            "_view_count": null,
            "_view_module": "@jupyter-widgets/controls",
            "_view_module_version": "1.5.0",
            "_view_name": "HBoxView",
            "box_style": "",
            "children": [
              "IPY_MODEL_3abaeeae25d24d88b43fc288bb4204e8",
              "IPY_MODEL_95594247e50540f6a28648e1c7984c2a",
              "IPY_MODEL_4138df0427444de6aa52e467b7bc592b"
            ],
            "layout": "IPY_MODEL_f8ba809750b04005b09a758cc3ab7896"
          }
        },
        "ea1041e0e1e840328b0306043f74e92e": {
          "model_module": "@jupyter-widgets/base",
          "model_module_version": "1.2.0",
          "model_name": "LayoutModel",
          "state": {
            "_model_module": "@jupyter-widgets/base",
            "_model_module_version": "1.2.0",
            "_model_name": "LayoutModel",
            "_view_count": null,
            "_view_module": "@jupyter-widgets/base",
            "_view_module_version": "1.2.0",
            "_view_name": "LayoutView",
            "align_content": null,
            "align_items": null,
            "align_self": null,
            "border": null,
            "bottom": null,
            "display": null,
            "flex": null,
            "flex_flow": null,
            "grid_area": null,
            "grid_auto_columns": null,
            "grid_auto_flow": null,
            "grid_auto_rows": null,
            "grid_column": null,
            "grid_gap": null,
            "grid_row": null,
            "grid_template_areas": null,
            "grid_template_columns": null,
            "grid_template_rows": null,
            "height": null,
            "justify_content": null,
            "justify_items": null,
            "left": null,
            "margin": null,
            "max_height": null,
            "max_width": null,
            "min_height": null,
            "min_width": null,
            "object_fit": null,
            "object_position": null,
            "order": null,
            "overflow": null,
            "overflow_x": null,
            "overflow_y": null,
            "padding": null,
            "right": null,
            "top": null,
            "visibility": null,
            "width": null
          }
        },
        "ea44241bc2824461b98cf19003b23f58": {
          "model_module": "@jupyter-widgets/controls",
          "model_module_version": "1.5.0",
          "model_name": "HBoxModel",
          "state": {
            "_dom_classes": [],
            "_model_module": "@jupyter-widgets/controls",
            "_model_module_version": "1.5.0",
            "_model_name": "HBoxModel",
            "_view_count": null,
            "_view_module": "@jupyter-widgets/controls",
            "_view_module_version": "1.5.0",
            "_view_name": "HBoxView",
            "box_style": "",
            "children": [
              "IPY_MODEL_36bcfb519f57455ab1cf922defd46201",
              "IPY_MODEL_7b100fd4bd2e4109bfa7ba6a2fb4b841",
              "IPY_MODEL_8b3fb52702984fd6bf74ee8ab6e88aeb"
            ],
            "layout": "IPY_MODEL_a837f72d0b354286b797c67b60216606"
          }
        },
        "eb8c337ae090453eb4ea3ea6577783af": {
          "model_module": "@jupyter-widgets/controls",
          "model_module_version": "1.5.0",
          "model_name": "HTMLModel",
          "state": {
            "_dom_classes": [],
            "_model_module": "@jupyter-widgets/controls",
            "_model_module_version": "1.5.0",
            "_model_name": "HTMLModel",
            "_view_count": null,
            "_view_module": "@jupyter-widgets/controls",
            "_view_module_version": "1.5.0",
            "_view_name": "HTMLView",
            "description": "",
            "description_tooltip": null,
            "layout": "IPY_MODEL_ced1dc5ec513415ba5be80aa2842d01b",
            "placeholder": "​",
            "style": "IPY_MODEL_e561828322fc4949812f23584f728d5b",
            "value": "config_sentence_transformers.json: 100%"
          }
        },
        "ee1d5940f3954585a08e3e6b028d23ce": {
          "model_module": "@jupyter-widgets/controls",
          "model_module_version": "1.5.0",
          "model_name": "DescriptionStyleModel",
          "state": {
            "_model_module": "@jupyter-widgets/controls",
            "_model_module_version": "1.5.0",
            "_model_name": "DescriptionStyleModel",
            "_view_count": null,
            "_view_module": "@jupyter-widgets/base",
            "_view_module_version": "1.2.0",
            "_view_name": "StyleView",
            "description_width": ""
          }
        },
        "ee2d709e41044d2e83b8a4dbd6c18588": {
          "model_module": "@jupyter-widgets/controls",
          "model_module_version": "1.5.0",
          "model_name": "HBoxModel",
          "state": {
            "_dom_classes": [],
            "_model_module": "@jupyter-widgets/controls",
            "_model_module_version": "1.5.0",
            "_model_name": "HBoxModel",
            "_view_count": null,
            "_view_module": "@jupyter-widgets/controls",
            "_view_module_version": "1.5.0",
            "_view_name": "HBoxView",
            "box_style": "",
            "children": [
              "IPY_MODEL_7f5b2132304c437a84e8df2722169ce6",
              "IPY_MODEL_8c7760b40ed64b73a18f939c37fe4aef",
              "IPY_MODEL_7d292ae22cf542428f690382c7e1c98c"
            ],
            "layout": "IPY_MODEL_15d737f9be5c4625ba7a414e2cc792bb"
          }
        },
        "f53efc3568d54817868e1ed010b6a809": {
          "model_module": "@jupyter-widgets/controls",
          "model_module_version": "1.5.0",
          "model_name": "HTMLModel",
          "state": {
            "_dom_classes": [],
            "_model_module": "@jupyter-widgets/controls",
            "_model_module_version": "1.5.0",
            "_model_name": "HTMLModel",
            "_view_count": null,
            "_view_module": "@jupyter-widgets/controls",
            "_view_module_version": "1.5.0",
            "_view_name": "HTMLView",
            "description": "",
            "description_tooltip": null,
            "layout": "IPY_MODEL_df55a58c899946edb961696d19905870",
            "placeholder": "​",
            "style": "IPY_MODEL_1e0735952a7b433991118b0f5e6ff737",
            "value": " 122/122 [00:00&lt;00:00, 4.01kB/s]"
          }
        },
        "f54f358affca4be0a7ebeb14ddf1ea7a": {
          "model_module": "@jupyter-widgets/controls",
          "model_module_version": "1.5.0",
          "model_name": "DescriptionStyleModel",
          "state": {
            "_model_module": "@jupyter-widgets/controls",
            "_model_module_version": "1.5.0",
            "_model_name": "DescriptionStyleModel",
            "_view_count": null,
            "_view_module": "@jupyter-widgets/base",
            "_view_module_version": "1.2.0",
            "_view_name": "StyleView",
            "description_width": ""
          }
        },
        "f5c3d0bbc9bf4ed1801a1d461e233b2f": {
          "model_module": "@jupyter-widgets/base",
          "model_module_version": "1.2.0",
          "model_name": "LayoutModel",
          "state": {
            "_model_module": "@jupyter-widgets/base",
            "_model_module_version": "1.2.0",
            "_model_name": "LayoutModel",
            "_view_count": null,
            "_view_module": "@jupyter-widgets/base",
            "_view_module_version": "1.2.0",
            "_view_name": "LayoutView",
            "align_content": null,
            "align_items": null,
            "align_self": null,
            "border": null,
            "bottom": null,
            "display": null,
            "flex": null,
            "flex_flow": null,
            "grid_area": null,
            "grid_auto_columns": null,
            "grid_auto_flow": null,
            "grid_auto_rows": null,
            "grid_column": null,
            "grid_gap": null,
            "grid_row": null,
            "grid_template_areas": null,
            "grid_template_columns": null,
            "grid_template_rows": null,
            "height": null,
            "justify_content": null,
            "justify_items": null,
            "left": null,
            "margin": null,
            "max_height": null,
            "max_width": null,
            "min_height": null,
            "min_width": null,
            "object_fit": null,
            "object_position": null,
            "order": null,
            "overflow": null,
            "overflow_x": null,
            "overflow_y": null,
            "padding": null,
            "right": null,
            "top": null,
            "visibility": null,
            "width": null
          }
        },
        "f8ba809750b04005b09a758cc3ab7896": {
          "model_module": "@jupyter-widgets/base",
          "model_module_version": "1.2.0",
          "model_name": "LayoutModel",
          "state": {
            "_model_module": "@jupyter-widgets/base",
            "_model_module_version": "1.2.0",
            "_model_name": "LayoutModel",
            "_view_count": null,
            "_view_module": "@jupyter-widgets/base",
            "_view_module_version": "1.2.0",
            "_view_name": "LayoutView",
            "align_content": null,
            "align_items": null,
            "align_self": null,
            "border": null,
            "bottom": null,
            "display": null,
            "flex": null,
            "flex_flow": null,
            "grid_area": null,
            "grid_auto_columns": null,
            "grid_auto_flow": null,
            "grid_auto_rows": null,
            "grid_column": null,
            "grid_gap": null,
            "grid_row": null,
            "grid_template_areas": null,
            "grid_template_columns": null,
            "grid_template_rows": null,
            "height": null,
            "justify_content": null,
            "justify_items": null,
            "left": null,
            "margin": null,
            "max_height": null,
            "max_width": null,
            "min_height": null,
            "min_width": null,
            "object_fit": null,
            "object_position": null,
            "order": null,
            "overflow": null,
            "overflow_x": null,
            "overflow_y": null,
            "padding": null,
            "right": null,
            "top": null,
            "visibility": null,
            "width": null
          }
        },
        "f96b2bc4c8aa40a7b5227867637f2465": {
          "model_module": "@jupyter-widgets/controls",
          "model_module_version": "1.5.0",
          "model_name": "ProgressStyleModel",
          "state": {
            "_model_module": "@jupyter-widgets/controls",
            "_model_module_version": "1.5.0",
            "_model_name": "ProgressStyleModel",
            "_view_count": null,
            "_view_module": "@jupyter-widgets/base",
            "_view_module_version": "1.2.0",
            "_view_name": "StyleView",
            "bar_color": null,
            "description_width": ""
          }
        },
        "faecc0aab025479895d73097149bbae4": {
          "model_module": "@jupyter-widgets/controls",
          "model_module_version": "1.5.0",
          "model_name": "HBoxModel",
          "state": {
            "_dom_classes": [],
            "_model_module": "@jupyter-widgets/controls",
            "_model_module_version": "1.5.0",
            "_model_name": "HBoxModel",
            "_view_count": null,
            "_view_module": "@jupyter-widgets/controls",
            "_view_module_version": "1.5.0",
            "_view_name": "HBoxView",
            "box_style": "",
            "children": [
              "IPY_MODEL_04e95bf06f3f4c4b822608cbc0093cfd",
              "IPY_MODEL_fe1b87e0733f4cdb87683a2aa64d8fb0",
              "IPY_MODEL_b94302c8e3824068aa4d1eff965bfb8f"
            ],
            "layout": "IPY_MODEL_7fbae76ebea64a2db9326fa29530dcfc"
          }
        },
        "fe0da2963e894643867edac5463b026b": {
          "model_module": "@jupyter-widgets/controls",
          "model_module_version": "1.5.0",
          "model_name": "HBoxModel",
          "state": {
            "_dom_classes": [],
            "_model_module": "@jupyter-widgets/controls",
            "_model_module_version": "1.5.0",
            "_model_name": "HBoxModel",
            "_view_count": null,
            "_view_module": "@jupyter-widgets/controls",
            "_view_module_version": "1.5.0",
            "_view_name": "HBoxView",
            "box_style": "",
            "children": [
              "IPY_MODEL_eb8c337ae090453eb4ea3ea6577783af",
              "IPY_MODEL_237d74bc23114e2bbbd4cf5195d353a6",
              "IPY_MODEL_f53efc3568d54817868e1ed010b6a809"
            ],
            "layout": "IPY_MODEL_2ce57ea60b4a4b97865eee3945ee296c"
          }
        },
        "fe1b87e0733f4cdb87683a2aa64d8fb0": {
          "model_module": "@jupyter-widgets/controls",
          "model_module_version": "1.5.0",
          "model_name": "FloatProgressModel",
          "state": {
            "_dom_classes": [],
            "_model_module": "@jupyter-widgets/controls",
            "_model_module_version": "1.5.0",
            "_model_name": "FloatProgressModel",
            "_view_count": null,
            "_view_module": "@jupyter-widgets/controls",
            "_view_module_version": "1.5.0",
            "_view_name": "ProgressView",
            "bar_style": "success",
            "description": "",
            "description_tooltip": null,
            "layout": "IPY_MODEL_cefc4219cbfe40eea56d4e3cf28cc781",
            "max": 3729,
            "min": 0,
            "orientation": "horizontal",
            "style": "IPY_MODEL_67babccdccd549afb67e6820e229d0a1",
            "value": 3729
          }
        }
      }
    }
  },
  "nbformat": 4,
  "nbformat_minor": 0
}
